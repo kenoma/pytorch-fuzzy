{
 "cells": [
  {
   "cell_type": "code",
   "execution_count": 56,
   "metadata": {
    "scrolled": true
   },
   "outputs": [],
   "source": [
    "from dataclasses import dataclass\n",
    "from datetime import datetime\n",
    "\n",
    "import sklearn.metrics as metrics\n",
    "import pandas as pd\n",
    "import matplotlib.pyplot as plt\n",
    "import torch\n",
    "import torch.nn as nn\n",
    "import numpy as np \n",
    "import torch.nn.functional as F\n",
    "from torch.utils.tensorboard import SummaryWriter\n",
    "from torchvision import datasets, transforms\n",
    "from tqdm.auto import tqdm\n",
    "from torchfuzzy import FuzzyLayer, DefuzzyLinearLayer\n",
    "import os\n",
    "\n",
    "os.environ['CUDA_LAUNCH_BLOCKING']=\"1\"\n",
    "os.environ['TORCH_USE_CUDA_DSA'] = \"1\""
   ]
  },
  {
   "cell_type": "code",
   "execution_count": 1,
   "metadata": {},
   "outputs": [
    {
     "ename": "NameError",
     "evalue": "name 'SummaryWriter' is not defined",
     "output_type": "error",
     "traceback": [
      "\u001b[0;31m---------------------------------------------------------------------------\u001b[0m",
      "\u001b[0;31mNameError\u001b[0m                                 Traceback (most recent call last)",
      "Cell \u001b[0;32mIn [1], line 10\u001b[0m\n\u001b[1;32m      7\u001b[0m niter \u001b[38;5;241m=\u001b[39m \u001b[38;5;241m500\u001b[39m\n\u001b[1;32m      9\u001b[0m prefix \u001b[38;5;241m=\u001b[39m \u001b[38;5;124mf\u001b[39m\u001b[38;5;124m\"\u001b[39m\u001b[38;5;124mfuzzy_gan_anomaly_detection\u001b[39m\u001b[38;5;124m\"\u001b[39m\n\u001b[0;32m---> 10\u001b[0m writer \u001b[38;5;241m=\u001b[39m \u001b[43mSummaryWriter\u001b[49m(\u001b[38;5;124mf\u001b[39m\u001b[38;5;124m'\u001b[39m\u001b[38;5;124mruns/mnist/\u001b[39m\u001b[38;5;132;01m{\u001b[39;00mprefix\u001b[38;5;132;01m}\u001b[39;00m\u001b[38;5;124m_\u001b[39m\u001b[38;5;132;01m{\u001b[39;00mdatetime\u001b[38;5;241m.\u001b[39mnow()\u001b[38;5;241m.\u001b[39mstrftime(\u001b[38;5;124m\"\u001b[39m\u001b[38;5;124m%\u001b[39m\u001b[38;5;124mY\u001b[39m\u001b[38;5;124m%\u001b[39m\u001b[38;5;124mm\u001b[39m\u001b[38;5;132;01m%d\u001b[39;00m\u001b[38;5;124m-\u001b[39m\u001b[38;5;124m%\u001b[39m\u001b[38;5;124mH\u001b[39m\u001b[38;5;124m%\u001b[39m\u001b[38;5;124mM\u001b[39m\u001b[38;5;124m%\u001b[39m\u001b[38;5;124mS\u001b[39m\u001b[38;5;124m\"\u001b[39m)\u001b[38;5;132;01m}\u001b[39;00m\u001b[38;5;124m'\u001b[39m)\n\u001b[1;32m     11\u001b[0m device \u001b[38;5;241m=\u001b[39m torch\u001b[38;5;241m.\u001b[39mdevice(\u001b[38;5;124m'\u001b[39m\u001b[38;5;124mcuda\u001b[39m\u001b[38;5;124m'\u001b[39m \u001b[38;5;28;01mif\u001b[39;00m torch\u001b[38;5;241m.\u001b[39mcuda\u001b[38;5;241m.\u001b[39mis_available() \u001b[38;5;28;01melse\u001b[39;00m \u001b[38;5;124m'\u001b[39m\u001b[38;5;124mcpu\u001b[39m\u001b[38;5;124m'\u001b[39m)\n",
      "\u001b[0;31mNameError\u001b[0m: name 'SummaryWriter' is not defined"
     ]
    }
   ],
   "source": [
    "batch_size = 256\n",
    "\n",
    "nz = 100 \n",
    "ngf = 32 \n",
    "ngpu = 1\n",
    "\n",
    "niter = 500\n",
    "\n",
    "prefix = f\"fuzzy_gan_anomaly_detection\"\n",
    "writer = SummaryWriter(f'runs/mnist/{prefix}_{datetime.now().strftime(\"%Y%m%d-%H%M%S\")}')\n",
    "device = torch.device('cuda' if torch.cuda.is_available() else 'cpu')"
   ]
  },
  {
   "cell_type": "markdown",
   "metadata": {},
   "source": [
    "### Load MNIST"
   ]
  },
  {
   "cell_type": "code",
   "execution_count": 58,
   "metadata": {},
   "outputs": [],
   "source": [
    "transform = transforms.Compose([\n",
    "    transforms.ToTensor(), \n",
    "    transforms.Lambda(lambda x: x.view(-1, 28, 28) - 0.5),\n",
    "])"
   ]
  },
  {
   "cell_type": "code",
   "execution_count": 59,
   "metadata": {},
   "outputs": [],
   "source": [
    "def get_target_and_mask(target_label):\n",
    "    \"\"\"\n",
    "    Args:\n",
    "    \n",
    "    Returns:\n",
    "    \n",
    "    \"\"\"\n",
    "    \n",
    "    t = torch.zeros(10)\n",
    "    t[target_label] = 1.0\n",
    "    \n",
    "    return t.to(device) "
   ]
  },
  {
   "cell_type": "code",
   "execution_count": 60,
   "metadata": {},
   "outputs": [
    {
     "data": {
      "text/plain": [
       "60000"
      ]
     },
     "execution_count": 60,
     "metadata": {},
     "output_type": "execute_result"
    }
   ],
   "source": [
    "# загружаем обучающую выборку\n",
    "train_data = datasets.MNIST(\n",
    "    '~/.pytorch/MNIST_data/', \n",
    "    download=True, \n",
    "    train=True, \n",
    "    transform = transform,\n",
    "    target_transform = transforms.Lambda(lambda x: get_target_and_mask(x))\n",
    ")\n",
    "len(train_data)"
   ]
  },
  {
   "cell_type": "code",
   "execution_count": 61,
   "metadata": {},
   "outputs": [
    {
     "data": {
      "text/plain": [
       "10000"
      ]
     },
     "execution_count": 61,
     "metadata": {},
     "output_type": "execute_result"
    }
   ],
   "source": [
    "# загружаем тестовую выборку\n",
    "test_data = datasets.MNIST(\n",
    "    '~/.pytorch/MNIST_data/', \n",
    "    download=True, \n",
    "    train=False, \n",
    "    transform=transform, \n",
    "    target_transform = transforms.Lambda(lambda x: get_target_and_mask(x))\n",
    ")\n",
    "len(test_data)"
   ]
  },
  {
   "cell_type": "code",
   "execution_count": 62,
   "metadata": {},
   "outputs": [],
   "source": [
    "# Создаем итераторы датасетов\n",
    "train_loader = torch.utils.data.DataLoader(\n",
    "    train_data, \n",
    "    batch_size=batch_size, \n",
    "    shuffle=True\n",
    ")\n",
    "test_loader = torch.utils.data.DataLoader(\n",
    "    test_data, \n",
    "    batch_size=batch_size, \n",
    "    shuffle=False,\n",
    ")\n"
   ]
  },
  {
   "cell_type": "markdown",
   "metadata": {},
   "source": [
    "### Load EMNIST"
   ]
  },
  {
   "cell_type": "code",
   "execution_count": 63,
   "metadata": {},
   "outputs": [
    {
     "name": "stderr",
     "output_type": "stream",
     "text": [
      "/tmp/ipykernel_450267/58620865.py:13: UserWarning: To copy construct from a tensor, it is recommended to use sourceTensor.clone().detach() or sourceTensor.clone().detach().requires_grad_(True), rather than torch.tensor(sourceTensor).\n",
      "  emnist_x = [torch.tensor(emnist_transform(a), dtype=torch.float32, device=device) for a in emnist_x]\n"
     ]
    }
   ],
   "source": [
    "emnist_transform = transforms.Compose([\n",
    "    transforms.ToTensor(), \n",
    "    transforms.Lambda(lambda x: x.view(-1, 28, 28) - 0.5),\n",
    "])\n",
    "\n",
    "emnist_test = pd.read_csv(\"./data/EMNIST/emnist-letters.zip\")\n",
    "emnist_y = emnist_test[\"label\"]\n",
    "emnist_x = emnist_test.drop(labels = [\"label\"], axis = 1) \n",
    "del emnist_test \n",
    "\n",
    "emnist_x = emnist_x / 255.0\n",
    "emnist_x = emnist_x.values.reshape(-1, 28, 28)\n",
    "emnist_x = [torch.tensor(emnist_transform(a), dtype=torch.float32, device=device) for a in emnist_x]\n",
    "\n",
    "len(emnist_x)\n",
    "\n",
    "emnist_mapping = pd.read_csv(\"./data/EMNIST/emnist-letters-mapping.txt\", sep=' ', header=None)\n",
    "emnist_mapping.columns=(\"EMNIST\",\"UP\",\"LO\")\n",
    "emnist_mapping[\"Letter\"] = emnist_mapping.apply(lambda row: chr(row[\"UP\"])+chr(row[\"LO\"]), axis=1)\n",
    "emnist_mapping = dict(zip(emnist_mapping[\"EMNIST\"], emnist_mapping[\"Letter\"]))\n",
    "\n",
    "emnist_loader = torch.utils.data.DataLoader(\n",
    "    torch.utils.data.TensorDataset(torch.stack(emnist_x), torch.Tensor(np.array(emnist_y))), \n",
    "    batch_size=batch_size, \n",
    "    shuffle=False,\n",
    ")"
   ]
  },
  {
   "cell_type": "markdown",
   "metadata": {},
   "source": [
    "## DCGAN Model"
   ]
  },
  {
   "cell_type": "code",
   "execution_count": 64,
   "metadata": {},
   "outputs": [],
   "source": [
    "def weights_init(m):\n",
    "    classname = m.__class__.__name__\n",
    "    if classname.find('Conv') != -1:\n",
    "        m.weight.data.normal_(0.0, 0.02)\n",
    "    elif classname.find('BatchNorm') != -1:\n",
    "        m.weight.data.normal_(1.0, 0.02)\n",
    "        m.bias.data.fill_(0)"
   ]
  },
  {
   "cell_type": "code",
   "execution_count": 65,
   "metadata": {},
   "outputs": [
    {
     "name": "stdout",
     "output_type": "stream",
     "text": [
      "Number of parameters: 3,573,696\n",
      "Generator(\n",
      "  (main): Sequential(\n",
      "    (0): ConvTranspose2d(100, 512, kernel_size=(4, 4), stride=(1, 1), bias=False)\n",
      "    (1): BatchNorm2d(512, eps=1e-05, momentum=0.1, affine=True, track_running_stats=True)\n",
      "    (2): ReLU(inplace=True)\n",
      "    (3): ConvTranspose2d(512, 256, kernel_size=(4, 4), stride=(2, 2), padding=(1, 1), bias=False)\n",
      "    (4): BatchNorm2d(256, eps=1e-05, momentum=0.1, affine=True, track_running_stats=True)\n",
      "    (5): ReLU(inplace=True)\n",
      "    (6): ConvTranspose2d(256, 128, kernel_size=(4, 4), stride=(2, 2), padding=(1, 1), bias=False)\n",
      "    (7): BatchNorm2d(128, eps=1e-05, momentum=0.1, affine=True, track_running_stats=True)\n",
      "    (8): ReLU(inplace=True)\n",
      "    (9): ConvTranspose2d(128, 64, kernel_size=(4, 4), stride=(2, 2), padding=(1, 1), bias=False)\n",
      "    (10): BatchNorm2d(64, eps=1e-05, momentum=0.1, affine=True, track_running_stats=True)\n",
      "    (11): ReLU(inplace=True)\n",
      "    (12): ConvTranspose2d(64, 1, kernel_size=(1, 1), stride=(1, 1), padding=(2, 2), bias=False)\n",
      "    (13): Tanh()\n",
      "  )\n",
      ")\n"
     ]
    }
   ],
   "source": [
    "class Generator(nn.Module):\n",
    "    def __init__(self, ngpu, nc=1, nz=100, ngf=64):\n",
    "        super(Generator, self).__init__()\n",
    "        self.ngpu = ngpu\n",
    "        self.main = nn.Sequential(\n",
    "            # input is Z, going into a convolution\n",
    "            nn.ConvTranspose2d(     nz, ngf * 8, 4, 1, 0, bias=False),\n",
    "            nn.BatchNorm2d(ngf * 8),\n",
    "            nn.ReLU(True),\n",
    "            # state size. (ngf*8) x 4 x 4\n",
    "            nn.ConvTranspose2d(ngf * 8, ngf * 4, 4, 2, 1, bias=False),\n",
    "            nn.BatchNorm2d(ngf * 4),\n",
    "            nn.ReLU(True),\n",
    "            # state size. (ngf*4) x 8 x 8\n",
    "            nn.ConvTranspose2d(ngf * 4, ngf * 2, 4, 2, 1, bias=False),\n",
    "            nn.BatchNorm2d(ngf * 2),\n",
    "            nn.ReLU(True),\n",
    "            # state size. (ngf*2) x 16 x 16\n",
    "            nn.ConvTranspose2d(ngf * 2,     ngf, 4, 2, 1, bias=False),\n",
    "            nn.BatchNorm2d(ngf),\n",
    "            nn.ReLU(True),\n",
    "            nn.ConvTranspose2d(    ngf,      nc, kernel_size=1, stride=1, padding=2, bias=False),\n",
    "            nn.Tanh()\n",
    "        )\n",
    "\n",
    "    def forward(self, input):\n",
    "        if input.is_cuda and self.ngpu > 1:\n",
    "            output = nn.parallel.data_parallel(self.main, input, range(self.ngpu))\n",
    "        else:\n",
    "            output = self.main(input)\n",
    "        return output\n",
    "\n",
    "netG = Generator(ngpu).to(device)\n",
    "netG.apply(weights_init)\n",
    "num_params = sum(p.numel() for p in netG.parameters() if p.requires_grad)\n",
    "print(f'Number of parameters: {num_params:,}')\n",
    "#netG.load_state_dict(torch.load('weights/netG_epoch_99.pth'))\n",
    "print(netG)"
   ]
  },
  {
   "cell_type": "code",
   "execution_count": 66,
   "metadata": {},
   "outputs": [
    {
     "name": "stdout",
     "output_type": "stream",
     "text": [
      "Number of parameters: 660,896\n",
      "Discriminator(\n",
      "  (main): Sequential(\n",
      "    (0): Conv2d(1, 64, kernel_size=(4, 4), stride=(2, 2), padding=(1, 1), bias=False)\n",
      "    (1): LeakyReLU(negative_slope=0.2, inplace=True)\n",
      "    (2): Conv2d(64, 128, kernel_size=(4, 4), stride=(2, 2), padding=(1, 1), bias=False)\n",
      "    (3): BatchNorm2d(128, eps=1e-05, momentum=0.1, affine=True, track_running_stats=True)\n",
      "    (4): LeakyReLU(negative_slope=0.2, inplace=True)\n",
      "    (5): Conv2d(128, 256, kernel_size=(4, 4), stride=(2, 2), padding=(1, 1), bias=False)\n",
      "    (6): BatchNorm2d(256, eps=1e-05, momentum=0.1, affine=True, track_running_stats=True)\n",
      "    (7): LeakyReLU(negative_slope=0.2, inplace=True)\n",
      "    (8): Conv2d(256, 1, kernel_size=(2, 2), stride=(1, 1), padding=(1, 1), bias=False)\n",
      "    (9): Flatten(start_dim=1, end_dim=-1)\n",
      "  )\n",
      "  (real): Sequential(\n",
      "    (0): FuzzyLayer()\n",
      "  )\n",
      ")\n"
     ]
    }
   ],
   "source": [
    "class Discriminator(nn.Module):\n",
    "    def __init__(self, ngpu, ndf=64):\n",
    "        super(Discriminator, self).__init__()\n",
    "        self.ngpu = ngpu\n",
    "        self.main = nn.Sequential(\n",
    "            nn.Conv2d(1, ndf, 4, 2, 1, bias=False),\n",
    "            nn.LeakyReLU(0.2, inplace=True),\n",
    "            \n",
    "            nn.Conv2d(ndf, ndf * 2, 4, 2, 1, bias=False),\n",
    "            nn.BatchNorm2d(ndf * 2),\n",
    "            nn.LeakyReLU(0.2, inplace=True),\n",
    "            \n",
    "            nn.Conv2d(ndf * 2, ndf * 4, 4, 2, 1, bias=False),\n",
    "            nn.BatchNorm2d(ndf * 4),\n",
    "            nn.LeakyReLU(0.2, inplace=True),\n",
    "            \n",
    "            nn.Conv2d(ndf * 4, 1, 2, 1, 1, bias=False),\n",
    "            # nn.BatchNorm2d(1),\n",
    "            # nn.LeakyReLU(0.2, inplace=True),\n",
    "            # nn.Conv2d(1, 1, 2, 2, 0, bias=False),\n",
    "            # nn.BatchNorm2d(1),\n",
    "            # nn.LeakyReLU(0.2, inplace=True),\n",
    "            # nn.Conv2d(1, 1, 2, 2, 0, bias=False),\n",
    "            # nn.BatchNorm2d(1),\n",
    "            nn.Flatten(),\n",
    "            #FuzzyLayer.from_dimensions(9, 10),\n",
    "            #nn.Linear(9, 2),\n",
    "            #nn.BatchNorm1d(2),\n",
    "            #DefuzzyLinearLayer.from_dimensions(100, 1, with_norm=False)\n",
    "            \n",
    "            #DefuzzyLinearLayer.from_dimensions(20, 1, with_norm=False)\n",
    "            #nn.Conv2d(ndf * 4, 1, 4, 2, 1, bias=False),\n",
    "            #nn.Sigmoid()\n",
    "        )\n",
    "        self.real = nn.Sequential(\n",
    "            FuzzyLayer.from_dimensions(16, 10),\n",
    "            #nn.Linear(10, 1, bias=False)\n",
    "        )\n",
    "        \n",
    "    def forward(self, input):\n",
    "        if input.is_cuda and self.ngpu > 1:\n",
    "            output = nn.parallel.data_parallel(self.main, input, range(self.ngpu))\n",
    "            r = nn.parallel.data_parallel(self.real, output, range(self.ngpu))\n",
    "        else:\n",
    "            output = self.main(input)\n",
    "            r = self.real(output)\n",
    "            \n",
    "        sum = r.sum(dim = 1, keepdim=False)\n",
    "\n",
    "        return sum\n",
    "    \n",
    "    def arate(self, input):\n",
    "        if input.is_cuda and self.ngpu > 1:\n",
    "            output = nn.parallel.data_parallel(self.main, input, range(self.ngpu))\n",
    "            r = nn.parallel.data_parallel(self.real, output, range(self.ngpu))\n",
    "        else:\n",
    "            output = self.main(input)\n",
    "            r = self.real(output)\n",
    "        \n",
    "        sum = r.sum(dim = 1, keepdim=False)\n",
    "\n",
    "        return sum\n",
    "    \n",
    "\n",
    "netD = Discriminator(ngpu).to(device)\n",
    "netD.apply(weights_init)\n",
    "num_params = sum(p.numel() for p in netD.parameters() if p.requires_grad)\n",
    "print(f'Number of parameters: {num_params:,}')\n",
    "print(netD)"
   ]
  },
  {
   "cell_type": "code",
   "execution_count": 67,
   "metadata": {},
   "outputs": [
    {
     "data": {
      "text/plain": [
       "torch.Size([10])"
      ]
     },
     "execution_count": 67,
     "metadata": {},
     "output_type": "execute_result"
    }
   ],
   "source": [
    "inp = torch.rand(10, 1, 28, 28)\n",
    "dd = Discriminator(1)\n",
    "dd(inp).shape"
   ]
  },
  {
   "cell_type": "markdown",
   "metadata": {},
   "source": [
    "## Train"
   ]
  },
  {
   "cell_type": "code",
   "execution_count": 68,
   "metadata": {},
   "outputs": [],
   "source": [
    "optimizerD = torch.optim.Adam(netD.parameters(), lr=0.0002, betas=(0.5, 0.999))\n",
    "optimizerG = torch.optim.Adam(netG.parameters(), lr=0.0002, betas=(0.5, 0.999))\n",
    "\n",
    "fixed_noise = torch.randn(64, nz, 1, 1, device=device)"
   ]
  },
  {
   "cell_type": "code",
   "execution_count": 69,
   "metadata": {},
   "outputs": [],
   "source": [
    "def criterionDReal(predicted):\n",
    "    return torch.square(predicted - 1).mean()\n",
    "\n",
    "def criterionDFake(predicted):\n",
    "    return torch.square(predicted - 0.2).mean()\n",
    "    \n",
    "def criterionG(predicted, epoch):\n",
    "    return torch.square(predicted - 0.8).mean() #-cap_g.log().max()\n",
    "         #+ torch.square(predicted[:, fake_label] - 0.5).mean()#-torch.clamp(predicted, 0.0, 1.0).log().max()"
   ]
  },
  {
   "cell_type": "code",
   "execution_count": 70,
   "metadata": {},
   "outputs": [],
   "source": [
    "def get_test_arate_distr(D):\n",
    "    firing_levels = []\n",
    "    lab_true = []\n",
    "    lab_pred = []\n",
    "\n",
    "    with torch.no_grad():\n",
    "        for data, _ in tqdm(test_loader, desc='Test MNIST'):\n",
    "            data = data.view((-1,1,28,28)).to(device)\n",
    "            rates = D.arate(data)\n",
    "            firing_levels.append(rates.cpu().numpy())\n",
    "            \n",
    "\n",
    "    firing_levels = np.concatenate(firing_levels, axis=0)\n",
    "    for p in firing_levels:\n",
    "        lab_true.append(1)\n",
    "        lab_pred.append(p)\n",
    "\n",
    "    with torch.no_grad():\n",
    "        for data, labels in tqdm(emnist_loader, desc='Test EMNIST'):\n",
    "            data = data.view((-1, 1, 28, 28)).to(device) \n",
    "            arate = D.arate(data)\n",
    "            \n",
    "            for p in arate.cpu().numpy():\n",
    "                lab_true.append(0)\n",
    "                lab_pred.append(p)\n",
    "                \n",
    "    \n",
    "    fpr, tpr, threshold = metrics.roc_curve(lab_true, lab_pred)\n",
    "    roc_auc = metrics.auc(fpr, tpr)\n",
    "\n",
    "    return firing_levels, roc_auc"
   ]
  },
  {
   "cell_type": "code",
   "execution_count": 71,
   "metadata": {},
   "outputs": [
    {
     "data": {
      "application/vnd.jupyter.widget-view+json": {
       "model_id": "c9bd548828034685a61a5ce512ed7753",
       "version_major": 2,
       "version_minor": 0
      },
      "text/plain": [
       "Training:   0%|          | 0/235 [00:00<?, ?it/s]"
      ]
     },
     "metadata": {},
     "output_type": "display_data"
    },
    {
     "data": {
      "application/vnd.jupyter.widget-view+json": {
       "model_id": "ad700be2685c409fbd7839f2bfaaba84",
       "version_major": 2,
       "version_minor": 0
      },
      "text/plain": [
       "Test MNIST:   0%|          | 0/40 [00:00<?, ?it/s]"
      ]
     },
     "metadata": {},
     "output_type": "display_data"
    },
    {
     "data": {
      "application/vnd.jupyter.widget-view+json": {
       "model_id": "ee3f08eff6064c90a1048a04da4580ab",
       "version_major": 2,
       "version_minor": 0
      },
      "text/plain": [
       "Test EMNIST:   0%|          | 0/405 [00:00<?, ?it/s]"
      ]
     },
     "metadata": {},
     "output_type": "display_data"
    },
    {
     "name": "stdout",
     "output_type": "stream",
     "text": [
      "Epoch 0/100\n"
     ]
    },
    {
     "data": {
      "application/vnd.jupyter.widget-view+json": {
       "model_id": "6f763b97e998438d8ef26a37563f7e53",
       "version_major": 2,
       "version_minor": 0
      },
      "text/plain": [
       "Training:   0%|          | 0/235 [00:00<?, ?it/s]"
      ]
     },
     "metadata": {},
     "output_type": "display_data"
    },
    {
     "data": {
      "application/vnd.jupyter.widget-view+json": {
       "model_id": "6b03cce2b5384e96a627f89a34ba1e6a",
       "version_major": 2,
       "version_minor": 0
      },
      "text/plain": [
       "Test MNIST:   0%|          | 0/40 [00:00<?, ?it/s]"
      ]
     },
     "metadata": {},
     "output_type": "display_data"
    },
    {
     "data": {
      "application/vnd.jupyter.widget-view+json": {
       "model_id": "fed9d6f82a784b68807f75e37a60da49",
       "version_major": 2,
       "version_minor": 0
      },
      "text/plain": [
       "Test EMNIST:   0%|          | 0/405 [00:00<?, ?it/s]"
      ]
     },
     "metadata": {},
     "output_type": "display_data"
    },
    {
     "name": "stdout",
     "output_type": "stream",
     "text": [
      "Epoch 1/100\n"
     ]
    },
    {
     "data": {
      "application/vnd.jupyter.widget-view+json": {
       "model_id": "170bbdc1a67a48bd8ee5b646ec96eb84",
       "version_major": 2,
       "version_minor": 0
      },
      "text/plain": [
       "Training:   0%|          | 0/235 [00:00<?, ?it/s]"
      ]
     },
     "metadata": {},
     "output_type": "display_data"
    },
    {
     "data": {
      "application/vnd.jupyter.widget-view+json": {
       "model_id": "8824d6cebff54a07a9278f7eaa3ef176",
       "version_major": 2,
       "version_minor": 0
      },
      "text/plain": [
       "Test MNIST:   0%|          | 0/40 [00:00<?, ?it/s]"
      ]
     },
     "metadata": {},
     "output_type": "display_data"
    },
    {
     "data": {
      "application/vnd.jupyter.widget-view+json": {
       "model_id": "48fdc5ccc5e34dafbe631440fcf0136f",
       "version_major": 2,
       "version_minor": 0
      },
      "text/plain": [
       "Test EMNIST:   0%|          | 0/405 [00:00<?, ?it/s]"
      ]
     },
     "metadata": {},
     "output_type": "display_data"
    },
    {
     "name": "stdout",
     "output_type": "stream",
     "text": [
      "Epoch 2/100\n"
     ]
    },
    {
     "data": {
      "application/vnd.jupyter.widget-view+json": {
       "model_id": "70b31c37bc0049da96afdb06c1ce98d5",
       "version_major": 2,
       "version_minor": 0
      },
      "text/plain": [
       "Training:   0%|          | 0/235 [00:00<?, ?it/s]"
      ]
     },
     "metadata": {},
     "output_type": "display_data"
    },
    {
     "data": {
      "application/vnd.jupyter.widget-view+json": {
       "model_id": "1d5a34674e7645f29de7ff54f4989d24",
       "version_major": 2,
       "version_minor": 0
      },
      "text/plain": [
       "Test MNIST:   0%|          | 0/40 [00:00<?, ?it/s]"
      ]
     },
     "metadata": {},
     "output_type": "display_data"
    },
    {
     "data": {
      "application/vnd.jupyter.widget-view+json": {
       "model_id": "eeb02c5b40124af4a48eae6c2d6d60ab",
       "version_major": 2,
       "version_minor": 0
      },
      "text/plain": [
       "Test EMNIST:   0%|          | 0/405 [00:00<?, ?it/s]"
      ]
     },
     "metadata": {},
     "output_type": "display_data"
    },
    {
     "name": "stdout",
     "output_type": "stream",
     "text": [
      "Epoch 3/100\n"
     ]
    },
    {
     "data": {
      "application/vnd.jupyter.widget-view+json": {
       "model_id": "35e7f99835684f7d8b102f0b06f8ce6c",
       "version_major": 2,
       "version_minor": 0
      },
      "text/plain": [
       "Training:   0%|          | 0/235 [00:00<?, ?it/s]"
      ]
     },
     "metadata": {},
     "output_type": "display_data"
    },
    {
     "data": {
      "application/vnd.jupyter.widget-view+json": {
       "model_id": "cd54381d18344dc6a66dc362e1ea1f4d",
       "version_major": 2,
       "version_minor": 0
      },
      "text/plain": [
       "Test MNIST:   0%|          | 0/40 [00:00<?, ?it/s]"
      ]
     },
     "metadata": {},
     "output_type": "display_data"
    },
    {
     "data": {
      "application/vnd.jupyter.widget-view+json": {
       "model_id": "b5c3b8b5cb7542e791ababf51a1b7e2e",
       "version_major": 2,
       "version_minor": 0
      },
      "text/plain": [
       "Test EMNIST:   0%|          | 0/405 [00:00<?, ?it/s]"
      ]
     },
     "metadata": {},
     "output_type": "display_data"
    },
    {
     "name": "stdout",
     "output_type": "stream",
     "text": [
      "Epoch 4/100\n"
     ]
    },
    {
     "data": {
      "application/vnd.jupyter.widget-view+json": {
       "model_id": "36fc5c4c452a4ba68496101d42e80c43",
       "version_major": 2,
       "version_minor": 0
      },
      "text/plain": [
       "Training:   0%|          | 0/235 [00:00<?, ?it/s]"
      ]
     },
     "metadata": {},
     "output_type": "display_data"
    },
    {
     "data": {
      "application/vnd.jupyter.widget-view+json": {
       "model_id": "49e7eb14bbb54db4a5a97ea20930566d",
       "version_major": 2,
       "version_minor": 0
      },
      "text/plain": [
       "Test MNIST:   0%|          | 0/40 [00:00<?, ?it/s]"
      ]
     },
     "metadata": {},
     "output_type": "display_data"
    },
    {
     "data": {
      "application/vnd.jupyter.widget-view+json": {
       "model_id": "5469819bf46c4e50bb787394c1a0d9c4",
       "version_major": 2,
       "version_minor": 0
      },
      "text/plain": [
       "Test EMNIST:   0%|          | 0/405 [00:00<?, ?it/s]"
      ]
     },
     "metadata": {},
     "output_type": "display_data"
    },
    {
     "name": "stdout",
     "output_type": "stream",
     "text": [
      "Epoch 5/100\n"
     ]
    },
    {
     "data": {
      "application/vnd.jupyter.widget-view+json": {
       "model_id": "958f85d901b94a29afc427cfcbb02c46",
       "version_major": 2,
       "version_minor": 0
      },
      "text/plain": [
       "Training:   0%|          | 0/235 [00:00<?, ?it/s]"
      ]
     },
     "metadata": {},
     "output_type": "display_data"
    },
    {
     "data": {
      "application/vnd.jupyter.widget-view+json": {
       "model_id": "6b6c73996c4844bcb08fefb2a8589aa0",
       "version_major": 2,
       "version_minor": 0
      },
      "text/plain": [
       "Test MNIST:   0%|          | 0/40 [00:00<?, ?it/s]"
      ]
     },
     "metadata": {},
     "output_type": "display_data"
    },
    {
     "data": {
      "application/vnd.jupyter.widget-view+json": {
       "model_id": "8780a10381e8441d8eb4d5a445614c1a",
       "version_major": 2,
       "version_minor": 0
      },
      "text/plain": [
       "Test EMNIST:   0%|          | 0/405 [00:00<?, ?it/s]"
      ]
     },
     "metadata": {},
     "output_type": "display_data"
    },
    {
     "name": "stdout",
     "output_type": "stream",
     "text": [
      "Epoch 6/100\n"
     ]
    },
    {
     "data": {
      "application/vnd.jupyter.widget-view+json": {
       "model_id": "9d06701179624be09ba389e762d7205e",
       "version_major": 2,
       "version_minor": 0
      },
      "text/plain": [
       "Training:   0%|          | 0/235 [00:00<?, ?it/s]"
      ]
     },
     "metadata": {},
     "output_type": "display_data"
    },
    {
     "data": {
      "application/vnd.jupyter.widget-view+json": {
       "model_id": "d9052c5a2923448b8e1983e230241cf3",
       "version_major": 2,
       "version_minor": 0
      },
      "text/plain": [
       "Test MNIST:   0%|          | 0/40 [00:00<?, ?it/s]"
      ]
     },
     "metadata": {},
     "output_type": "display_data"
    },
    {
     "data": {
      "application/vnd.jupyter.widget-view+json": {
       "model_id": "51270c8352ac4806a50def87b0174054",
       "version_major": 2,
       "version_minor": 0
      },
      "text/plain": [
       "Test EMNIST:   0%|          | 0/405 [00:00<?, ?it/s]"
      ]
     },
     "metadata": {},
     "output_type": "display_data"
    },
    {
     "name": "stdout",
     "output_type": "stream",
     "text": [
      "Epoch 7/100\n"
     ]
    },
    {
     "data": {
      "application/vnd.jupyter.widget-view+json": {
       "model_id": "dc9236a283ea411089a5dcfd5ce948e5",
       "version_major": 2,
       "version_minor": 0
      },
      "text/plain": [
       "Training:   0%|          | 0/235 [00:00<?, ?it/s]"
      ]
     },
     "metadata": {},
     "output_type": "display_data"
    },
    {
     "data": {
      "application/vnd.jupyter.widget-view+json": {
       "model_id": "b37a71fc41f842f98e79f0b01416ce6f",
       "version_major": 2,
       "version_minor": 0
      },
      "text/plain": [
       "Test MNIST:   0%|          | 0/40 [00:00<?, ?it/s]"
      ]
     },
     "metadata": {},
     "output_type": "display_data"
    },
    {
     "data": {
      "application/vnd.jupyter.widget-view+json": {
       "model_id": "30b68159c05643e9be9fcfd4693c9df7",
       "version_major": 2,
       "version_minor": 0
      },
      "text/plain": [
       "Test EMNIST:   0%|          | 0/405 [00:00<?, ?it/s]"
      ]
     },
     "metadata": {},
     "output_type": "display_data"
    },
    {
     "name": "stdout",
     "output_type": "stream",
     "text": [
      "Epoch 8/100\n"
     ]
    },
    {
     "data": {
      "application/vnd.jupyter.widget-view+json": {
       "model_id": "6f18a4c88d8f4e3fbb97739db63805f7",
       "version_major": 2,
       "version_minor": 0
      },
      "text/plain": [
       "Training:   0%|          | 0/235 [00:00<?, ?it/s]"
      ]
     },
     "metadata": {},
     "output_type": "display_data"
    },
    {
     "data": {
      "application/vnd.jupyter.widget-view+json": {
       "model_id": "bb5c1d6d64a944b7a5dcc7eca0dc393c",
       "version_major": 2,
       "version_minor": 0
      },
      "text/plain": [
       "Test MNIST:   0%|          | 0/40 [00:00<?, ?it/s]"
      ]
     },
     "metadata": {},
     "output_type": "display_data"
    },
    {
     "data": {
      "application/vnd.jupyter.widget-view+json": {
       "model_id": "61af36df46b14992aaf017b94cc9c6fd",
       "version_major": 2,
       "version_minor": 0
      },
      "text/plain": [
       "Test EMNIST:   0%|          | 0/405 [00:00<?, ?it/s]"
      ]
     },
     "metadata": {},
     "output_type": "display_data"
    },
    {
     "name": "stdout",
     "output_type": "stream",
     "text": [
      "Epoch 9/100\n"
     ]
    },
    {
     "data": {
      "application/vnd.jupyter.widget-view+json": {
       "model_id": "bf787998ea8e484ebc60657bbe10263b",
       "version_major": 2,
       "version_minor": 0
      },
      "text/plain": [
       "Training:   0%|          | 0/235 [00:00<?, ?it/s]"
      ]
     },
     "metadata": {},
     "output_type": "display_data"
    },
    {
     "data": {
      "application/vnd.jupyter.widget-view+json": {
       "model_id": "9fa79483e0594c688369ab09546b9d03",
       "version_major": 2,
       "version_minor": 0
      },
      "text/plain": [
       "Test MNIST:   0%|          | 0/40 [00:00<?, ?it/s]"
      ]
     },
     "metadata": {},
     "output_type": "display_data"
    },
    {
     "data": {
      "application/vnd.jupyter.widget-view+json": {
       "model_id": "43bd3965ce744e7ab6839e9ac6dbb0da",
       "version_major": 2,
       "version_minor": 0
      },
      "text/plain": [
       "Test EMNIST:   0%|          | 0/405 [00:00<?, ?it/s]"
      ]
     },
     "metadata": {},
     "output_type": "display_data"
    },
    {
     "name": "stdout",
     "output_type": "stream",
     "text": [
      "Epoch 10/100\n"
     ]
    },
    {
     "data": {
      "application/vnd.jupyter.widget-view+json": {
       "model_id": "3e9115badd6e45bd8dce6c94151c461b",
       "version_major": 2,
       "version_minor": 0
      },
      "text/plain": [
       "Training:   0%|          | 0/235 [00:00<?, ?it/s]"
      ]
     },
     "metadata": {},
     "output_type": "display_data"
    },
    {
     "data": {
      "application/vnd.jupyter.widget-view+json": {
       "model_id": "a650bc3b92d04ae9a4d547779ca1d391",
       "version_major": 2,
       "version_minor": 0
      },
      "text/plain": [
       "Test MNIST:   0%|          | 0/40 [00:00<?, ?it/s]"
      ]
     },
     "metadata": {},
     "output_type": "display_data"
    },
    {
     "data": {
      "application/vnd.jupyter.widget-view+json": {
       "model_id": "6fd411b758ea4ee5aa836a7cf9d20262",
       "version_major": 2,
       "version_minor": 0
      },
      "text/plain": [
       "Test EMNIST:   0%|          | 0/405 [00:00<?, ?it/s]"
      ]
     },
     "metadata": {},
     "output_type": "display_data"
    },
    {
     "name": "stdout",
     "output_type": "stream",
     "text": [
      "Epoch 11/100\n"
     ]
    },
    {
     "data": {
      "application/vnd.jupyter.widget-view+json": {
       "model_id": "3ff3bcfd7d064a69815a36e328b77308",
       "version_major": 2,
       "version_minor": 0
      },
      "text/plain": [
       "Training:   0%|          | 0/235 [00:00<?, ?it/s]"
      ]
     },
     "metadata": {},
     "output_type": "display_data"
    },
    {
     "data": {
      "application/vnd.jupyter.widget-view+json": {
       "model_id": "4b067d8660a9434286e98501fdc5d137",
       "version_major": 2,
       "version_minor": 0
      },
      "text/plain": [
       "Test MNIST:   0%|          | 0/40 [00:00<?, ?it/s]"
      ]
     },
     "metadata": {},
     "output_type": "display_data"
    },
    {
     "data": {
      "application/vnd.jupyter.widget-view+json": {
       "model_id": "987182cd00994749953717c95ed4dee7",
       "version_major": 2,
       "version_minor": 0
      },
      "text/plain": [
       "Test EMNIST:   0%|          | 0/405 [00:00<?, ?it/s]"
      ]
     },
     "metadata": {},
     "output_type": "display_data"
    },
    {
     "name": "stdout",
     "output_type": "stream",
     "text": [
      "Epoch 12/100\n"
     ]
    },
    {
     "data": {
      "application/vnd.jupyter.widget-view+json": {
       "model_id": "8434a403b1a64874b2d95ed236c5949a",
       "version_major": 2,
       "version_minor": 0
      },
      "text/plain": [
       "Training:   0%|          | 0/235 [00:00<?, ?it/s]"
      ]
     },
     "metadata": {},
     "output_type": "display_data"
    },
    {
     "data": {
      "application/vnd.jupyter.widget-view+json": {
       "model_id": "a08d7de20ec74df2b247312784e886c7",
       "version_major": 2,
       "version_minor": 0
      },
      "text/plain": [
       "Test MNIST:   0%|          | 0/40 [00:00<?, ?it/s]"
      ]
     },
     "metadata": {},
     "output_type": "display_data"
    },
    {
     "data": {
      "application/vnd.jupyter.widget-view+json": {
       "model_id": "2ddde0426fa34ff0a16a9d89836fedeb",
       "version_major": 2,
       "version_minor": 0
      },
      "text/plain": [
       "Test EMNIST:   0%|          | 0/405 [00:00<?, ?it/s]"
      ]
     },
     "metadata": {},
     "output_type": "display_data"
    },
    {
     "name": "stdout",
     "output_type": "stream",
     "text": [
      "Epoch 13/100\n"
     ]
    },
    {
     "data": {
      "application/vnd.jupyter.widget-view+json": {
       "model_id": "46967a19ba1a4495a33250fa490a50ac",
       "version_major": 2,
       "version_minor": 0
      },
      "text/plain": [
       "Training:   0%|          | 0/235 [00:00<?, ?it/s]"
      ]
     },
     "metadata": {},
     "output_type": "display_data"
    },
    {
     "data": {
      "application/vnd.jupyter.widget-view+json": {
       "model_id": "75f42d964c414692a25e5da65f1f572a",
       "version_major": 2,
       "version_minor": 0
      },
      "text/plain": [
       "Test MNIST:   0%|          | 0/40 [00:00<?, ?it/s]"
      ]
     },
     "metadata": {},
     "output_type": "display_data"
    },
    {
     "data": {
      "application/vnd.jupyter.widget-view+json": {
       "model_id": "68c51e691e3445909ad8fa63cadb861a",
       "version_major": 2,
       "version_minor": 0
      },
      "text/plain": [
       "Test EMNIST:   0%|          | 0/405 [00:00<?, ?it/s]"
      ]
     },
     "metadata": {},
     "output_type": "display_data"
    },
    {
     "name": "stdout",
     "output_type": "stream",
     "text": [
      "Epoch 14/100\n"
     ]
    },
    {
     "data": {
      "application/vnd.jupyter.widget-view+json": {
       "model_id": "a42537ed0ef64b6784c7bd56961c6f74",
       "version_major": 2,
       "version_minor": 0
      },
      "text/plain": [
       "Training:   0%|          | 0/235 [00:00<?, ?it/s]"
      ]
     },
     "metadata": {},
     "output_type": "display_data"
    },
    {
     "data": {
      "application/vnd.jupyter.widget-view+json": {
       "model_id": "f803031183864a819a442a1f6cec7567",
       "version_major": 2,
       "version_minor": 0
      },
      "text/plain": [
       "Test MNIST:   0%|          | 0/40 [00:00<?, ?it/s]"
      ]
     },
     "metadata": {},
     "output_type": "display_data"
    },
    {
     "data": {
      "application/vnd.jupyter.widget-view+json": {
       "model_id": "ef27c6b60de34e9381e631d8c16df348",
       "version_major": 2,
       "version_minor": 0
      },
      "text/plain": [
       "Test EMNIST:   0%|          | 0/405 [00:00<?, ?it/s]"
      ]
     },
     "metadata": {},
     "output_type": "display_data"
    },
    {
     "name": "stdout",
     "output_type": "stream",
     "text": [
      "Epoch 15/100\n"
     ]
    },
    {
     "data": {
      "application/vnd.jupyter.widget-view+json": {
       "model_id": "af944fe98c144238b2870ba332dc0da1",
       "version_major": 2,
       "version_minor": 0
      },
      "text/plain": [
       "Training:   0%|          | 0/235 [00:00<?, ?it/s]"
      ]
     },
     "metadata": {},
     "output_type": "display_data"
    },
    {
     "data": {
      "application/vnd.jupyter.widget-view+json": {
       "model_id": "83bffbd038f041b8adfc1bb0373db643",
       "version_major": 2,
       "version_minor": 0
      },
      "text/plain": [
       "Test MNIST:   0%|          | 0/40 [00:00<?, ?it/s]"
      ]
     },
     "metadata": {},
     "output_type": "display_data"
    },
    {
     "data": {
      "application/vnd.jupyter.widget-view+json": {
       "model_id": "2e0874566b094f13becd7933d8b9e089",
       "version_major": 2,
       "version_minor": 0
      },
      "text/plain": [
       "Test EMNIST:   0%|          | 0/405 [00:00<?, ?it/s]"
      ]
     },
     "metadata": {},
     "output_type": "display_data"
    },
    {
     "name": "stdout",
     "output_type": "stream",
     "text": [
      "Epoch 16/100\n"
     ]
    },
    {
     "data": {
      "application/vnd.jupyter.widget-view+json": {
       "model_id": "df8a499402044c90b9c3aa3eee9b74b0",
       "version_major": 2,
       "version_minor": 0
      },
      "text/plain": [
       "Training:   0%|          | 0/235 [00:00<?, ?it/s]"
      ]
     },
     "metadata": {},
     "output_type": "display_data"
    },
    {
     "data": {
      "application/vnd.jupyter.widget-view+json": {
       "model_id": "da9327c73a6d4b6c9ee1e55d57d3630c",
       "version_major": 2,
       "version_minor": 0
      },
      "text/plain": [
       "Test MNIST:   0%|          | 0/40 [00:00<?, ?it/s]"
      ]
     },
     "metadata": {},
     "output_type": "display_data"
    },
    {
     "data": {
      "application/vnd.jupyter.widget-view+json": {
       "model_id": "6d74082638d74ba9a2a94e2536f22036",
       "version_major": 2,
       "version_minor": 0
      },
      "text/plain": [
       "Test EMNIST:   0%|          | 0/405 [00:00<?, ?it/s]"
      ]
     },
     "metadata": {},
     "output_type": "display_data"
    },
    {
     "name": "stdout",
     "output_type": "stream",
     "text": [
      "Epoch 17/100\n"
     ]
    },
    {
     "data": {
      "application/vnd.jupyter.widget-view+json": {
       "model_id": "92f02d19f1fe4953b9280e3b32b62ae9",
       "version_major": 2,
       "version_minor": 0
      },
      "text/plain": [
       "Training:   0%|          | 0/235 [00:00<?, ?it/s]"
      ]
     },
     "metadata": {},
     "output_type": "display_data"
    },
    {
     "data": {
      "application/vnd.jupyter.widget-view+json": {
       "model_id": "dea3f4b53c2c4f4fb0e2f47a9394c185",
       "version_major": 2,
       "version_minor": 0
      },
      "text/plain": [
       "Test MNIST:   0%|          | 0/40 [00:00<?, ?it/s]"
      ]
     },
     "metadata": {},
     "output_type": "display_data"
    },
    {
     "data": {
      "application/vnd.jupyter.widget-view+json": {
       "model_id": "d388a0ca9edf4da99e8cb4134de3c906",
       "version_major": 2,
       "version_minor": 0
      },
      "text/plain": [
       "Test EMNIST:   0%|          | 0/405 [00:00<?, ?it/s]"
      ]
     },
     "metadata": {},
     "output_type": "display_data"
    },
    {
     "name": "stdout",
     "output_type": "stream",
     "text": [
      "Epoch 18/100\n"
     ]
    },
    {
     "data": {
      "application/vnd.jupyter.widget-view+json": {
       "model_id": "f363738194a74d7db884279099772951",
       "version_major": 2,
       "version_minor": 0
      },
      "text/plain": [
       "Training:   0%|          | 0/235 [00:00<?, ?it/s]"
      ]
     },
     "metadata": {},
     "output_type": "display_data"
    },
    {
     "data": {
      "application/vnd.jupyter.widget-view+json": {
       "model_id": "d61409de57d2492d856e53fa8923a028",
       "version_major": 2,
       "version_minor": 0
      },
      "text/plain": [
       "Test MNIST:   0%|          | 0/40 [00:00<?, ?it/s]"
      ]
     },
     "metadata": {},
     "output_type": "display_data"
    },
    {
     "data": {
      "application/vnd.jupyter.widget-view+json": {
       "model_id": "b8180c8836c84a61b6c8ed56c6408309",
       "version_major": 2,
       "version_minor": 0
      },
      "text/plain": [
       "Test EMNIST:   0%|          | 0/405 [00:00<?, ?it/s]"
      ]
     },
     "metadata": {},
     "output_type": "display_data"
    },
    {
     "name": "stdout",
     "output_type": "stream",
     "text": [
      "Epoch 19/100\n"
     ]
    },
    {
     "data": {
      "application/vnd.jupyter.widget-view+json": {
       "model_id": "1b4d7515ddb44c6ca38727bd2025f054",
       "version_major": 2,
       "version_minor": 0
      },
      "text/plain": [
       "Training:   0%|          | 0/235 [00:00<?, ?it/s]"
      ]
     },
     "metadata": {},
     "output_type": "display_data"
    },
    {
     "data": {
      "application/vnd.jupyter.widget-view+json": {
       "model_id": "4d27b8765bc94bddbeee1cb1c8ce1041",
       "version_major": 2,
       "version_minor": 0
      },
      "text/plain": [
       "Test MNIST:   0%|          | 0/40 [00:00<?, ?it/s]"
      ]
     },
     "metadata": {},
     "output_type": "display_data"
    },
    {
     "data": {
      "application/vnd.jupyter.widget-view+json": {
       "model_id": "d1a6b72c3a5c4d20bc9005ba893ead55",
       "version_major": 2,
       "version_minor": 0
      },
      "text/plain": [
       "Test EMNIST:   0%|          | 0/405 [00:00<?, ?it/s]"
      ]
     },
     "metadata": {},
     "output_type": "display_data"
    },
    {
     "name": "stdout",
     "output_type": "stream",
     "text": [
      "Epoch 20/100\n"
     ]
    },
    {
     "data": {
      "application/vnd.jupyter.widget-view+json": {
       "model_id": "6ef994e4004e4ac5b277001bdea30fb7",
       "version_major": 2,
       "version_minor": 0
      },
      "text/plain": [
       "Training:   0%|          | 0/235 [00:00<?, ?it/s]"
      ]
     },
     "metadata": {},
     "output_type": "display_data"
    },
    {
     "data": {
      "application/vnd.jupyter.widget-view+json": {
       "model_id": "f61d4377ca194047a7e76387cfab7390",
       "version_major": 2,
       "version_minor": 0
      },
      "text/plain": [
       "Test MNIST:   0%|          | 0/40 [00:00<?, ?it/s]"
      ]
     },
     "metadata": {},
     "output_type": "display_data"
    },
    {
     "data": {
      "application/vnd.jupyter.widget-view+json": {
       "model_id": "a6628620c31d403c8bd4bbe59faf147e",
       "version_major": 2,
       "version_minor": 0
      },
      "text/plain": [
       "Test EMNIST:   0%|          | 0/405 [00:00<?, ?it/s]"
      ]
     },
     "metadata": {},
     "output_type": "display_data"
    },
    {
     "name": "stdout",
     "output_type": "stream",
     "text": [
      "Epoch 21/100\n"
     ]
    },
    {
     "data": {
      "application/vnd.jupyter.widget-view+json": {
       "model_id": "921407a73e1745a195c6b8b6ff3c4011",
       "version_major": 2,
       "version_minor": 0
      },
      "text/plain": [
       "Training:   0%|          | 0/235 [00:00<?, ?it/s]"
      ]
     },
     "metadata": {},
     "output_type": "display_data"
    },
    {
     "data": {
      "application/vnd.jupyter.widget-view+json": {
       "model_id": "722b6c2a68f9479b9975dbdeea4f0030",
       "version_major": 2,
       "version_minor": 0
      },
      "text/plain": [
       "Test MNIST:   0%|          | 0/40 [00:00<?, ?it/s]"
      ]
     },
     "metadata": {},
     "output_type": "display_data"
    },
    {
     "data": {
      "application/vnd.jupyter.widget-view+json": {
       "model_id": "4628409bb36444b787f0f02a6b99ec55",
       "version_major": 2,
       "version_minor": 0
      },
      "text/plain": [
       "Test EMNIST:   0%|          | 0/405 [00:00<?, ?it/s]"
      ]
     },
     "metadata": {},
     "output_type": "display_data"
    },
    {
     "name": "stdout",
     "output_type": "stream",
     "text": [
      "Epoch 22/100\n"
     ]
    },
    {
     "data": {
      "application/vnd.jupyter.widget-view+json": {
       "model_id": "8720a2dd13b84e5a8d4d1746c9e86d53",
       "version_major": 2,
       "version_minor": 0
      },
      "text/plain": [
       "Training:   0%|          | 0/235 [00:00<?, ?it/s]"
      ]
     },
     "metadata": {},
     "output_type": "display_data"
    },
    {
     "data": {
      "application/vnd.jupyter.widget-view+json": {
       "model_id": "e79566bb6c92472a995b3a2d098723aa",
       "version_major": 2,
       "version_minor": 0
      },
      "text/plain": [
       "Test MNIST:   0%|          | 0/40 [00:00<?, ?it/s]"
      ]
     },
     "metadata": {},
     "output_type": "display_data"
    },
    {
     "data": {
      "application/vnd.jupyter.widget-view+json": {
       "model_id": "0c98cd59b61a4b959de02dec1136ea93",
       "version_major": 2,
       "version_minor": 0
      },
      "text/plain": [
       "Test EMNIST:   0%|          | 0/405 [00:00<?, ?it/s]"
      ]
     },
     "metadata": {},
     "output_type": "display_data"
    },
    {
     "name": "stdout",
     "output_type": "stream",
     "text": [
      "Epoch 23/100\n"
     ]
    },
    {
     "data": {
      "application/vnd.jupyter.widget-view+json": {
       "model_id": "dc828ec5d2f44918a1fcaf8e43f493f7",
       "version_major": 2,
       "version_minor": 0
      },
      "text/plain": [
       "Training:   0%|          | 0/235 [00:00<?, ?it/s]"
      ]
     },
     "metadata": {},
     "output_type": "display_data"
    },
    {
     "data": {
      "application/vnd.jupyter.widget-view+json": {
       "model_id": "c1461191af2c4fcd8bf45b13cc3b2997",
       "version_major": 2,
       "version_minor": 0
      },
      "text/plain": [
       "Test MNIST:   0%|          | 0/40 [00:00<?, ?it/s]"
      ]
     },
     "metadata": {},
     "output_type": "display_data"
    },
    {
     "data": {
      "application/vnd.jupyter.widget-view+json": {
       "model_id": "1bb652593a5b4bc5a6c0ff8a58e3fc95",
       "version_major": 2,
       "version_minor": 0
      },
      "text/plain": [
       "Test EMNIST:   0%|          | 0/405 [00:00<?, ?it/s]"
      ]
     },
     "metadata": {},
     "output_type": "display_data"
    },
    {
     "name": "stdout",
     "output_type": "stream",
     "text": [
      "Epoch 24/100\n"
     ]
    },
    {
     "data": {
      "application/vnd.jupyter.widget-view+json": {
       "model_id": "6f24df0e937f42b0b95f06aee1a7d65b",
       "version_major": 2,
       "version_minor": 0
      },
      "text/plain": [
       "Training:   0%|          | 0/235 [00:00<?, ?it/s]"
      ]
     },
     "metadata": {},
     "output_type": "display_data"
    },
    {
     "data": {
      "application/vnd.jupyter.widget-view+json": {
       "model_id": "56885e4fc7bf404d8f393162dc8dff4c",
       "version_major": 2,
       "version_minor": 0
      },
      "text/plain": [
       "Test MNIST:   0%|          | 0/40 [00:00<?, ?it/s]"
      ]
     },
     "metadata": {},
     "output_type": "display_data"
    },
    {
     "data": {
      "application/vnd.jupyter.widget-view+json": {
       "model_id": "079743f7384c448f9118b5463908e636",
       "version_major": 2,
       "version_minor": 0
      },
      "text/plain": [
       "Test EMNIST:   0%|          | 0/405 [00:00<?, ?it/s]"
      ]
     },
     "metadata": {},
     "output_type": "display_data"
    },
    {
     "name": "stdout",
     "output_type": "stream",
     "text": [
      "Epoch 25/100\n"
     ]
    },
    {
     "data": {
      "application/vnd.jupyter.widget-view+json": {
       "model_id": "b3dc306cf2324a4a801d0ac320a2c600",
       "version_major": 2,
       "version_minor": 0
      },
      "text/plain": [
       "Training:   0%|          | 0/235 [00:00<?, ?it/s]"
      ]
     },
     "metadata": {},
     "output_type": "display_data"
    },
    {
     "data": {
      "application/vnd.jupyter.widget-view+json": {
       "model_id": "c775a2a74c714369b594f6e75c2af775",
       "version_major": 2,
       "version_minor": 0
      },
      "text/plain": [
       "Test MNIST:   0%|          | 0/40 [00:00<?, ?it/s]"
      ]
     },
     "metadata": {},
     "output_type": "display_data"
    },
    {
     "data": {
      "application/vnd.jupyter.widget-view+json": {
       "model_id": "4b60d2cb33c24be1a14aa12df60eafa3",
       "version_major": 2,
       "version_minor": 0
      },
      "text/plain": [
       "Test EMNIST:   0%|          | 0/405 [00:00<?, ?it/s]"
      ]
     },
     "metadata": {},
     "output_type": "display_data"
    },
    {
     "name": "stdout",
     "output_type": "stream",
     "text": [
      "Epoch 26/100\n"
     ]
    },
    {
     "data": {
      "application/vnd.jupyter.widget-view+json": {
       "model_id": "8e6faff0bf3c4bb1abbc0799faf9e354",
       "version_major": 2,
       "version_minor": 0
      },
      "text/plain": [
       "Training:   0%|          | 0/235 [00:00<?, ?it/s]"
      ]
     },
     "metadata": {},
     "output_type": "display_data"
    },
    {
     "data": {
      "application/vnd.jupyter.widget-view+json": {
       "model_id": "aa733218d73843e8b9e0c6ce89edcdc2",
       "version_major": 2,
       "version_minor": 0
      },
      "text/plain": [
       "Test MNIST:   0%|          | 0/40 [00:00<?, ?it/s]"
      ]
     },
     "metadata": {},
     "output_type": "display_data"
    },
    {
     "data": {
      "application/vnd.jupyter.widget-view+json": {
       "model_id": "b3d5164682ab4cdabc889a0bb2b725db",
       "version_major": 2,
       "version_minor": 0
      },
      "text/plain": [
       "Test EMNIST:   0%|          | 0/405 [00:00<?, ?it/s]"
      ]
     },
     "metadata": {},
     "output_type": "display_data"
    },
    {
     "name": "stdout",
     "output_type": "stream",
     "text": [
      "Epoch 27/100\n"
     ]
    },
    {
     "data": {
      "application/vnd.jupyter.widget-view+json": {
       "model_id": "7355c941920c41289575c3b5a3f32e62",
       "version_major": 2,
       "version_minor": 0
      },
      "text/plain": [
       "Training:   0%|          | 0/235 [00:00<?, ?it/s]"
      ]
     },
     "metadata": {},
     "output_type": "display_data"
    },
    {
     "data": {
      "application/vnd.jupyter.widget-view+json": {
       "model_id": "a496ddc829e64943ae6a31134dde7990",
       "version_major": 2,
       "version_minor": 0
      },
      "text/plain": [
       "Test MNIST:   0%|          | 0/40 [00:00<?, ?it/s]"
      ]
     },
     "metadata": {},
     "output_type": "display_data"
    },
    {
     "data": {
      "application/vnd.jupyter.widget-view+json": {
       "model_id": "54f5f86f21484d8fbb71cc634339358b",
       "version_major": 2,
       "version_minor": 0
      },
      "text/plain": [
       "Test EMNIST:   0%|          | 0/405 [00:00<?, ?it/s]"
      ]
     },
     "metadata": {},
     "output_type": "display_data"
    },
    {
     "name": "stdout",
     "output_type": "stream",
     "text": [
      "Epoch 28/100\n"
     ]
    },
    {
     "data": {
      "application/vnd.jupyter.widget-view+json": {
       "model_id": "b8d80dc543b946a096e15da83b29e051",
       "version_major": 2,
       "version_minor": 0
      },
      "text/plain": [
       "Training:   0%|          | 0/235 [00:00<?, ?it/s]"
      ]
     },
     "metadata": {},
     "output_type": "display_data"
    },
    {
     "data": {
      "application/vnd.jupyter.widget-view+json": {
       "model_id": "3aaad81d118942cf847c9ea97a2ecba8",
       "version_major": 2,
       "version_minor": 0
      },
      "text/plain": [
       "Test MNIST:   0%|          | 0/40 [00:00<?, ?it/s]"
      ]
     },
     "metadata": {},
     "output_type": "display_data"
    },
    {
     "data": {
      "application/vnd.jupyter.widget-view+json": {
       "model_id": "383e23de6f4b4cc599b9a1b3682b9c2b",
       "version_major": 2,
       "version_minor": 0
      },
      "text/plain": [
       "Test EMNIST:   0%|          | 0/405 [00:00<?, ?it/s]"
      ]
     },
     "metadata": {},
     "output_type": "display_data"
    },
    {
     "name": "stdout",
     "output_type": "stream",
     "text": [
      "Epoch 29/100\n"
     ]
    },
    {
     "data": {
      "application/vnd.jupyter.widget-view+json": {
       "model_id": "3b9a153fc635412d8d1ee697f9a404a2",
       "version_major": 2,
       "version_minor": 0
      },
      "text/plain": [
       "Training:   0%|          | 0/235 [00:00<?, ?it/s]"
      ]
     },
     "metadata": {},
     "output_type": "display_data"
    },
    {
     "data": {
      "application/vnd.jupyter.widget-view+json": {
       "model_id": "a74e2fc8337d415b83d78e647f649719",
       "version_major": 2,
       "version_minor": 0
      },
      "text/plain": [
       "Test MNIST:   0%|          | 0/40 [00:00<?, ?it/s]"
      ]
     },
     "metadata": {},
     "output_type": "display_data"
    },
    {
     "data": {
      "application/vnd.jupyter.widget-view+json": {
       "model_id": "94ffb674786f4ff1b275338eef58c0a3",
       "version_major": 2,
       "version_minor": 0
      },
      "text/plain": [
       "Test EMNIST:   0%|          | 0/405 [00:00<?, ?it/s]"
      ]
     },
     "metadata": {},
     "output_type": "display_data"
    },
    {
     "name": "stdout",
     "output_type": "stream",
     "text": [
      "Epoch 30/100\n"
     ]
    },
    {
     "data": {
      "application/vnd.jupyter.widget-view+json": {
       "model_id": "0206020df91b4bb7a46ce0a68a92161b",
       "version_major": 2,
       "version_minor": 0
      },
      "text/plain": [
       "Training:   0%|          | 0/235 [00:00<?, ?it/s]"
      ]
     },
     "metadata": {},
     "output_type": "display_data"
    },
    {
     "data": {
      "application/vnd.jupyter.widget-view+json": {
       "model_id": "77b10058414e49e5b7eaca897e2964b0",
       "version_major": 2,
       "version_minor": 0
      },
      "text/plain": [
       "Test MNIST:   0%|          | 0/40 [00:00<?, ?it/s]"
      ]
     },
     "metadata": {},
     "output_type": "display_data"
    },
    {
     "data": {
      "application/vnd.jupyter.widget-view+json": {
       "model_id": "8152c3ec280a4f72b04ed19f96aed1b5",
       "version_major": 2,
       "version_minor": 0
      },
      "text/plain": [
       "Test EMNIST:   0%|          | 0/405 [00:00<?, ?it/s]"
      ]
     },
     "metadata": {},
     "output_type": "display_data"
    },
    {
     "name": "stdout",
     "output_type": "stream",
     "text": [
      "Epoch 31/100\n"
     ]
    },
    {
     "data": {
      "application/vnd.jupyter.widget-view+json": {
       "model_id": "79df7c0aeadf42f1b6f92922439a31a8",
       "version_major": 2,
       "version_minor": 0
      },
      "text/plain": [
       "Training:   0%|          | 0/235 [00:00<?, ?it/s]"
      ]
     },
     "metadata": {},
     "output_type": "display_data"
    },
    {
     "data": {
      "application/vnd.jupyter.widget-view+json": {
       "model_id": "1c9351607d3f4ce0a0e829bf948cb57d",
       "version_major": 2,
       "version_minor": 0
      },
      "text/plain": [
       "Test MNIST:   0%|          | 0/40 [00:00<?, ?it/s]"
      ]
     },
     "metadata": {},
     "output_type": "display_data"
    },
    {
     "data": {
      "application/vnd.jupyter.widget-view+json": {
       "model_id": "3b01a69ae12342cdbbe7e3942571d99f",
       "version_major": 2,
       "version_minor": 0
      },
      "text/plain": [
       "Test EMNIST:   0%|          | 0/405 [00:00<?, ?it/s]"
      ]
     },
     "metadata": {},
     "output_type": "display_data"
    },
    {
     "name": "stdout",
     "output_type": "stream",
     "text": [
      "Epoch 32/100\n"
     ]
    },
    {
     "data": {
      "application/vnd.jupyter.widget-view+json": {
       "model_id": "49f687d01c0344929a3c18b4fe5c053b",
       "version_major": 2,
       "version_minor": 0
      },
      "text/plain": [
       "Training:   0%|          | 0/235 [00:00<?, ?it/s]"
      ]
     },
     "metadata": {},
     "output_type": "display_data"
    },
    {
     "data": {
      "application/vnd.jupyter.widget-view+json": {
       "model_id": "5155658587fc46519f78ea7562159ad5",
       "version_major": 2,
       "version_minor": 0
      },
      "text/plain": [
       "Test MNIST:   0%|          | 0/40 [00:00<?, ?it/s]"
      ]
     },
     "metadata": {},
     "output_type": "display_data"
    },
    {
     "data": {
      "application/vnd.jupyter.widget-view+json": {
       "model_id": "102400f5f7d54119953ef18d082e2900",
       "version_major": 2,
       "version_minor": 0
      },
      "text/plain": [
       "Test EMNIST:   0%|          | 0/405 [00:00<?, ?it/s]"
      ]
     },
     "metadata": {},
     "output_type": "display_data"
    },
    {
     "name": "stdout",
     "output_type": "stream",
     "text": [
      "Epoch 33/100\n"
     ]
    },
    {
     "data": {
      "application/vnd.jupyter.widget-view+json": {
       "model_id": "725cf87bb3eb409885238b2ed81417d2",
       "version_major": 2,
       "version_minor": 0
      },
      "text/plain": [
       "Training:   0%|          | 0/235 [00:00<?, ?it/s]"
      ]
     },
     "metadata": {},
     "output_type": "display_data"
    },
    {
     "data": {
      "application/vnd.jupyter.widget-view+json": {
       "model_id": "d2a34314d3364595a0428ac9914fe955",
       "version_major": 2,
       "version_minor": 0
      },
      "text/plain": [
       "Test MNIST:   0%|          | 0/40 [00:00<?, ?it/s]"
      ]
     },
     "metadata": {},
     "output_type": "display_data"
    },
    {
     "data": {
      "application/vnd.jupyter.widget-view+json": {
       "model_id": "7d5b442565af4b2e86fefa2bad59b127",
       "version_major": 2,
       "version_minor": 0
      },
      "text/plain": [
       "Test EMNIST:   0%|          | 0/405 [00:00<?, ?it/s]"
      ]
     },
     "metadata": {},
     "output_type": "display_data"
    },
    {
     "name": "stdout",
     "output_type": "stream",
     "text": [
      "Epoch 34/100\n"
     ]
    },
    {
     "data": {
      "application/vnd.jupyter.widget-view+json": {
       "model_id": "9dcde08007d44b068ca700433af5c736",
       "version_major": 2,
       "version_minor": 0
      },
      "text/plain": [
       "Training:   0%|          | 0/235 [00:00<?, ?it/s]"
      ]
     },
     "metadata": {},
     "output_type": "display_data"
    },
    {
     "data": {
      "application/vnd.jupyter.widget-view+json": {
       "model_id": "8d74f6e823de4d70b88bfc2f0ab95bf8",
       "version_major": 2,
       "version_minor": 0
      },
      "text/plain": [
       "Test MNIST:   0%|          | 0/40 [00:00<?, ?it/s]"
      ]
     },
     "metadata": {},
     "output_type": "display_data"
    },
    {
     "data": {
      "application/vnd.jupyter.widget-view+json": {
       "model_id": "81d47f833de3436ab66cab7515332c94",
       "version_major": 2,
       "version_minor": 0
      },
      "text/plain": [
       "Test EMNIST:   0%|          | 0/405 [00:00<?, ?it/s]"
      ]
     },
     "metadata": {},
     "output_type": "display_data"
    },
    {
     "name": "stdout",
     "output_type": "stream",
     "text": [
      "Epoch 35/100\n"
     ]
    },
    {
     "data": {
      "application/vnd.jupyter.widget-view+json": {
       "model_id": "cd75e319ebb14bcea4e9f67d36bddbd0",
       "version_major": 2,
       "version_minor": 0
      },
      "text/plain": [
       "Training:   0%|          | 0/235 [00:00<?, ?it/s]"
      ]
     },
     "metadata": {},
     "output_type": "display_data"
    },
    {
     "data": {
      "application/vnd.jupyter.widget-view+json": {
       "model_id": "93a3458f4ee3494caa5d4263680c1eaf",
       "version_major": 2,
       "version_minor": 0
      },
      "text/plain": [
       "Test MNIST:   0%|          | 0/40 [00:00<?, ?it/s]"
      ]
     },
     "metadata": {},
     "output_type": "display_data"
    },
    {
     "data": {
      "application/vnd.jupyter.widget-view+json": {
       "model_id": "b63aab6efcce40ccbb94b8b98762058c",
       "version_major": 2,
       "version_minor": 0
      },
      "text/plain": [
       "Test EMNIST:   0%|          | 0/405 [00:00<?, ?it/s]"
      ]
     },
     "metadata": {},
     "output_type": "display_data"
    },
    {
     "name": "stdout",
     "output_type": "stream",
     "text": [
      "Epoch 36/100\n"
     ]
    },
    {
     "data": {
      "application/vnd.jupyter.widget-view+json": {
       "model_id": "b71468f1c592437b92855034102f0b86",
       "version_major": 2,
       "version_minor": 0
      },
      "text/plain": [
       "Training:   0%|          | 0/235 [00:00<?, ?it/s]"
      ]
     },
     "metadata": {},
     "output_type": "display_data"
    },
    {
     "data": {
      "application/vnd.jupyter.widget-view+json": {
       "model_id": "06390bec76cf4199b7776af4927c3530",
       "version_major": 2,
       "version_minor": 0
      },
      "text/plain": [
       "Test MNIST:   0%|          | 0/40 [00:00<?, ?it/s]"
      ]
     },
     "metadata": {},
     "output_type": "display_data"
    },
    {
     "data": {
      "application/vnd.jupyter.widget-view+json": {
       "model_id": "8fd91b6803f04e3a83fa553b0a18b97e",
       "version_major": 2,
       "version_minor": 0
      },
      "text/plain": [
       "Test EMNIST:   0%|          | 0/405 [00:00<?, ?it/s]"
      ]
     },
     "metadata": {},
     "output_type": "display_data"
    },
    {
     "name": "stdout",
     "output_type": "stream",
     "text": [
      "Epoch 37/100\n"
     ]
    },
    {
     "data": {
      "application/vnd.jupyter.widget-view+json": {
       "model_id": "8e46160f8a464ec2b9cf7f52c94eec65",
       "version_major": 2,
       "version_minor": 0
      },
      "text/plain": [
       "Training:   0%|          | 0/235 [00:00<?, ?it/s]"
      ]
     },
     "metadata": {},
     "output_type": "display_data"
    },
    {
     "data": {
      "application/vnd.jupyter.widget-view+json": {
       "model_id": "202061d7ef704309b118857e0992ba72",
       "version_major": 2,
       "version_minor": 0
      },
      "text/plain": [
       "Test MNIST:   0%|          | 0/40 [00:00<?, ?it/s]"
      ]
     },
     "metadata": {},
     "output_type": "display_data"
    },
    {
     "data": {
      "application/vnd.jupyter.widget-view+json": {
       "model_id": "1b9bdfb07db240e2a81f5ec45cc7805d",
       "version_major": 2,
       "version_minor": 0
      },
      "text/plain": [
       "Test EMNIST:   0%|          | 0/405 [00:00<?, ?it/s]"
      ]
     },
     "metadata": {},
     "output_type": "display_data"
    },
    {
     "name": "stdout",
     "output_type": "stream",
     "text": [
      "Epoch 38/100\n"
     ]
    },
    {
     "data": {
      "application/vnd.jupyter.widget-view+json": {
       "model_id": "bc98d639bdbc434785582ad958147e6a",
       "version_major": 2,
       "version_minor": 0
      },
      "text/plain": [
       "Training:   0%|          | 0/235 [00:00<?, ?it/s]"
      ]
     },
     "metadata": {},
     "output_type": "display_data"
    },
    {
     "data": {
      "application/vnd.jupyter.widget-view+json": {
       "model_id": "5af47dd0c27641f08a2d41f14ea6c842",
       "version_major": 2,
       "version_minor": 0
      },
      "text/plain": [
       "Test MNIST:   0%|          | 0/40 [00:00<?, ?it/s]"
      ]
     },
     "metadata": {},
     "output_type": "display_data"
    },
    {
     "data": {
      "application/vnd.jupyter.widget-view+json": {
       "model_id": "99b5b6e5528a48c5a101431f7a634cd3",
       "version_major": 2,
       "version_minor": 0
      },
      "text/plain": [
       "Test EMNIST:   0%|          | 0/405 [00:00<?, ?it/s]"
      ]
     },
     "metadata": {},
     "output_type": "display_data"
    },
    {
     "name": "stdout",
     "output_type": "stream",
     "text": [
      "Epoch 39/100\n"
     ]
    },
    {
     "data": {
      "application/vnd.jupyter.widget-view+json": {
       "model_id": "8fe6fbc3a7424a8e901e6f96c4fdfea9",
       "version_major": 2,
       "version_minor": 0
      },
      "text/plain": [
       "Training:   0%|          | 0/235 [00:00<?, ?it/s]"
      ]
     },
     "metadata": {},
     "output_type": "display_data"
    },
    {
     "data": {
      "application/vnd.jupyter.widget-view+json": {
       "model_id": "4ce1917cfe38455989e39397c90f8773",
       "version_major": 2,
       "version_minor": 0
      },
      "text/plain": [
       "Test MNIST:   0%|          | 0/40 [00:00<?, ?it/s]"
      ]
     },
     "metadata": {},
     "output_type": "display_data"
    },
    {
     "data": {
      "application/vnd.jupyter.widget-view+json": {
       "model_id": "85b23bf7482644bcb06772896435d014",
       "version_major": 2,
       "version_minor": 0
      },
      "text/plain": [
       "Test EMNIST:   0%|          | 0/405 [00:00<?, ?it/s]"
      ]
     },
     "metadata": {},
     "output_type": "display_data"
    },
    {
     "name": "stdout",
     "output_type": "stream",
     "text": [
      "Epoch 40/100\n"
     ]
    },
    {
     "data": {
      "application/vnd.jupyter.widget-view+json": {
       "model_id": "9be5c0c3f8ee450a93e400275b8445ac",
       "version_major": 2,
       "version_minor": 0
      },
      "text/plain": [
       "Training:   0%|          | 0/235 [00:00<?, ?it/s]"
      ]
     },
     "metadata": {},
     "output_type": "display_data"
    },
    {
     "data": {
      "application/vnd.jupyter.widget-view+json": {
       "model_id": "9fc52269fb144b3489df5ad151e03017",
       "version_major": 2,
       "version_minor": 0
      },
      "text/plain": [
       "Test MNIST:   0%|          | 0/40 [00:00<?, ?it/s]"
      ]
     },
     "metadata": {},
     "output_type": "display_data"
    },
    {
     "data": {
      "application/vnd.jupyter.widget-view+json": {
       "model_id": "8a56d7c22f4a4614a7f800a84e58dc76",
       "version_major": 2,
       "version_minor": 0
      },
      "text/plain": [
       "Test EMNIST:   0%|          | 0/405 [00:00<?, ?it/s]"
      ]
     },
     "metadata": {},
     "output_type": "display_data"
    },
    {
     "name": "stdout",
     "output_type": "stream",
     "text": [
      "Epoch 41/100\n"
     ]
    },
    {
     "data": {
      "application/vnd.jupyter.widget-view+json": {
       "model_id": "8121f173d1f74cea9a48390a5ad36e92",
       "version_major": 2,
       "version_minor": 0
      },
      "text/plain": [
       "Training:   0%|          | 0/235 [00:00<?, ?it/s]"
      ]
     },
     "metadata": {},
     "output_type": "display_data"
    },
    {
     "data": {
      "application/vnd.jupyter.widget-view+json": {
       "model_id": "8fa6bc111b8040df85861c1d63631ef5",
       "version_major": 2,
       "version_minor": 0
      },
      "text/plain": [
       "Test MNIST:   0%|          | 0/40 [00:00<?, ?it/s]"
      ]
     },
     "metadata": {},
     "output_type": "display_data"
    },
    {
     "data": {
      "application/vnd.jupyter.widget-view+json": {
       "model_id": "bef2acb5c17d467b975cc1e6811adea2",
       "version_major": 2,
       "version_minor": 0
      },
      "text/plain": [
       "Test EMNIST:   0%|          | 0/405 [00:00<?, ?it/s]"
      ]
     },
     "metadata": {},
     "output_type": "display_data"
    },
    {
     "name": "stdout",
     "output_type": "stream",
     "text": [
      "Epoch 42/100\n"
     ]
    },
    {
     "data": {
      "application/vnd.jupyter.widget-view+json": {
       "model_id": "c320b2be03f84887a95ef33324e2bfc4",
       "version_major": 2,
       "version_minor": 0
      },
      "text/plain": [
       "Training:   0%|          | 0/235 [00:00<?, ?it/s]"
      ]
     },
     "metadata": {},
     "output_type": "display_data"
    },
    {
     "data": {
      "application/vnd.jupyter.widget-view+json": {
       "model_id": "f522b1cda3a64d2280f3ba2351ff19cb",
       "version_major": 2,
       "version_minor": 0
      },
      "text/plain": [
       "Test MNIST:   0%|          | 0/40 [00:00<?, ?it/s]"
      ]
     },
     "metadata": {},
     "output_type": "display_data"
    },
    {
     "data": {
      "application/vnd.jupyter.widget-view+json": {
       "model_id": "ca30f36ae464406bacab51a0714907b0",
       "version_major": 2,
       "version_minor": 0
      },
      "text/plain": [
       "Test EMNIST:   0%|          | 0/405 [00:00<?, ?it/s]"
      ]
     },
     "metadata": {},
     "output_type": "display_data"
    },
    {
     "name": "stdout",
     "output_type": "stream",
     "text": [
      "Epoch 43/100\n"
     ]
    },
    {
     "data": {
      "application/vnd.jupyter.widget-view+json": {
       "model_id": "7a543bdf179446fb954602154ff7e0c1",
       "version_major": 2,
       "version_minor": 0
      },
      "text/plain": [
       "Training:   0%|          | 0/235 [00:00<?, ?it/s]"
      ]
     },
     "metadata": {},
     "output_type": "display_data"
    },
    {
     "data": {
      "application/vnd.jupyter.widget-view+json": {
       "model_id": "ce1d9fdc9af7465ea1b0e6ec19bafe87",
       "version_major": 2,
       "version_minor": 0
      },
      "text/plain": [
       "Test MNIST:   0%|          | 0/40 [00:00<?, ?it/s]"
      ]
     },
     "metadata": {},
     "output_type": "display_data"
    },
    {
     "data": {
      "application/vnd.jupyter.widget-view+json": {
       "model_id": "d2fa6b6f84424903bec302b27adbeb03",
       "version_major": 2,
       "version_minor": 0
      },
      "text/plain": [
       "Test EMNIST:   0%|          | 0/405 [00:00<?, ?it/s]"
      ]
     },
     "metadata": {},
     "output_type": "display_data"
    },
    {
     "name": "stdout",
     "output_type": "stream",
     "text": [
      "Epoch 44/100\n"
     ]
    },
    {
     "data": {
      "application/vnd.jupyter.widget-view+json": {
       "model_id": "8e7f3b60f96e4cf48fed7003ba74ffc2",
       "version_major": 2,
       "version_minor": 0
      },
      "text/plain": [
       "Training:   0%|          | 0/235 [00:00<?, ?it/s]"
      ]
     },
     "metadata": {},
     "output_type": "display_data"
    },
    {
     "data": {
      "application/vnd.jupyter.widget-view+json": {
       "model_id": "ad054ee180d14a03b75280b1493d89d1",
       "version_major": 2,
       "version_minor": 0
      },
      "text/plain": [
       "Test MNIST:   0%|          | 0/40 [00:00<?, ?it/s]"
      ]
     },
     "metadata": {},
     "output_type": "display_data"
    },
    {
     "data": {
      "application/vnd.jupyter.widget-view+json": {
       "model_id": "c8a1d2a7145c43708aff3bc90bce415a",
       "version_major": 2,
       "version_minor": 0
      },
      "text/plain": [
       "Test EMNIST:   0%|          | 0/405 [00:00<?, ?it/s]"
      ]
     },
     "metadata": {},
     "output_type": "display_data"
    },
    {
     "name": "stdout",
     "output_type": "stream",
     "text": [
      "Epoch 45/100\n"
     ]
    },
    {
     "data": {
      "application/vnd.jupyter.widget-view+json": {
       "model_id": "1b8a0ef7009c49d397eb2b6583020a21",
       "version_major": 2,
       "version_minor": 0
      },
      "text/plain": [
       "Training:   0%|          | 0/235 [00:00<?, ?it/s]"
      ]
     },
     "metadata": {},
     "output_type": "display_data"
    },
    {
     "data": {
      "application/vnd.jupyter.widget-view+json": {
       "model_id": "863276a460d1439b9fa76d6f9e42a984",
       "version_major": 2,
       "version_minor": 0
      },
      "text/plain": [
       "Test MNIST:   0%|          | 0/40 [00:00<?, ?it/s]"
      ]
     },
     "metadata": {},
     "output_type": "display_data"
    },
    {
     "data": {
      "application/vnd.jupyter.widget-view+json": {
       "model_id": "9290d874fc854675b15ae20f4a318f6e",
       "version_major": 2,
       "version_minor": 0
      },
      "text/plain": [
       "Test EMNIST:   0%|          | 0/405 [00:00<?, ?it/s]"
      ]
     },
     "metadata": {},
     "output_type": "display_data"
    },
    {
     "name": "stdout",
     "output_type": "stream",
     "text": [
      "Epoch 46/100\n"
     ]
    },
    {
     "data": {
      "application/vnd.jupyter.widget-view+json": {
       "model_id": "7d47327a91b34fb3ae12dff5929cc74d",
       "version_major": 2,
       "version_minor": 0
      },
      "text/plain": [
       "Training:   0%|          | 0/235 [00:00<?, ?it/s]"
      ]
     },
     "metadata": {},
     "output_type": "display_data"
    },
    {
     "data": {
      "application/vnd.jupyter.widget-view+json": {
       "model_id": "bddd201eafd8436ea84c5d4e794c3ea8",
       "version_major": 2,
       "version_minor": 0
      },
      "text/plain": [
       "Test MNIST:   0%|          | 0/40 [00:00<?, ?it/s]"
      ]
     },
     "metadata": {},
     "output_type": "display_data"
    },
    {
     "data": {
      "application/vnd.jupyter.widget-view+json": {
       "model_id": "f99544d3d4944bd782d64771b374ca5c",
       "version_major": 2,
       "version_minor": 0
      },
      "text/plain": [
       "Test EMNIST:   0%|          | 0/405 [00:00<?, ?it/s]"
      ]
     },
     "metadata": {},
     "output_type": "display_data"
    },
    {
     "name": "stdout",
     "output_type": "stream",
     "text": [
      "Epoch 47/100\n"
     ]
    },
    {
     "data": {
      "application/vnd.jupyter.widget-view+json": {
       "model_id": "cd2fe11b814f4d448a45ce86919a62c8",
       "version_major": 2,
       "version_minor": 0
      },
      "text/plain": [
       "Training:   0%|          | 0/235 [00:00<?, ?it/s]"
      ]
     },
     "metadata": {},
     "output_type": "display_data"
    },
    {
     "data": {
      "application/vnd.jupyter.widget-view+json": {
       "model_id": "913e7620e5234856922f486ca1aef08c",
       "version_major": 2,
       "version_minor": 0
      },
      "text/plain": [
       "Test MNIST:   0%|          | 0/40 [00:00<?, ?it/s]"
      ]
     },
     "metadata": {},
     "output_type": "display_data"
    },
    {
     "data": {
      "application/vnd.jupyter.widget-view+json": {
       "model_id": "909553a42f2745708d354d6c80580690",
       "version_major": 2,
       "version_minor": 0
      },
      "text/plain": [
       "Test EMNIST:   0%|          | 0/405 [00:00<?, ?it/s]"
      ]
     },
     "metadata": {},
     "output_type": "display_data"
    },
    {
     "name": "stdout",
     "output_type": "stream",
     "text": [
      "Epoch 48/100\n"
     ]
    },
    {
     "data": {
      "application/vnd.jupyter.widget-view+json": {
       "model_id": "5246752743c2483ab58e556d023a7295",
       "version_major": 2,
       "version_minor": 0
      },
      "text/plain": [
       "Training:   0%|          | 0/235 [00:00<?, ?it/s]"
      ]
     },
     "metadata": {},
     "output_type": "display_data"
    },
    {
     "data": {
      "application/vnd.jupyter.widget-view+json": {
       "model_id": "1d198f54799a4b078cce5bdf8c3e25ab",
       "version_major": 2,
       "version_minor": 0
      },
      "text/plain": [
       "Test MNIST:   0%|          | 0/40 [00:00<?, ?it/s]"
      ]
     },
     "metadata": {},
     "output_type": "display_data"
    },
    {
     "data": {
      "application/vnd.jupyter.widget-view+json": {
       "model_id": "dd4a0d73c77c42328d37fe2b0f2ce36e",
       "version_major": 2,
       "version_minor": 0
      },
      "text/plain": [
       "Test EMNIST:   0%|          | 0/405 [00:00<?, ?it/s]"
      ]
     },
     "metadata": {},
     "output_type": "display_data"
    },
    {
     "name": "stdout",
     "output_type": "stream",
     "text": [
      "Epoch 49/100\n"
     ]
    },
    {
     "data": {
      "application/vnd.jupyter.widget-view+json": {
       "model_id": "d7b88f845bb24553913649f4ccff3bce",
       "version_major": 2,
       "version_minor": 0
      },
      "text/plain": [
       "Training:   0%|          | 0/235 [00:00<?, ?it/s]"
      ]
     },
     "metadata": {},
     "output_type": "display_data"
    },
    {
     "data": {
      "application/vnd.jupyter.widget-view+json": {
       "model_id": "85bbd9178f0b41d1aec0522226b9131a",
       "version_major": 2,
       "version_minor": 0
      },
      "text/plain": [
       "Test MNIST:   0%|          | 0/40 [00:00<?, ?it/s]"
      ]
     },
     "metadata": {},
     "output_type": "display_data"
    },
    {
     "data": {
      "application/vnd.jupyter.widget-view+json": {
       "model_id": "2c54e1c40ecf46d1bbc18d852e2e373f",
       "version_major": 2,
       "version_minor": 0
      },
      "text/plain": [
       "Test EMNIST:   0%|          | 0/405 [00:00<?, ?it/s]"
      ]
     },
     "metadata": {},
     "output_type": "display_data"
    },
    {
     "name": "stdout",
     "output_type": "stream",
     "text": [
      "Epoch 50/100\n"
     ]
    },
    {
     "data": {
      "application/vnd.jupyter.widget-view+json": {
       "model_id": "d2fb74d3153a44789cb1d630d7b4f3c2",
       "version_major": 2,
       "version_minor": 0
      },
      "text/plain": [
       "Training:   0%|          | 0/235 [00:00<?, ?it/s]"
      ]
     },
     "metadata": {},
     "output_type": "display_data"
    },
    {
     "data": {
      "application/vnd.jupyter.widget-view+json": {
       "model_id": "87e448c4f5864e008e860d466b11fedc",
       "version_major": 2,
       "version_minor": 0
      },
      "text/plain": [
       "Test MNIST:   0%|          | 0/40 [00:00<?, ?it/s]"
      ]
     },
     "metadata": {},
     "output_type": "display_data"
    },
    {
     "data": {
      "application/vnd.jupyter.widget-view+json": {
       "model_id": "14eeaad70ff84254a3328530c2d2b65c",
       "version_major": 2,
       "version_minor": 0
      },
      "text/plain": [
       "Test EMNIST:   0%|          | 0/405 [00:00<?, ?it/s]"
      ]
     },
     "metadata": {},
     "output_type": "display_data"
    },
    {
     "name": "stdout",
     "output_type": "stream",
     "text": [
      "Epoch 51/100\n"
     ]
    },
    {
     "data": {
      "application/vnd.jupyter.widget-view+json": {
       "model_id": "da2568252177414dbf5b4ab0586e1d24",
       "version_major": 2,
       "version_minor": 0
      },
      "text/plain": [
       "Training:   0%|          | 0/235 [00:00<?, ?it/s]"
      ]
     },
     "metadata": {},
     "output_type": "display_data"
    },
    {
     "data": {
      "application/vnd.jupyter.widget-view+json": {
       "model_id": "8c803a38fec545e4b581699e434d7d38",
       "version_major": 2,
       "version_minor": 0
      },
      "text/plain": [
       "Test MNIST:   0%|          | 0/40 [00:00<?, ?it/s]"
      ]
     },
     "metadata": {},
     "output_type": "display_data"
    },
    {
     "data": {
      "application/vnd.jupyter.widget-view+json": {
       "model_id": "f8f83c1548794cbd81e6fcaae0708582",
       "version_major": 2,
       "version_minor": 0
      },
      "text/plain": [
       "Test EMNIST:   0%|          | 0/405 [00:00<?, ?it/s]"
      ]
     },
     "metadata": {},
     "output_type": "display_data"
    },
    {
     "name": "stdout",
     "output_type": "stream",
     "text": [
      "Epoch 52/100\n"
     ]
    },
    {
     "data": {
      "application/vnd.jupyter.widget-view+json": {
       "model_id": "b1b4ac24152f4d59bdd35eff198b99c5",
       "version_major": 2,
       "version_minor": 0
      },
      "text/plain": [
       "Training:   0%|          | 0/235 [00:00<?, ?it/s]"
      ]
     },
     "metadata": {},
     "output_type": "display_data"
    },
    {
     "data": {
      "application/vnd.jupyter.widget-view+json": {
       "model_id": "01c953e032be453b85f0cc30c934e8bd",
       "version_major": 2,
       "version_minor": 0
      },
      "text/plain": [
       "Test MNIST:   0%|          | 0/40 [00:00<?, ?it/s]"
      ]
     },
     "metadata": {},
     "output_type": "display_data"
    },
    {
     "data": {
      "application/vnd.jupyter.widget-view+json": {
       "model_id": "ed7f496c06ea4bada6f26d101a5b2d9d",
       "version_major": 2,
       "version_minor": 0
      },
      "text/plain": [
       "Test EMNIST:   0%|          | 0/405 [00:00<?, ?it/s]"
      ]
     },
     "metadata": {},
     "output_type": "display_data"
    },
    {
     "name": "stdout",
     "output_type": "stream",
     "text": [
      "Epoch 53/100\n"
     ]
    },
    {
     "data": {
      "application/vnd.jupyter.widget-view+json": {
       "model_id": "0a8bcc0214084a3e9a179e7b22972e36",
       "version_major": 2,
       "version_minor": 0
      },
      "text/plain": [
       "Training:   0%|          | 0/235 [00:00<?, ?it/s]"
      ]
     },
     "metadata": {},
     "output_type": "display_data"
    },
    {
     "data": {
      "application/vnd.jupyter.widget-view+json": {
       "model_id": "8274df4a470643338f305400cdd3e336",
       "version_major": 2,
       "version_minor": 0
      },
      "text/plain": [
       "Test MNIST:   0%|          | 0/40 [00:00<?, ?it/s]"
      ]
     },
     "metadata": {},
     "output_type": "display_data"
    },
    {
     "data": {
      "application/vnd.jupyter.widget-view+json": {
       "model_id": "1363dec51c25419987183077414cffda",
       "version_major": 2,
       "version_minor": 0
      },
      "text/plain": [
       "Test EMNIST:   0%|          | 0/405 [00:00<?, ?it/s]"
      ]
     },
     "metadata": {},
     "output_type": "display_data"
    },
    {
     "name": "stdout",
     "output_type": "stream",
     "text": [
      "Epoch 54/100\n"
     ]
    },
    {
     "data": {
      "application/vnd.jupyter.widget-view+json": {
       "model_id": "aee31212417c4380af1ea1976f6bb826",
       "version_major": 2,
       "version_minor": 0
      },
      "text/plain": [
       "Training:   0%|          | 0/235 [00:00<?, ?it/s]"
      ]
     },
     "metadata": {},
     "output_type": "display_data"
    },
    {
     "data": {
      "application/vnd.jupyter.widget-view+json": {
       "model_id": "2e6719096eee4dbabc2f146299e967cb",
       "version_major": 2,
       "version_minor": 0
      },
      "text/plain": [
       "Test MNIST:   0%|          | 0/40 [00:00<?, ?it/s]"
      ]
     },
     "metadata": {},
     "output_type": "display_data"
    },
    {
     "data": {
      "application/vnd.jupyter.widget-view+json": {
       "model_id": "69c7421c75a14dec9a1b341369b9c986",
       "version_major": 2,
       "version_minor": 0
      },
      "text/plain": [
       "Test EMNIST:   0%|          | 0/405 [00:00<?, ?it/s]"
      ]
     },
     "metadata": {},
     "output_type": "display_data"
    },
    {
     "name": "stdout",
     "output_type": "stream",
     "text": [
      "Epoch 55/100\n"
     ]
    },
    {
     "data": {
      "application/vnd.jupyter.widget-view+json": {
       "model_id": "0b775384a7ca4c1d9e5358ab272fbf10",
       "version_major": 2,
       "version_minor": 0
      },
      "text/plain": [
       "Training:   0%|          | 0/235 [00:00<?, ?it/s]"
      ]
     },
     "metadata": {},
     "output_type": "display_data"
    },
    {
     "data": {
      "application/vnd.jupyter.widget-view+json": {
       "model_id": "1b818ebca7ed4542a1fc153083ccf0c5",
       "version_major": 2,
       "version_minor": 0
      },
      "text/plain": [
       "Test MNIST:   0%|          | 0/40 [00:00<?, ?it/s]"
      ]
     },
     "metadata": {},
     "output_type": "display_data"
    },
    {
     "data": {
      "application/vnd.jupyter.widget-view+json": {
       "model_id": "af340aba6fc64824b8ece4ccdaf88f8e",
       "version_major": 2,
       "version_minor": 0
      },
      "text/plain": [
       "Test EMNIST:   0%|          | 0/405 [00:00<?, ?it/s]"
      ]
     },
     "metadata": {},
     "output_type": "display_data"
    },
    {
     "name": "stdout",
     "output_type": "stream",
     "text": [
      "Epoch 56/100\n"
     ]
    },
    {
     "data": {
      "application/vnd.jupyter.widget-view+json": {
       "model_id": "f640c0fda64f44b38fa86a1770ae5dba",
       "version_major": 2,
       "version_minor": 0
      },
      "text/plain": [
       "Training:   0%|          | 0/235 [00:00<?, ?it/s]"
      ]
     },
     "metadata": {},
     "output_type": "display_data"
    },
    {
     "data": {
      "application/vnd.jupyter.widget-view+json": {
       "model_id": "0b750b32f6e04f8ebc7d24fe04939f4e",
       "version_major": 2,
       "version_minor": 0
      },
      "text/plain": [
       "Test MNIST:   0%|          | 0/40 [00:00<?, ?it/s]"
      ]
     },
     "metadata": {},
     "output_type": "display_data"
    },
    {
     "data": {
      "application/vnd.jupyter.widget-view+json": {
       "model_id": "5026903a4b8e4ebb96f1f45d228da909",
       "version_major": 2,
       "version_minor": 0
      },
      "text/plain": [
       "Test EMNIST:   0%|          | 0/405 [00:00<?, ?it/s]"
      ]
     },
     "metadata": {},
     "output_type": "display_data"
    },
    {
     "name": "stdout",
     "output_type": "stream",
     "text": [
      "Epoch 57/100\n"
     ]
    },
    {
     "data": {
      "application/vnd.jupyter.widget-view+json": {
       "model_id": "714abadcd2a645c9b02cc22b61154912",
       "version_major": 2,
       "version_minor": 0
      },
      "text/plain": [
       "Training:   0%|          | 0/235 [00:00<?, ?it/s]"
      ]
     },
     "metadata": {},
     "output_type": "display_data"
    },
    {
     "data": {
      "application/vnd.jupyter.widget-view+json": {
       "model_id": "8a353f38dbdf4b28b5c1d952b9b35f19",
       "version_major": 2,
       "version_minor": 0
      },
      "text/plain": [
       "Test MNIST:   0%|          | 0/40 [00:00<?, ?it/s]"
      ]
     },
     "metadata": {},
     "output_type": "display_data"
    },
    {
     "data": {
      "application/vnd.jupyter.widget-view+json": {
       "model_id": "99a18388e2464a51b7af4f0e8e0f3f63",
       "version_major": 2,
       "version_minor": 0
      },
      "text/plain": [
       "Test EMNIST:   0%|          | 0/405 [00:00<?, ?it/s]"
      ]
     },
     "metadata": {},
     "output_type": "display_data"
    },
    {
     "name": "stdout",
     "output_type": "stream",
     "text": [
      "Epoch 58/100\n"
     ]
    },
    {
     "data": {
      "application/vnd.jupyter.widget-view+json": {
       "model_id": "66383cf4b3d74cd996e0b015258410f2",
       "version_major": 2,
       "version_minor": 0
      },
      "text/plain": [
       "Training:   0%|          | 0/235 [00:00<?, ?it/s]"
      ]
     },
     "metadata": {},
     "output_type": "display_data"
    },
    {
     "data": {
      "application/vnd.jupyter.widget-view+json": {
       "model_id": "e1ca96947262412381628dee328ca155",
       "version_major": 2,
       "version_minor": 0
      },
      "text/plain": [
       "Test MNIST:   0%|          | 0/40 [00:00<?, ?it/s]"
      ]
     },
     "metadata": {},
     "output_type": "display_data"
    },
    {
     "data": {
      "application/vnd.jupyter.widget-view+json": {
       "model_id": "893303a1c4974251889bdb7021fea246",
       "version_major": 2,
       "version_minor": 0
      },
      "text/plain": [
       "Test EMNIST:   0%|          | 0/405 [00:00<?, ?it/s]"
      ]
     },
     "metadata": {},
     "output_type": "display_data"
    },
    {
     "name": "stdout",
     "output_type": "stream",
     "text": [
      "Epoch 59/100\n"
     ]
    },
    {
     "data": {
      "application/vnd.jupyter.widget-view+json": {
       "model_id": "854f9b5ffd5d4b27b7ebe5d6009cfc04",
       "version_major": 2,
       "version_minor": 0
      },
      "text/plain": [
       "Training:   0%|          | 0/235 [00:00<?, ?it/s]"
      ]
     },
     "metadata": {},
     "output_type": "display_data"
    },
    {
     "data": {
      "application/vnd.jupyter.widget-view+json": {
       "model_id": "4dd34e7da63740fbaf2827a9bc7356c6",
       "version_major": 2,
       "version_minor": 0
      },
      "text/plain": [
       "Test MNIST:   0%|          | 0/40 [00:00<?, ?it/s]"
      ]
     },
     "metadata": {},
     "output_type": "display_data"
    },
    {
     "data": {
      "application/vnd.jupyter.widget-view+json": {
       "model_id": "da1eaf2c8ea2445285c55ce2cce7d397",
       "version_major": 2,
       "version_minor": 0
      },
      "text/plain": [
       "Test EMNIST:   0%|          | 0/405 [00:00<?, ?it/s]"
      ]
     },
     "metadata": {},
     "output_type": "display_data"
    },
    {
     "name": "stdout",
     "output_type": "stream",
     "text": [
      "Epoch 60/100\n"
     ]
    },
    {
     "data": {
      "application/vnd.jupyter.widget-view+json": {
       "model_id": "0d8b6da96050406eb14fd1bc92e77283",
       "version_major": 2,
       "version_minor": 0
      },
      "text/plain": [
       "Training:   0%|          | 0/235 [00:00<?, ?it/s]"
      ]
     },
     "metadata": {},
     "output_type": "display_data"
    },
    {
     "data": {
      "application/vnd.jupyter.widget-view+json": {
       "model_id": "88109ef0f11e40428947dfdad49d05d9",
       "version_major": 2,
       "version_minor": 0
      },
      "text/plain": [
       "Test MNIST:   0%|          | 0/40 [00:00<?, ?it/s]"
      ]
     },
     "metadata": {},
     "output_type": "display_data"
    },
    {
     "data": {
      "application/vnd.jupyter.widget-view+json": {
       "model_id": "8c396cccf5fc42ed97faf02991fbb916",
       "version_major": 2,
       "version_minor": 0
      },
      "text/plain": [
       "Test EMNIST:   0%|          | 0/405 [00:00<?, ?it/s]"
      ]
     },
     "metadata": {},
     "output_type": "display_data"
    },
    {
     "name": "stdout",
     "output_type": "stream",
     "text": [
      "Epoch 61/100\n"
     ]
    },
    {
     "data": {
      "application/vnd.jupyter.widget-view+json": {
       "model_id": "4f324a330f1b4b14bf041b20866559c7",
       "version_major": 2,
       "version_minor": 0
      },
      "text/plain": [
       "Training:   0%|          | 0/235 [00:00<?, ?it/s]"
      ]
     },
     "metadata": {},
     "output_type": "display_data"
    },
    {
     "data": {
      "application/vnd.jupyter.widget-view+json": {
       "model_id": "5352f750face4eb59f2d4c8cf492adb7",
       "version_major": 2,
       "version_minor": 0
      },
      "text/plain": [
       "Test MNIST:   0%|          | 0/40 [00:00<?, ?it/s]"
      ]
     },
     "metadata": {},
     "output_type": "display_data"
    },
    {
     "data": {
      "application/vnd.jupyter.widget-view+json": {
       "model_id": "adc56f5dc51a4f25a140f5dcaa2abeac",
       "version_major": 2,
       "version_minor": 0
      },
      "text/plain": [
       "Test EMNIST:   0%|          | 0/405 [00:00<?, ?it/s]"
      ]
     },
     "metadata": {},
     "output_type": "display_data"
    },
    {
     "name": "stdout",
     "output_type": "stream",
     "text": [
      "Epoch 62/100\n"
     ]
    },
    {
     "data": {
      "application/vnd.jupyter.widget-view+json": {
       "model_id": "360943baadf04034a40b0b9b4034a0f8",
       "version_major": 2,
       "version_minor": 0
      },
      "text/plain": [
       "Training:   0%|          | 0/235 [00:00<?, ?it/s]"
      ]
     },
     "metadata": {},
     "output_type": "display_data"
    },
    {
     "data": {
      "application/vnd.jupyter.widget-view+json": {
       "model_id": "d17cf3c1c91844a69716fe10e46c1e9b",
       "version_major": 2,
       "version_minor": 0
      },
      "text/plain": [
       "Test MNIST:   0%|          | 0/40 [00:00<?, ?it/s]"
      ]
     },
     "metadata": {},
     "output_type": "display_data"
    },
    {
     "data": {
      "application/vnd.jupyter.widget-view+json": {
       "model_id": "f7cecb3d35744ed5952670110f66fe08",
       "version_major": 2,
       "version_minor": 0
      },
      "text/plain": [
       "Test EMNIST:   0%|          | 0/405 [00:00<?, ?it/s]"
      ]
     },
     "metadata": {},
     "output_type": "display_data"
    },
    {
     "name": "stdout",
     "output_type": "stream",
     "text": [
      "Epoch 63/100\n"
     ]
    },
    {
     "data": {
      "application/vnd.jupyter.widget-view+json": {
       "model_id": "4311f6a2f7c74d2a9d0b20f441929a8e",
       "version_major": 2,
       "version_minor": 0
      },
      "text/plain": [
       "Training:   0%|          | 0/235 [00:00<?, ?it/s]"
      ]
     },
     "metadata": {},
     "output_type": "display_data"
    },
    {
     "data": {
      "application/vnd.jupyter.widget-view+json": {
       "model_id": "4cf7d62491c8450591cccd9b0d2e5f2c",
       "version_major": 2,
       "version_minor": 0
      },
      "text/plain": [
       "Test MNIST:   0%|          | 0/40 [00:00<?, ?it/s]"
      ]
     },
     "metadata": {},
     "output_type": "display_data"
    },
    {
     "data": {
      "application/vnd.jupyter.widget-view+json": {
       "model_id": "f4f84b30421b49f8b82b6470d8e9fad5",
       "version_major": 2,
       "version_minor": 0
      },
      "text/plain": [
       "Test EMNIST:   0%|          | 0/405 [00:00<?, ?it/s]"
      ]
     },
     "metadata": {},
     "output_type": "display_data"
    },
    {
     "name": "stdout",
     "output_type": "stream",
     "text": [
      "Epoch 64/100\n"
     ]
    },
    {
     "data": {
      "application/vnd.jupyter.widget-view+json": {
       "model_id": "fed241c943f34774a692b256928b5d9c",
       "version_major": 2,
       "version_minor": 0
      },
      "text/plain": [
       "Training:   0%|          | 0/235 [00:00<?, ?it/s]"
      ]
     },
     "metadata": {},
     "output_type": "display_data"
    },
    {
     "data": {
      "application/vnd.jupyter.widget-view+json": {
       "model_id": "9f860ce1a8414cddb50d6f5228be92bf",
       "version_major": 2,
       "version_minor": 0
      },
      "text/plain": [
       "Test MNIST:   0%|          | 0/40 [00:00<?, ?it/s]"
      ]
     },
     "metadata": {},
     "output_type": "display_data"
    },
    {
     "data": {
      "application/vnd.jupyter.widget-view+json": {
       "model_id": "51237106b5b1460bb1c52f1288cce51f",
       "version_major": 2,
       "version_minor": 0
      },
      "text/plain": [
       "Test EMNIST:   0%|          | 0/405 [00:00<?, ?it/s]"
      ]
     },
     "metadata": {},
     "output_type": "display_data"
    },
    {
     "name": "stdout",
     "output_type": "stream",
     "text": [
      "Epoch 65/100\n"
     ]
    },
    {
     "data": {
      "application/vnd.jupyter.widget-view+json": {
       "model_id": "6f972b6eefc04d4abfb29bf77aad5eed",
       "version_major": 2,
       "version_minor": 0
      },
      "text/plain": [
       "Training:   0%|          | 0/235 [00:00<?, ?it/s]"
      ]
     },
     "metadata": {},
     "output_type": "display_data"
    },
    {
     "data": {
      "application/vnd.jupyter.widget-view+json": {
       "model_id": "c7c3f91f77774952b6a989ec1a30fba8",
       "version_major": 2,
       "version_minor": 0
      },
      "text/plain": [
       "Test MNIST:   0%|          | 0/40 [00:00<?, ?it/s]"
      ]
     },
     "metadata": {},
     "output_type": "display_data"
    },
    {
     "data": {
      "application/vnd.jupyter.widget-view+json": {
       "model_id": "94eb5e9361524182820cbc65b8c57e9e",
       "version_major": 2,
       "version_minor": 0
      },
      "text/plain": [
       "Test EMNIST:   0%|          | 0/405 [00:00<?, ?it/s]"
      ]
     },
     "metadata": {},
     "output_type": "display_data"
    },
    {
     "name": "stdout",
     "output_type": "stream",
     "text": [
      "Epoch 66/100\n"
     ]
    },
    {
     "data": {
      "application/vnd.jupyter.widget-view+json": {
       "model_id": "7cc1559658fd446386a378930c3eeefa",
       "version_major": 2,
       "version_minor": 0
      },
      "text/plain": [
       "Training:   0%|          | 0/235 [00:00<?, ?it/s]"
      ]
     },
     "metadata": {},
     "output_type": "display_data"
    },
    {
     "data": {
      "application/vnd.jupyter.widget-view+json": {
       "model_id": "f1cb86dd00824682b5dcee00d0da7f83",
       "version_major": 2,
       "version_minor": 0
      },
      "text/plain": [
       "Test MNIST:   0%|          | 0/40 [00:00<?, ?it/s]"
      ]
     },
     "metadata": {},
     "output_type": "display_data"
    },
    {
     "data": {
      "application/vnd.jupyter.widget-view+json": {
       "model_id": "05571f82cce14daca45d8975d1079a1b",
       "version_major": 2,
       "version_minor": 0
      },
      "text/plain": [
       "Test EMNIST:   0%|          | 0/405 [00:00<?, ?it/s]"
      ]
     },
     "metadata": {},
     "output_type": "display_data"
    },
    {
     "name": "stdout",
     "output_type": "stream",
     "text": [
      "Epoch 67/100\n"
     ]
    },
    {
     "data": {
      "application/vnd.jupyter.widget-view+json": {
       "model_id": "a73388e2d29a43c58051b476308e8c31",
       "version_major": 2,
       "version_minor": 0
      },
      "text/plain": [
       "Training:   0%|          | 0/235 [00:00<?, ?it/s]"
      ]
     },
     "metadata": {},
     "output_type": "display_data"
    },
    {
     "data": {
      "application/vnd.jupyter.widget-view+json": {
       "model_id": "bde3bc1bf68c40b7861b0f373a5cc9b2",
       "version_major": 2,
       "version_minor": 0
      },
      "text/plain": [
       "Test MNIST:   0%|          | 0/40 [00:00<?, ?it/s]"
      ]
     },
     "metadata": {},
     "output_type": "display_data"
    },
    {
     "data": {
      "application/vnd.jupyter.widget-view+json": {
       "model_id": "df3b5cac6e3342ab9bb5d301ec1cff44",
       "version_major": 2,
       "version_minor": 0
      },
      "text/plain": [
       "Test EMNIST:   0%|          | 0/405 [00:00<?, ?it/s]"
      ]
     },
     "metadata": {},
     "output_type": "display_data"
    },
    {
     "name": "stdout",
     "output_type": "stream",
     "text": [
      "Epoch 68/100\n"
     ]
    },
    {
     "data": {
      "application/vnd.jupyter.widget-view+json": {
       "model_id": "aac24d88fb224146a8ed40e6a5a5acb0",
       "version_major": 2,
       "version_minor": 0
      },
      "text/plain": [
       "Training:   0%|          | 0/235 [00:00<?, ?it/s]"
      ]
     },
     "metadata": {},
     "output_type": "display_data"
    },
    {
     "data": {
      "application/vnd.jupyter.widget-view+json": {
       "model_id": "794647e6c76c47d3abafcf4ac8bd030a",
       "version_major": 2,
       "version_minor": 0
      },
      "text/plain": [
       "Test MNIST:   0%|          | 0/40 [00:00<?, ?it/s]"
      ]
     },
     "metadata": {},
     "output_type": "display_data"
    },
    {
     "data": {
      "application/vnd.jupyter.widget-view+json": {
       "model_id": "56ef94ae02b24691ad9052a9df9b60d2",
       "version_major": 2,
       "version_minor": 0
      },
      "text/plain": [
       "Test EMNIST:   0%|          | 0/405 [00:00<?, ?it/s]"
      ]
     },
     "metadata": {},
     "output_type": "display_data"
    },
    {
     "name": "stdout",
     "output_type": "stream",
     "text": [
      "Epoch 69/100\n"
     ]
    },
    {
     "data": {
      "application/vnd.jupyter.widget-view+json": {
       "model_id": "e64e6f82f00045ac8a2a39947f041960",
       "version_major": 2,
       "version_minor": 0
      },
      "text/plain": [
       "Training:   0%|          | 0/235 [00:00<?, ?it/s]"
      ]
     },
     "metadata": {},
     "output_type": "display_data"
    },
    {
     "data": {
      "application/vnd.jupyter.widget-view+json": {
       "model_id": "b782c39fb8f54694ba99065a5ff8d681",
       "version_major": 2,
       "version_minor": 0
      },
      "text/plain": [
       "Test MNIST:   0%|          | 0/40 [00:00<?, ?it/s]"
      ]
     },
     "metadata": {},
     "output_type": "display_data"
    },
    {
     "data": {
      "application/vnd.jupyter.widget-view+json": {
       "model_id": "1300ec6e04fb40d7b2aecf1dd90a8ed3",
       "version_major": 2,
       "version_minor": 0
      },
      "text/plain": [
       "Test EMNIST:   0%|          | 0/405 [00:00<?, ?it/s]"
      ]
     },
     "metadata": {},
     "output_type": "display_data"
    },
    {
     "name": "stdout",
     "output_type": "stream",
     "text": [
      "Epoch 70/100\n"
     ]
    },
    {
     "data": {
      "application/vnd.jupyter.widget-view+json": {
       "model_id": "494dd565aad846ae86bec34a2764d78d",
       "version_major": 2,
       "version_minor": 0
      },
      "text/plain": [
       "Training:   0%|          | 0/235 [00:00<?, ?it/s]"
      ]
     },
     "metadata": {},
     "output_type": "display_data"
    },
    {
     "data": {
      "application/vnd.jupyter.widget-view+json": {
       "model_id": "5ac55b1010d4443d9318f7f111f80745",
       "version_major": 2,
       "version_minor": 0
      },
      "text/plain": [
       "Test MNIST:   0%|          | 0/40 [00:00<?, ?it/s]"
      ]
     },
     "metadata": {},
     "output_type": "display_data"
    },
    {
     "data": {
      "application/vnd.jupyter.widget-view+json": {
       "model_id": "fb879823cc754c09a62d90b6785cb170",
       "version_major": 2,
       "version_minor": 0
      },
      "text/plain": [
       "Test EMNIST:   0%|          | 0/405 [00:00<?, ?it/s]"
      ]
     },
     "metadata": {},
     "output_type": "display_data"
    },
    {
     "name": "stdout",
     "output_type": "stream",
     "text": [
      "Epoch 71/100\n"
     ]
    },
    {
     "data": {
      "application/vnd.jupyter.widget-view+json": {
       "model_id": "4188382597444966a55a27f401c333c9",
       "version_major": 2,
       "version_minor": 0
      },
      "text/plain": [
       "Training:   0%|          | 0/235 [00:00<?, ?it/s]"
      ]
     },
     "metadata": {},
     "output_type": "display_data"
    },
    {
     "data": {
      "application/vnd.jupyter.widget-view+json": {
       "model_id": "f33855f884f6471db19f36949914803e",
       "version_major": 2,
       "version_minor": 0
      },
      "text/plain": [
       "Test MNIST:   0%|          | 0/40 [00:00<?, ?it/s]"
      ]
     },
     "metadata": {},
     "output_type": "display_data"
    },
    {
     "data": {
      "application/vnd.jupyter.widget-view+json": {
       "model_id": "7b50041e42e74458b90c46826e676421",
       "version_major": 2,
       "version_minor": 0
      },
      "text/plain": [
       "Test EMNIST:   0%|          | 0/405 [00:00<?, ?it/s]"
      ]
     },
     "metadata": {},
     "output_type": "display_data"
    },
    {
     "name": "stdout",
     "output_type": "stream",
     "text": [
      "Epoch 72/100\n"
     ]
    },
    {
     "data": {
      "application/vnd.jupyter.widget-view+json": {
       "model_id": "f36477d73eca4d358c98004f718fb867",
       "version_major": 2,
       "version_minor": 0
      },
      "text/plain": [
       "Training:   0%|          | 0/235 [00:00<?, ?it/s]"
      ]
     },
     "metadata": {},
     "output_type": "display_data"
    },
    {
     "data": {
      "application/vnd.jupyter.widget-view+json": {
       "model_id": "ec3662a868b84b978d3929ab4a775e70",
       "version_major": 2,
       "version_minor": 0
      },
      "text/plain": [
       "Test MNIST:   0%|          | 0/40 [00:00<?, ?it/s]"
      ]
     },
     "metadata": {},
     "output_type": "display_data"
    },
    {
     "data": {
      "application/vnd.jupyter.widget-view+json": {
       "model_id": "229113efb1a24709910350db8327fd15",
       "version_major": 2,
       "version_minor": 0
      },
      "text/plain": [
       "Test EMNIST:   0%|          | 0/405 [00:00<?, ?it/s]"
      ]
     },
     "metadata": {},
     "output_type": "display_data"
    },
    {
     "name": "stdout",
     "output_type": "stream",
     "text": [
      "Epoch 73/100\n"
     ]
    },
    {
     "data": {
      "application/vnd.jupyter.widget-view+json": {
       "model_id": "435c8a48b83b478db4c127dc851b2257",
       "version_major": 2,
       "version_minor": 0
      },
      "text/plain": [
       "Training:   0%|          | 0/235 [00:00<?, ?it/s]"
      ]
     },
     "metadata": {},
     "output_type": "display_data"
    },
    {
     "data": {
      "application/vnd.jupyter.widget-view+json": {
       "model_id": "90758af0efe9484788b5e27786838377",
       "version_major": 2,
       "version_minor": 0
      },
      "text/plain": [
       "Test MNIST:   0%|          | 0/40 [00:00<?, ?it/s]"
      ]
     },
     "metadata": {},
     "output_type": "display_data"
    },
    {
     "data": {
      "application/vnd.jupyter.widget-view+json": {
       "model_id": "e42122903cef47bcaa387b764d91cde3",
       "version_major": 2,
       "version_minor": 0
      },
      "text/plain": [
       "Test EMNIST:   0%|          | 0/405 [00:00<?, ?it/s]"
      ]
     },
     "metadata": {},
     "output_type": "display_data"
    },
    {
     "name": "stdout",
     "output_type": "stream",
     "text": [
      "Epoch 74/100\n"
     ]
    },
    {
     "data": {
      "application/vnd.jupyter.widget-view+json": {
       "model_id": "134559d0577945c18109b9526992aed4",
       "version_major": 2,
       "version_minor": 0
      },
      "text/plain": [
       "Training:   0%|          | 0/235 [00:00<?, ?it/s]"
      ]
     },
     "metadata": {},
     "output_type": "display_data"
    },
    {
     "data": {
      "application/vnd.jupyter.widget-view+json": {
       "model_id": "45817c11ea4e4ac38fd4015dc7699ae5",
       "version_major": 2,
       "version_minor": 0
      },
      "text/plain": [
       "Test MNIST:   0%|          | 0/40 [00:00<?, ?it/s]"
      ]
     },
     "metadata": {},
     "output_type": "display_data"
    },
    {
     "data": {
      "application/vnd.jupyter.widget-view+json": {
       "model_id": "a6ccb9f497b8462186581b8a66249fa5",
       "version_major": 2,
       "version_minor": 0
      },
      "text/plain": [
       "Test EMNIST:   0%|          | 0/405 [00:00<?, ?it/s]"
      ]
     },
     "metadata": {},
     "output_type": "display_data"
    },
    {
     "name": "stdout",
     "output_type": "stream",
     "text": [
      "Epoch 75/100\n"
     ]
    },
    {
     "data": {
      "application/vnd.jupyter.widget-view+json": {
       "model_id": "008abc7e682a4ef08395f016e5b1d91c",
       "version_major": 2,
       "version_minor": 0
      },
      "text/plain": [
       "Training:   0%|          | 0/235 [00:00<?, ?it/s]"
      ]
     },
     "metadata": {},
     "output_type": "display_data"
    },
    {
     "data": {
      "application/vnd.jupyter.widget-view+json": {
       "model_id": "64b665f288644dd983e68ac719b14656",
       "version_major": 2,
       "version_minor": 0
      },
      "text/plain": [
       "Test MNIST:   0%|          | 0/40 [00:00<?, ?it/s]"
      ]
     },
     "metadata": {},
     "output_type": "display_data"
    },
    {
     "data": {
      "application/vnd.jupyter.widget-view+json": {
       "model_id": "5af32fa1f78a40ada68b56a450656ce6",
       "version_major": 2,
       "version_minor": 0
      },
      "text/plain": [
       "Test EMNIST:   0%|          | 0/405 [00:00<?, ?it/s]"
      ]
     },
     "metadata": {},
     "output_type": "display_data"
    },
    {
     "name": "stdout",
     "output_type": "stream",
     "text": [
      "Epoch 76/100\n"
     ]
    },
    {
     "data": {
      "application/vnd.jupyter.widget-view+json": {
       "model_id": "e83c757b3bfe410db4ee5410ea9abe85",
       "version_major": 2,
       "version_minor": 0
      },
      "text/plain": [
       "Training:   0%|          | 0/235 [00:00<?, ?it/s]"
      ]
     },
     "metadata": {},
     "output_type": "display_data"
    },
    {
     "data": {
      "application/vnd.jupyter.widget-view+json": {
       "model_id": "9efa48304f454a6b9afe7881d32bcd4d",
       "version_major": 2,
       "version_minor": 0
      },
      "text/plain": [
       "Test MNIST:   0%|          | 0/40 [00:00<?, ?it/s]"
      ]
     },
     "metadata": {},
     "output_type": "display_data"
    },
    {
     "data": {
      "application/vnd.jupyter.widget-view+json": {
       "model_id": "1a0e42a5215f46ea898d13b3cfb9ffd3",
       "version_major": 2,
       "version_minor": 0
      },
      "text/plain": [
       "Test EMNIST:   0%|          | 0/405 [00:00<?, ?it/s]"
      ]
     },
     "metadata": {},
     "output_type": "display_data"
    },
    {
     "name": "stdout",
     "output_type": "stream",
     "text": [
      "Epoch 77/100\n"
     ]
    },
    {
     "data": {
      "application/vnd.jupyter.widget-view+json": {
       "model_id": "c0a316c23a1846f68078eb2d6c8b1056",
       "version_major": 2,
       "version_minor": 0
      },
      "text/plain": [
       "Training:   0%|          | 0/235 [00:00<?, ?it/s]"
      ]
     },
     "metadata": {},
     "output_type": "display_data"
    },
    {
     "data": {
      "application/vnd.jupyter.widget-view+json": {
       "model_id": "05f19ede89c74e9b8cf6915b23650ce2",
       "version_major": 2,
       "version_minor": 0
      },
      "text/plain": [
       "Test MNIST:   0%|          | 0/40 [00:00<?, ?it/s]"
      ]
     },
     "metadata": {},
     "output_type": "display_data"
    },
    {
     "data": {
      "application/vnd.jupyter.widget-view+json": {
       "model_id": "bf0615520cbb44a0bfbc08dae7a0d43d",
       "version_major": 2,
       "version_minor": 0
      },
      "text/plain": [
       "Test EMNIST:   0%|          | 0/405 [00:00<?, ?it/s]"
      ]
     },
     "metadata": {},
     "output_type": "display_data"
    },
    {
     "name": "stdout",
     "output_type": "stream",
     "text": [
      "Epoch 78/100\n"
     ]
    },
    {
     "data": {
      "application/vnd.jupyter.widget-view+json": {
       "model_id": "38cb57f347674b76a83e0a068396c499",
       "version_major": 2,
       "version_minor": 0
      },
      "text/plain": [
       "Training:   0%|          | 0/235 [00:00<?, ?it/s]"
      ]
     },
     "metadata": {},
     "output_type": "display_data"
    },
    {
     "data": {
      "application/vnd.jupyter.widget-view+json": {
       "model_id": "b4b3270178b04397827d310ed148e458",
       "version_major": 2,
       "version_minor": 0
      },
      "text/plain": [
       "Test MNIST:   0%|          | 0/40 [00:00<?, ?it/s]"
      ]
     },
     "metadata": {},
     "output_type": "display_data"
    },
    {
     "data": {
      "application/vnd.jupyter.widget-view+json": {
       "model_id": "a7044b8e11e24d8aab6c5775b4f1ae95",
       "version_major": 2,
       "version_minor": 0
      },
      "text/plain": [
       "Test EMNIST:   0%|          | 0/405 [00:00<?, ?it/s]"
      ]
     },
     "metadata": {},
     "output_type": "display_data"
    },
    {
     "name": "stdout",
     "output_type": "stream",
     "text": [
      "Epoch 79/100\n"
     ]
    },
    {
     "data": {
      "application/vnd.jupyter.widget-view+json": {
       "model_id": "2d3ade7567dd4701b9f891d27cfd1be7",
       "version_major": 2,
       "version_minor": 0
      },
      "text/plain": [
       "Training:   0%|          | 0/235 [00:00<?, ?it/s]"
      ]
     },
     "metadata": {},
     "output_type": "display_data"
    },
    {
     "data": {
      "application/vnd.jupyter.widget-view+json": {
       "model_id": "953104e4146141e48d2f1b2e31877fe1",
       "version_major": 2,
       "version_minor": 0
      },
      "text/plain": [
       "Test MNIST:   0%|          | 0/40 [00:00<?, ?it/s]"
      ]
     },
     "metadata": {},
     "output_type": "display_data"
    },
    {
     "data": {
      "application/vnd.jupyter.widget-view+json": {
       "model_id": "abbb00ba247f4e49b22d1a16289f2d32",
       "version_major": 2,
       "version_minor": 0
      },
      "text/plain": [
       "Test EMNIST:   0%|          | 0/405 [00:00<?, ?it/s]"
      ]
     },
     "metadata": {},
     "output_type": "display_data"
    },
    {
     "name": "stdout",
     "output_type": "stream",
     "text": [
      "Epoch 80/100\n"
     ]
    },
    {
     "data": {
      "application/vnd.jupyter.widget-view+json": {
       "model_id": "f32eb332a1f14587b4e4250bff87af6c",
       "version_major": 2,
       "version_minor": 0
      },
      "text/plain": [
       "Training:   0%|          | 0/235 [00:00<?, ?it/s]"
      ]
     },
     "metadata": {},
     "output_type": "display_data"
    },
    {
     "data": {
      "application/vnd.jupyter.widget-view+json": {
       "model_id": "361de6172b0249448e92d7dc5962b298",
       "version_major": 2,
       "version_minor": 0
      },
      "text/plain": [
       "Test MNIST:   0%|          | 0/40 [00:00<?, ?it/s]"
      ]
     },
     "metadata": {},
     "output_type": "display_data"
    },
    {
     "data": {
      "application/vnd.jupyter.widget-view+json": {
       "model_id": "bf895f28a9174e9c9361f1f25f540c94",
       "version_major": 2,
       "version_minor": 0
      },
      "text/plain": [
       "Test EMNIST:   0%|          | 0/405 [00:00<?, ?it/s]"
      ]
     },
     "metadata": {},
     "output_type": "display_data"
    },
    {
     "name": "stdout",
     "output_type": "stream",
     "text": [
      "Epoch 81/100\n"
     ]
    },
    {
     "data": {
      "application/vnd.jupyter.widget-view+json": {
       "model_id": "e4fe73019a1740b298d167ca61c6c23a",
       "version_major": 2,
       "version_minor": 0
      },
      "text/plain": [
       "Training:   0%|          | 0/235 [00:00<?, ?it/s]"
      ]
     },
     "metadata": {},
     "output_type": "display_data"
    },
    {
     "data": {
      "application/vnd.jupyter.widget-view+json": {
       "model_id": "2c2f766b3cea4fd3a27e70084a072ab2",
       "version_major": 2,
       "version_minor": 0
      },
      "text/plain": [
       "Test MNIST:   0%|          | 0/40 [00:00<?, ?it/s]"
      ]
     },
     "metadata": {},
     "output_type": "display_data"
    },
    {
     "data": {
      "application/vnd.jupyter.widget-view+json": {
       "model_id": "1637a5af515a491fb47e56fb4ad7dff2",
       "version_major": 2,
       "version_minor": 0
      },
      "text/plain": [
       "Test EMNIST:   0%|          | 0/405 [00:00<?, ?it/s]"
      ]
     },
     "metadata": {},
     "output_type": "display_data"
    },
    {
     "name": "stdout",
     "output_type": "stream",
     "text": [
      "Epoch 82/100\n"
     ]
    },
    {
     "data": {
      "application/vnd.jupyter.widget-view+json": {
       "model_id": "0b71d7d1c98f44d19e040948701fbe21",
       "version_major": 2,
       "version_minor": 0
      },
      "text/plain": [
       "Training:   0%|          | 0/235 [00:00<?, ?it/s]"
      ]
     },
     "metadata": {},
     "output_type": "display_data"
    },
    {
     "data": {
      "application/vnd.jupyter.widget-view+json": {
       "model_id": "f8d78e1b1ef44b5d9d8d1063551083f5",
       "version_major": 2,
       "version_minor": 0
      },
      "text/plain": [
       "Test MNIST:   0%|          | 0/40 [00:00<?, ?it/s]"
      ]
     },
     "metadata": {},
     "output_type": "display_data"
    },
    {
     "data": {
      "application/vnd.jupyter.widget-view+json": {
       "model_id": "369dda2d4871468e83f762fca12be567",
       "version_major": 2,
       "version_minor": 0
      },
      "text/plain": [
       "Test EMNIST:   0%|          | 0/405 [00:00<?, ?it/s]"
      ]
     },
     "metadata": {},
     "output_type": "display_data"
    },
    {
     "name": "stdout",
     "output_type": "stream",
     "text": [
      "Epoch 83/100\n"
     ]
    },
    {
     "data": {
      "application/vnd.jupyter.widget-view+json": {
       "model_id": "4724caa31a734e6594fa8a2e3554d463",
       "version_major": 2,
       "version_minor": 0
      },
      "text/plain": [
       "Training:   0%|          | 0/235 [00:00<?, ?it/s]"
      ]
     },
     "metadata": {},
     "output_type": "display_data"
    },
    {
     "data": {
      "application/vnd.jupyter.widget-view+json": {
       "model_id": "921b039e337445fba79253900f83f4ab",
       "version_major": 2,
       "version_minor": 0
      },
      "text/plain": [
       "Test MNIST:   0%|          | 0/40 [00:00<?, ?it/s]"
      ]
     },
     "metadata": {},
     "output_type": "display_data"
    },
    {
     "data": {
      "application/vnd.jupyter.widget-view+json": {
       "model_id": "1c4d3f124dff4753b2ca811daea66a99",
       "version_major": 2,
       "version_minor": 0
      },
      "text/plain": [
       "Test EMNIST:   0%|          | 0/405 [00:00<?, ?it/s]"
      ]
     },
     "metadata": {},
     "output_type": "display_data"
    },
    {
     "name": "stdout",
     "output_type": "stream",
     "text": [
      "Epoch 84/100\n"
     ]
    },
    {
     "data": {
      "application/vnd.jupyter.widget-view+json": {
       "model_id": "9d2f3f3c560c4eee8a67f77b0a6afdf5",
       "version_major": 2,
       "version_minor": 0
      },
      "text/plain": [
       "Training:   0%|          | 0/235 [00:00<?, ?it/s]"
      ]
     },
     "metadata": {},
     "output_type": "display_data"
    },
    {
     "data": {
      "application/vnd.jupyter.widget-view+json": {
       "model_id": "ff1e680ca2ec4b8c9d6bc47b5e4cebb3",
       "version_major": 2,
       "version_minor": 0
      },
      "text/plain": [
       "Test MNIST:   0%|          | 0/40 [00:00<?, ?it/s]"
      ]
     },
     "metadata": {},
     "output_type": "display_data"
    },
    {
     "data": {
      "application/vnd.jupyter.widget-view+json": {
       "model_id": "a6785c9757d5430cb4b8b2450df122ee",
       "version_major": 2,
       "version_minor": 0
      },
      "text/plain": [
       "Test EMNIST:   0%|          | 0/405 [00:00<?, ?it/s]"
      ]
     },
     "metadata": {},
     "output_type": "display_data"
    },
    {
     "name": "stdout",
     "output_type": "stream",
     "text": [
      "Epoch 85/100\n"
     ]
    },
    {
     "data": {
      "application/vnd.jupyter.widget-view+json": {
       "model_id": "293c0d7849394e3e9a6734b9436bb8a3",
       "version_major": 2,
       "version_minor": 0
      },
      "text/plain": [
       "Training:   0%|          | 0/235 [00:00<?, ?it/s]"
      ]
     },
     "metadata": {},
     "output_type": "display_data"
    },
    {
     "data": {
      "application/vnd.jupyter.widget-view+json": {
       "model_id": "e5884be756454622a979c90f54117924",
       "version_major": 2,
       "version_minor": 0
      },
      "text/plain": [
       "Test MNIST:   0%|          | 0/40 [00:00<?, ?it/s]"
      ]
     },
     "metadata": {},
     "output_type": "display_data"
    },
    {
     "data": {
      "application/vnd.jupyter.widget-view+json": {
       "model_id": "b3c4e62d278f45fb973100a2f610a646",
       "version_major": 2,
       "version_minor": 0
      },
      "text/plain": [
       "Test EMNIST:   0%|          | 0/405 [00:00<?, ?it/s]"
      ]
     },
     "metadata": {},
     "output_type": "display_data"
    },
    {
     "name": "stdout",
     "output_type": "stream",
     "text": [
      "Epoch 86/100\n"
     ]
    },
    {
     "data": {
      "application/vnd.jupyter.widget-view+json": {
       "model_id": "3e1359e0efc74b39b5e3dfebb14b49d3",
       "version_major": 2,
       "version_minor": 0
      },
      "text/plain": [
       "Training:   0%|          | 0/235 [00:00<?, ?it/s]"
      ]
     },
     "metadata": {},
     "output_type": "display_data"
    },
    {
     "data": {
      "application/vnd.jupyter.widget-view+json": {
       "model_id": "0dd91425c18247a1b28e5e451005f53e",
       "version_major": 2,
       "version_minor": 0
      },
      "text/plain": [
       "Test MNIST:   0%|          | 0/40 [00:00<?, ?it/s]"
      ]
     },
     "metadata": {},
     "output_type": "display_data"
    },
    {
     "data": {
      "application/vnd.jupyter.widget-view+json": {
       "model_id": "b34c7f6662ff4509807bc44645486bfb",
       "version_major": 2,
       "version_minor": 0
      },
      "text/plain": [
       "Test EMNIST:   0%|          | 0/405 [00:00<?, ?it/s]"
      ]
     },
     "metadata": {},
     "output_type": "display_data"
    },
    {
     "name": "stdout",
     "output_type": "stream",
     "text": [
      "Epoch 87/100\n"
     ]
    },
    {
     "data": {
      "application/vnd.jupyter.widget-view+json": {
       "model_id": "4d6fe768c4b04bfab44d066d8313fbf9",
       "version_major": 2,
       "version_minor": 0
      },
      "text/plain": [
       "Training:   0%|          | 0/235 [00:00<?, ?it/s]"
      ]
     },
     "metadata": {},
     "output_type": "display_data"
    },
    {
     "data": {
      "application/vnd.jupyter.widget-view+json": {
       "model_id": "2cdf77638ca34a4e892e5f920e768fa5",
       "version_major": 2,
       "version_minor": 0
      },
      "text/plain": [
       "Test MNIST:   0%|          | 0/40 [00:00<?, ?it/s]"
      ]
     },
     "metadata": {},
     "output_type": "display_data"
    },
    {
     "data": {
      "application/vnd.jupyter.widget-view+json": {
       "model_id": "a217c3b579c04b0abd1c91ee9b1106be",
       "version_major": 2,
       "version_minor": 0
      },
      "text/plain": [
       "Test EMNIST:   0%|          | 0/405 [00:00<?, ?it/s]"
      ]
     },
     "metadata": {},
     "output_type": "display_data"
    },
    {
     "name": "stdout",
     "output_type": "stream",
     "text": [
      "Epoch 88/100\n"
     ]
    },
    {
     "data": {
      "application/vnd.jupyter.widget-view+json": {
       "model_id": "1e2e7e5a43894f26b04b4e53302901fc",
       "version_major": 2,
       "version_minor": 0
      },
      "text/plain": [
       "Training:   0%|          | 0/235 [00:00<?, ?it/s]"
      ]
     },
     "metadata": {},
     "output_type": "display_data"
    },
    {
     "data": {
      "application/vnd.jupyter.widget-view+json": {
       "model_id": "f44acd2172b6439d8c9ab11fae0abe09",
       "version_major": 2,
       "version_minor": 0
      },
      "text/plain": [
       "Test MNIST:   0%|          | 0/40 [00:00<?, ?it/s]"
      ]
     },
     "metadata": {},
     "output_type": "display_data"
    },
    {
     "data": {
      "application/vnd.jupyter.widget-view+json": {
       "model_id": "a73ba7da55bd41a2bab174db0f35588e",
       "version_major": 2,
       "version_minor": 0
      },
      "text/plain": [
       "Test EMNIST:   0%|          | 0/405 [00:00<?, ?it/s]"
      ]
     },
     "metadata": {},
     "output_type": "display_data"
    },
    {
     "name": "stdout",
     "output_type": "stream",
     "text": [
      "Epoch 89/100\n"
     ]
    },
    {
     "data": {
      "application/vnd.jupyter.widget-view+json": {
       "model_id": "9a79e7f313264af4bd19221501ce436a",
       "version_major": 2,
       "version_minor": 0
      },
      "text/plain": [
       "Training:   0%|          | 0/235 [00:00<?, ?it/s]"
      ]
     },
     "metadata": {},
     "output_type": "display_data"
    },
    {
     "data": {
      "application/vnd.jupyter.widget-view+json": {
       "model_id": "26651439c8d542508c227841007d5106",
       "version_major": 2,
       "version_minor": 0
      },
      "text/plain": [
       "Test MNIST:   0%|          | 0/40 [00:00<?, ?it/s]"
      ]
     },
     "metadata": {},
     "output_type": "display_data"
    },
    {
     "data": {
      "application/vnd.jupyter.widget-view+json": {
       "model_id": "96a1eb6b6451479e82b794c878bf7d92",
       "version_major": 2,
       "version_minor": 0
      },
      "text/plain": [
       "Test EMNIST:   0%|          | 0/405 [00:00<?, ?it/s]"
      ]
     },
     "metadata": {},
     "output_type": "display_data"
    },
    {
     "name": "stdout",
     "output_type": "stream",
     "text": [
      "Epoch 90/100\n"
     ]
    },
    {
     "data": {
      "application/vnd.jupyter.widget-view+json": {
       "model_id": "4441f6b78ed946eba2de3abc74fcc1ea",
       "version_major": 2,
       "version_minor": 0
      },
      "text/plain": [
       "Training:   0%|          | 0/235 [00:00<?, ?it/s]"
      ]
     },
     "metadata": {},
     "output_type": "display_data"
    },
    {
     "data": {
      "application/vnd.jupyter.widget-view+json": {
       "model_id": "14212f3aeb5744fda3d4f423f8eeda06",
       "version_major": 2,
       "version_minor": 0
      },
      "text/plain": [
       "Test MNIST:   0%|          | 0/40 [00:00<?, ?it/s]"
      ]
     },
     "metadata": {},
     "output_type": "display_data"
    },
    {
     "data": {
      "application/vnd.jupyter.widget-view+json": {
       "model_id": "e17839e570f34785aa06794b56c7abce",
       "version_major": 2,
       "version_minor": 0
      },
      "text/plain": [
       "Test EMNIST:   0%|          | 0/405 [00:00<?, ?it/s]"
      ]
     },
     "metadata": {},
     "output_type": "display_data"
    },
    {
     "name": "stdout",
     "output_type": "stream",
     "text": [
      "Epoch 91/100\n"
     ]
    },
    {
     "data": {
      "application/vnd.jupyter.widget-view+json": {
       "model_id": "ea2993cb63394779942c7eebb2dd9195",
       "version_major": 2,
       "version_minor": 0
      },
      "text/plain": [
       "Training:   0%|          | 0/235 [00:00<?, ?it/s]"
      ]
     },
     "metadata": {},
     "output_type": "display_data"
    },
    {
     "data": {
      "application/vnd.jupyter.widget-view+json": {
       "model_id": "df97b15be1934e8baf2e24374fe6dab8",
       "version_major": 2,
       "version_minor": 0
      },
      "text/plain": [
       "Test MNIST:   0%|          | 0/40 [00:00<?, ?it/s]"
      ]
     },
     "metadata": {},
     "output_type": "display_data"
    },
    {
     "data": {
      "application/vnd.jupyter.widget-view+json": {
       "model_id": "343a24baab2141e5862942855372c7d7",
       "version_major": 2,
       "version_minor": 0
      },
      "text/plain": [
       "Test EMNIST:   0%|          | 0/405 [00:00<?, ?it/s]"
      ]
     },
     "metadata": {},
     "output_type": "display_data"
    },
    {
     "name": "stdout",
     "output_type": "stream",
     "text": [
      "Epoch 92/100\n"
     ]
    },
    {
     "data": {
      "application/vnd.jupyter.widget-view+json": {
       "model_id": "18f922ac9960498a9f08d358aafd18b6",
       "version_major": 2,
       "version_minor": 0
      },
      "text/plain": [
       "Training:   0%|          | 0/235 [00:00<?, ?it/s]"
      ]
     },
     "metadata": {},
     "output_type": "display_data"
    },
    {
     "data": {
      "application/vnd.jupyter.widget-view+json": {
       "model_id": "84212d6cb1da4b52b6aae97abfa7dd81",
       "version_major": 2,
       "version_minor": 0
      },
      "text/plain": [
       "Test MNIST:   0%|          | 0/40 [00:00<?, ?it/s]"
      ]
     },
     "metadata": {},
     "output_type": "display_data"
    },
    {
     "data": {
      "application/vnd.jupyter.widget-view+json": {
       "model_id": "c1eb3a97403545b699b4bb25e1ea431e",
       "version_major": 2,
       "version_minor": 0
      },
      "text/plain": [
       "Test EMNIST:   0%|          | 0/405 [00:00<?, ?it/s]"
      ]
     },
     "metadata": {},
     "output_type": "display_data"
    },
    {
     "name": "stdout",
     "output_type": "stream",
     "text": [
      "Epoch 93/100\n"
     ]
    },
    {
     "data": {
      "application/vnd.jupyter.widget-view+json": {
       "model_id": "abc0c9d0851d4624a9a43a78c29f4db7",
       "version_major": 2,
       "version_minor": 0
      },
      "text/plain": [
       "Training:   0%|          | 0/235 [00:00<?, ?it/s]"
      ]
     },
     "metadata": {},
     "output_type": "display_data"
    },
    {
     "data": {
      "application/vnd.jupyter.widget-view+json": {
       "model_id": "0fc4a115d434426c8d0058321eee97cd",
       "version_major": 2,
       "version_minor": 0
      },
      "text/plain": [
       "Test MNIST:   0%|          | 0/40 [00:00<?, ?it/s]"
      ]
     },
     "metadata": {},
     "output_type": "display_data"
    },
    {
     "data": {
      "application/vnd.jupyter.widget-view+json": {
       "model_id": "8f12149f288643e28cf0be3f7838fcd8",
       "version_major": 2,
       "version_minor": 0
      },
      "text/plain": [
       "Test EMNIST:   0%|          | 0/405 [00:00<?, ?it/s]"
      ]
     },
     "metadata": {},
     "output_type": "display_data"
    },
    {
     "name": "stdout",
     "output_type": "stream",
     "text": [
      "Epoch 94/100\n"
     ]
    },
    {
     "data": {
      "application/vnd.jupyter.widget-view+json": {
       "model_id": "48d5c71582d94bcab7457b20a9803d8c",
       "version_major": 2,
       "version_minor": 0
      },
      "text/plain": [
       "Training:   0%|          | 0/235 [00:00<?, ?it/s]"
      ]
     },
     "metadata": {},
     "output_type": "display_data"
    },
    {
     "data": {
      "application/vnd.jupyter.widget-view+json": {
       "model_id": "ad44f1b13c504f8c8589be8764a3dca1",
       "version_major": 2,
       "version_minor": 0
      },
      "text/plain": [
       "Test MNIST:   0%|          | 0/40 [00:00<?, ?it/s]"
      ]
     },
     "metadata": {},
     "output_type": "display_data"
    },
    {
     "data": {
      "application/vnd.jupyter.widget-view+json": {
       "model_id": "e74468eb9a334cbc94192f657fdcb855",
       "version_major": 2,
       "version_minor": 0
      },
      "text/plain": [
       "Test EMNIST:   0%|          | 0/405 [00:00<?, ?it/s]"
      ]
     },
     "metadata": {},
     "output_type": "display_data"
    },
    {
     "name": "stdout",
     "output_type": "stream",
     "text": [
      "Epoch 95/100\n"
     ]
    },
    {
     "data": {
      "application/vnd.jupyter.widget-view+json": {
       "model_id": "baf9a0fcb6ba4ea9a7d56ea7437d6771",
       "version_major": 2,
       "version_minor": 0
      },
      "text/plain": [
       "Training:   0%|          | 0/235 [00:00<?, ?it/s]"
      ]
     },
     "metadata": {},
     "output_type": "display_data"
    },
    {
     "data": {
      "application/vnd.jupyter.widget-view+json": {
       "model_id": "330e87c6de2c4adc88b4a3eed0ad9f0f",
       "version_major": 2,
       "version_minor": 0
      },
      "text/plain": [
       "Test MNIST:   0%|          | 0/40 [00:00<?, ?it/s]"
      ]
     },
     "metadata": {},
     "output_type": "display_data"
    },
    {
     "data": {
      "application/vnd.jupyter.widget-view+json": {
       "model_id": "2d27278145ca4880b61c0e09c9bf718c",
       "version_major": 2,
       "version_minor": 0
      },
      "text/plain": [
       "Test EMNIST:   0%|          | 0/405 [00:00<?, ?it/s]"
      ]
     },
     "metadata": {},
     "output_type": "display_data"
    },
    {
     "name": "stdout",
     "output_type": "stream",
     "text": [
      "Epoch 96/100\n"
     ]
    },
    {
     "data": {
      "application/vnd.jupyter.widget-view+json": {
       "model_id": "d8c4d078496f4abba4412ed8e9fbbb9d",
       "version_major": 2,
       "version_minor": 0
      },
      "text/plain": [
       "Training:   0%|          | 0/235 [00:00<?, ?it/s]"
      ]
     },
     "metadata": {},
     "output_type": "display_data"
    },
    {
     "data": {
      "application/vnd.jupyter.widget-view+json": {
       "model_id": "b6588f952b1544309dd19ed8df366f08",
       "version_major": 2,
       "version_minor": 0
      },
      "text/plain": [
       "Test MNIST:   0%|          | 0/40 [00:00<?, ?it/s]"
      ]
     },
     "metadata": {},
     "output_type": "display_data"
    },
    {
     "data": {
      "application/vnd.jupyter.widget-view+json": {
       "model_id": "3a65771f747f4e4b95cb945d884cb56a",
       "version_major": 2,
       "version_minor": 0
      },
      "text/plain": [
       "Test EMNIST:   0%|          | 0/405 [00:00<?, ?it/s]"
      ]
     },
     "metadata": {},
     "output_type": "display_data"
    },
    {
     "name": "stdout",
     "output_type": "stream",
     "text": [
      "Epoch 97/100\n"
     ]
    },
    {
     "data": {
      "application/vnd.jupyter.widget-view+json": {
       "model_id": "afb60b86983c4f23b7367981cb68a47b",
       "version_major": 2,
       "version_minor": 0
      },
      "text/plain": [
       "Training:   0%|          | 0/235 [00:00<?, ?it/s]"
      ]
     },
     "metadata": {},
     "output_type": "display_data"
    },
    {
     "data": {
      "application/vnd.jupyter.widget-view+json": {
       "model_id": "4f1c3e2971ea402a9e8a238a692b8333",
       "version_major": 2,
       "version_minor": 0
      },
      "text/plain": [
       "Test MNIST:   0%|          | 0/40 [00:00<?, ?it/s]"
      ]
     },
     "metadata": {},
     "output_type": "display_data"
    },
    {
     "data": {
      "application/vnd.jupyter.widget-view+json": {
       "model_id": "46f6d55e63564fd896b556d0bc4543e0",
       "version_major": 2,
       "version_minor": 0
      },
      "text/plain": [
       "Test EMNIST:   0%|          | 0/405 [00:00<?, ?it/s]"
      ]
     },
     "metadata": {},
     "output_type": "display_data"
    },
    {
     "name": "stdout",
     "output_type": "stream",
     "text": [
      "Epoch 98/100\n"
     ]
    },
    {
     "data": {
      "application/vnd.jupyter.widget-view+json": {
       "model_id": "5c79d731eb0741b3b7d57b31db44bc3a",
       "version_major": 2,
       "version_minor": 0
      },
      "text/plain": [
       "Training:   0%|          | 0/235 [00:00<?, ?it/s]"
      ]
     },
     "metadata": {},
     "output_type": "display_data"
    },
    {
     "data": {
      "application/vnd.jupyter.widget-view+json": {
       "model_id": "accd83c5c0994914bba77defc613e5a3",
       "version_major": 2,
       "version_minor": 0
      },
      "text/plain": [
       "Test MNIST:   0%|          | 0/40 [00:00<?, ?it/s]"
      ]
     },
     "metadata": {},
     "output_type": "display_data"
    },
    {
     "data": {
      "application/vnd.jupyter.widget-view+json": {
       "model_id": "197f9ac652e54f0ca353c87d8a36d1fb",
       "version_major": 2,
       "version_minor": 0
      },
      "text/plain": [
       "Test EMNIST:   0%|          | 0/405 [00:00<?, ?it/s]"
      ]
     },
     "metadata": {},
     "output_type": "display_data"
    },
    {
     "name": "stdout",
     "output_type": "stream",
     "text": [
      "Epoch 99/100\n"
     ]
    }
   ],
   "source": [
    "for epoch in range(niter):\n",
    "\n",
    "    netG.train()\n",
    "    netD.train()\n",
    "    report_loss_G = 0\n",
    "    report_loss_D = 0\n",
    "    local_count = 0\n",
    "    for i, data in enumerate(tqdm(train_loader, desc='Training')):\n",
    "        ############################\n",
    "        # (1) Update D network: maximize log(D(x)) + log(1 - D(G(z)))\n",
    "        ###########################\n",
    "        # train with real\n",
    "        netD.zero_grad()\n",
    "        real_cpu = data[0].to(device)\n",
    "        batch_size = real_cpu.size(0)\n",
    "        output = netD(real_cpu)\n",
    "        errD_real = criterionDReal(output)\n",
    "        errD_real.backward()\n",
    "        #D_x = output.mean().item()\n",
    "\n",
    "        # train with fake\n",
    "        noise = torch.randn(batch_size, nz, 1, 1, device=device)\n",
    "        fake = netG(noise)\n",
    "        output = netD(fake.detach())\n",
    "        errD_fake = criterionDFake(output)\n",
    "        errD_fake.backward()\n",
    "        \n",
    "        errD = errD_real + errD_fake\n",
    "        #torch.nn.utils.clip_grad_norm_(netD.parameters(), 1)\n",
    "        optimizerD.step()\n",
    "        ############################\n",
    "        # (2) Update G network: maximize log(D(G(z)))\n",
    "        ###########################\n",
    "        netG.zero_grad()\n",
    "        output = netD(fake)\n",
    "        errG = criterionG(output, epoch)\n",
    "        errG.backward()\n",
    "        #D_G_z2 = output.mean().item()\n",
    "        #torch.nn.utils.clip_grad_norm_(netG.parameters(), 1)\n",
    "        optimizerG.step()\n",
    "        report_loss_G += errG.item()\n",
    "\n",
    "        local_count += 1\n",
    "        report_loss_D += errD.item()\n",
    "        \n",
    "        \n",
    "    netG.eval()\n",
    "    netD.eval()\n",
    "\n",
    "    losses = {}\n",
    "    losses['Loss D'] = report_loss_D / local_count\n",
    "    losses['Loss G'] = report_loss_G / local_count\n",
    "    writer.add_scalars('Loss', losses, epoch)\n",
    "    fake = netG(fixed_noise)\n",
    "    writer.add_images('Generated images', fake.detach(), epoch)\n",
    "    mnist_distr, auc = get_test_arate_distr(netD)\n",
    "    mnist_distr_q = {}\n",
    "    mnist_distr_q[\"q20\"] = np.quantile(mnist_distr, 0.2)\n",
    "    mnist_distr_q[\"q80\"] = np.quantile(mnist_distr, 0.8)\n",
    "    writer.add_scalars(\"MNIST test  firings\", mnist_distr_q, epoch)\n",
    "    writer.add_scalar(\"AUC\", auc, epoch)\n",
    "    print(f\"Epoch {epoch}/{niter}\")\n",
    "\n",
    "    \n",
    "num_gpu = 1 if torch.cuda.is_available() else 0"
   ]
  },
  {
   "cell_type": "markdown",
   "metadata": {},
   "source": [
    "## Валидация"
   ]
  },
  {
   "cell_type": "code",
   "execution_count": 72,
   "metadata": {},
   "outputs": [
    {
     "data": {
      "image/png": "[encoded data removed]",
      "text/plain": [
       "<Figure size 640x480 with 49 Axes>"
      ]
     },
     "metadata": {},
     "output_type": "display_data"
    }
   ],
   "source": [
    "D = netD\n",
    "G = netG\n",
    "D.eval()\n",
    "G.eval()\n",
    "\n",
    "batch_size = 49\n",
    "latent_size = 100\n",
    "\n",
    "fixed_noise = torch.randn(batch_size, latent_size, 1, 1)\n",
    "if torch.cuda.is_available():\n",
    "    fixed_noise = fixed_noise.cuda()\n",
    "fake_images = G(fixed_noise)\n",
    "\n",
    "fake_images_np = fake_images.cpu().detach().numpy()\n",
    "fake_images_np = fake_images_np.reshape(fake_images_np.shape[0], 28, 28)\n",
    "R, C = 7, 7\n",
    "for i in range(batch_size):\n",
    "    plt.subplot(R, C, i + 1)\n",
    "    plt.imshow(fake_images_np[i], cmap='gray')\n",
    "plt.show()"
   ]
  },
  {
   "cell_type": "code",
   "execution_count": 76,
   "metadata": {},
   "outputs": [
    {
     "data": {
      "text/plain": [
       "array([[ 1.21309552e-02, -9.90059692e-03,  9.57957983e-01,\n",
       "        -4.42698114e-02, -8.45115632e-02,  8.75285491e-02,\n",
       "         5.46093211e-02,  7.27323024e-03, -3.47815417e-02,\n",
       "        -1.46596609e-02, -3.84253561e-02,  2.66337562e-02,\n",
       "        -3.10720317e-02,  4.77530584e-02, -3.11379042e-02,\n",
       "         6.79275542e-02],\n",
       "       [ 8.44148174e-02,  8.81539211e-02,  8.81196082e-01,\n",
       "        -1.26833022e-01, -4.58408259e-02,  1.84478715e-01,\n",
       "         1.70369893e-01, -7.25529641e-02, -5.43809757e-02,\n",
       "         7.49985129e-02, -1.03493012e-01,  9.14933458e-02,\n",
       "         8.89288411e-02, -7.93222114e-02, -5.41623570e-02,\n",
       "        -4.78885311e-04],\n",
       "       [ 1.55263752e-01,  1.42231867e-01,  1.13971806e+00,\n",
       "         2.33775601e-01, -1.06422454e-01, -8.83939639e-02,\n",
       "        -1.25535652e-01, -1.92534000e-01,  1.74338788e-01,\n",
       "        -2.01623902e-01,  2.55099177e-01,  1.04270473e-01,\n",
       "         1.87452525e-01, -1.69548362e-01,  6.25947341e-02,\n",
       "        -1.55938148e-01],\n",
       "       [ 2.04328280e-02, -2.01417878e-01,  9.29209590e-01,\n",
       "         1.67320207e-01,  1.63504273e-01,  4.74122702e-04,\n",
       "        -1.18120655e-01, -5.05854338e-02,  1.83101952e-01,\n",
       "        -1.52993217e-01,  8.17062706e-02, -7.75657445e-02,\n",
       "         6.11492805e-02, -1.55697718e-01,  4.83878516e-02,\n",
       "        -1.63997442e-01],\n",
       "       [ 1.44842625e-01,  4.01975028e-02,  1.09139633e+00,\n",
       "         7.46523887e-02,  1.15350865e-01, -1.22454472e-01,\n",
       "        -1.29776701e-01, -4.15760353e-02,  8.50949138e-02,\n",
       "        -1.29061103e-01,  4.73056287e-02, -1.87318563e-01,\n",
       "         1.24444410e-01, -1.36815205e-01,  1.58032939e-01,\n",
       "        -1.34867027e-01],\n",
       "       [-4.12061810e-02,  1.25679178e-02,  9.32457805e-01,\n",
       "        -6.72432631e-02, -2.05855835e-02,  1.21685907e-01,\n",
       "         6.80494457e-02,  3.61140892e-02, -1.18147343e-01,\n",
       "        -1.13375941e-02, -3.43068168e-02,  5.16607687e-02,\n",
       "        -6.02352284e-02, -3.36202271e-02, -6.16207384e-02,\n",
       "         4.70316261e-02],\n",
       "       [ 1.64344966e-01, -1.56832516e-01,  1.03384984e+00,\n",
       "         9.16924104e-02,  1.83108315e-01,  2.78061423e-02,\n",
       "         2.15821400e-01, -1.09732226e-01,  1.51487112e-01,\n",
       "        -9.94067714e-02,  1.47992268e-01, -1.60765916e-01,\n",
       "         3.74173038e-02,  1.09671727e-01,  9.54290777e-02,\n",
       "         1.87343180e-01],\n",
       "       [-8.81807506e-02, -9.14027914e-02,  8.66569757e-01,\n",
       "        -1.38877168e-01,  9.12287831e-02,  1.35208890e-01,\n",
       "        -9.99748427e-03,  1.20200798e-01,  4.19500247e-02,\n",
       "        -1.51674422e-02, -1.26956955e-01, -9.26298797e-02,\n",
       "        -1.29811829e-02, -1.00005120e-01, -1.21867120e-01,\n",
       "         1.09285064e-01],\n",
       "       [ 1.45065814e-01, -1.50894374e-01,  1.00287700e+00,\n",
       "         1.63585976e-01,  1.02581210e-01,  1.91386402e-01,\n",
       "         4.13680151e-02,  1.71087414e-01,  1.54958233e-01,\n",
       "         2.01630920e-01, -1.77150458e-01, -2.80413218e-02,\n",
       "        -2.55796444e-02, -4.09599505e-02, -1.45754024e-01,\n",
       "        -6.14370219e-02],\n",
       "       [ 1.30657077e-01, -1.37056381e-01,  1.06260669e+00,\n",
       "        -5.64568341e-02,  1.80028349e-01, -7.28837028e-03,\n",
       "         2.31774643e-01,  1.95507511e-01,  1.58338383e-01,\n",
       "        -1.62813097e-01, -1.99612513e-01, -1.49291530e-01,\n",
       "         1.92452133e-01,  1.98578000e-01, -1.96413547e-01,\n",
       "        -4.46551964e-02]], dtype=float32)"
      ]
     },
     "execution_count": 76,
     "metadata": {},
     "output_type": "execute_result"
    }
   ],
   "source": [
    "centroids_fz =D.real[0].A.cpu().detach().numpy()[:,:,2]\n",
    "centroids_fz"
   ]
  },
  {
   "cell_type": "code",
   "execution_count": 78,
   "metadata": {},
   "outputs": [
    {
     "data": {
      "application/vnd.jupyter.widget-view+json": {
       "model_id": "ee4aa4e25a39466392ea783231fce308",
       "version_major": 2,
       "version_minor": 0
      },
      "text/plain": [
       "Encoding:   0%|          | 0/40 [00:00<?, ?it/s]"
      ]
     },
     "metadata": {},
     "output_type": "display_data"
    },
    {
     "data": {
      "image/png": "[encoded data removed]",
      "text/plain": [
       "<Figure size 600x1200 with 8 Axes>"
      ]
     },
     "metadata": {},
     "output_type": "display_data"
    }
   ],
   "source": [
    "embedings = []\n",
    "labels_expected = []\n",
    "with torch.no_grad():\n",
    "    for data, target in tqdm(test_loader, desc='Encoding'):\n",
    "        data = data.view((-1,1,28,28)).to(device)\n",
    "        embeding = D.main(data)\n",
    "        embedings.append(embeding.cpu().numpy())\n",
    "        labels_expected.append(np.argmax(target.squeeze(1).cpu().numpy(), axis=1))\n",
    "embedings = np.concatenate(embedings, axis=0)\n",
    "labels_expected = np.concatenate(labels_expected, axis=0)\n",
    "plt.figure(figsize=(6, 12))\n",
    "\n",
    "R, C = 4, 2\n",
    "cnt = 1\n",
    "for i in range(8):\n",
    "    plt.subplot(R, C, cnt)\n",
    "    cnt += 1\n",
    "    plt.scatter(embedings[:, 2*i], embedings[:, 2*i+1], c=labels_expected, cmap='tab10', s=2)\n",
    "    plt.scatter(centroids_fz[:,2*i], centroids_fz[:,2*i+1])\n",
    "#plt.colorbar()\n",
    "plt.show()\n",
    "\n"
   ]
  },
  {
   "cell_type": "code",
   "execution_count": 79,
   "metadata": {},
   "outputs": [
    {
     "data": {
      "text/plain": [
       "array([[ 0.44601312, -0.6944366 , -0.4870487 , ...,  0.0861166 ,\n",
       "        -0.6493595 ,  0.13265924],\n",
       "       [ 0.65989655, -0.8148757 , -0.75176626, ...,  0.05710638,\n",
       "        -1.2288023 ,  0.24145228],\n",
       "       [ 0.43089324, -0.7436127 , -0.65238553, ...,  0.04641531,\n",
       "        -0.6465583 ,  0.144294  ],\n",
       "       ...,\n",
       "       [ 0.6124742 , -0.83136016, -1.0241627 , ..., -0.13459355,\n",
       "        -1.0486196 , -0.08616165],\n",
       "       [ 0.5642346 , -1.3136073 , -0.8698568 , ..., -0.15146092,\n",
       "        -0.94773763,  0.53284365],\n",
       "       [ 0.6542791 , -0.6341975 , -0.8802821 , ...,  0.11753046,\n",
       "        -0.7349975 ,  0.23265809]], dtype=float32)"
      ]
     },
     "execution_count": 79,
     "metadata": {},
     "output_type": "execute_result"
    }
   ],
   "source": [
    "embedings"
   ]
  },
  {
   "cell_type": "code",
   "execution_count": 80,
   "metadata": {},
   "outputs": [
    {
     "data": {
      "application/vnd.jupyter.widget-view+json": {
       "model_id": "b4b043426a4a4c8a9533e8e0f9d9d18e",
       "version_major": 2,
       "version_minor": 0
      },
      "text/plain": [
       "Encoding:   0%|          | 0/40 [00:00<?, ?it/s]"
      ]
     },
     "metadata": {},
     "output_type": "display_data"
    },
    {
     "data": {
      "image/png": "[encoded data removed]",
      "text/plain": [
       "<Figure size 1000x500 with 1 Axes>"
      ]
     },
     "metadata": {},
     "output_type": "display_data"
    }
   ],
   "source": [
    "firing_levels = []\n",
    "with torch.no_grad():\n",
    "    for data, target in tqdm(test_loader, desc='Encoding'):\n",
    "        data = data.view((-1,1,28,28)).to(device)\n",
    "        rates = D.arate(data)\n",
    "        #output = D.main(data)\n",
    "        #r = D.real(output)\n",
    "        #rates = r\n",
    "\n",
    "        firing_levels.append(rates.cpu().numpy())\n",
    "        \n",
    "firing_levels = np.concatenate(firing_levels, axis=0)\n",
    "fig = plt.figure(figsize =(10, 5))\n",
    "plt.boxplot(firing_levels, notch=True, showfliers=True)\n",
    "plt.show()"
   ]
  },
  {
   "cell_type": "code",
   "execution_count": 81,
   "metadata": {},
   "outputs": [
    {
     "data": {
      "application/vnd.jupyter.widget-view+json": {
       "model_id": "5f5341f59cfe4a07a34b9a5193cd30b1",
       "version_major": 2,
       "version_minor": 0
      },
      "text/plain": [
       "Encoding:   0%|          | 0/405 [00:00<?, ?it/s]"
      ]
     },
     "metadata": {},
     "output_type": "display_data"
    }
   ],
   "source": [
    "firings_emnist = {}\n",
    "for m in emnist_mapping:\n",
    "    firings_emnist[emnist_mapping[m]] = []\n",
    "\n",
    "with torch.no_grad():\n",
    "    for data, labels in tqdm(emnist_loader, desc='Encoding'):\n",
    "        data = data.view((-1, 1, 28, 28)).to(device) \n",
    "        arate = D.arate(data)\n",
    "        #output = D.main(data)\n",
    "        #r = D.real(output)\n",
    "        #arate = 1 - r.sum(dim = 1)\n",
    "        \n",
    "        for label, flabel in zip(labels, arate.cpu().numpy()):\n",
    "            firings_emnist[emnist_mapping[label.item()]].append(flabel)"
   ]
  },
  {
   "cell_type": "code",
   "execution_count": 82,
   "metadata": {},
   "outputs": [
    {
     "data": {
      "image/png": "[encoded data removed]",
      "text/plain": [
       "<Figure size 3300x500 with 1 Axes>"
      ]
     },
     "metadata": {},
     "output_type": "display_data"
    }
   ],
   "source": [
    "labels, data = firings_emnist.keys(), firings_emnist.values()\n",
    "fig = plt.figure(figsize =(33, 5))\n",
    "plt.boxplot(data, notch=True, showfliers=False)\n",
    "plt.xticks(range(1, len(labels) + 1), labels)\n",
    "plt.show()"
   ]
  },
  {
   "cell_type": "code",
   "execution_count": 83,
   "metadata": {},
   "outputs": [
    {
     "data": {
      "image/png": "[encoded data removed]",
      "text/plain": [
       "<Figure size 1200x200 with 1 Axes>"
      ]
     },
     "metadata": {},
     "output_type": "display_data"
    }
   ],
   "source": [
    "firings_mnist = {}\n",
    "firings_mnist['MNIST'] = firing_levels\n",
    "firings = {**firings_mnist, **firings_emnist} \n",
    "labels, data = firings.keys(), firings.values()\n",
    "\n",
    "fig = plt.figure(figsize =(12, 2))\n",
    "#plt.ylim(ymin=0)\n",
    "plt.boxplot(data, notch=True, showfliers=False)\n",
    "plt.xticks(range(1, len(labels) + 1), labels)\n",
    "plt.show()\n",
    "\n",
    "writer.add_figure('Anomaly Detection', fig)"
   ]
  },
  {
   "cell_type": "code",
   "execution_count": 84,
   "metadata": {},
   "outputs": [
    {
     "data": {
      "image/png": "[encoded data removed]",
      "text/plain": [
       "<Figure size 400x400 with 1 Axes>"
      ]
     },
     "metadata": {},
     "output_type": "display_data"
    }
   ],
   "source": [
    "lab_true = []\n",
    "lab_pred = []\n",
    "for k,v in firings_mnist.items():\n",
    "    for p in v:\n",
    "        lab_true.append(1)\n",
    "        lab_pred.append(p)\n",
    "for k,v in firings_emnist.items():\n",
    "    if k == 'Oo':\n",
    "        continue\n",
    "    for p in v:\n",
    "        lab_true.append(0)\n",
    "        lab_pred.append(p)\n",
    "\n",
    "fpr, tpr, threshold = metrics.roc_curve(lab_true, lab_pred)\n",
    "roc_auc = metrics.auc(fpr, tpr)\n",
    "\n",
    "fig = plt.figure(figsize =(4, 4))\n",
    "plt.title('Receiver Operating Characteristic')\n",
    "plt.plot(fpr, tpr, 'b', label = 'AUC = %0.2f' % roc_auc)\n",
    "plt.legend(loc = 'lower right')\n",
    "plt.plot([0, 1], [0, 1],'r--')\n",
    "plt.xlim([0, 1])\n",
    "plt.ylim([0, 1])\n",
    "plt.ylabel('True Positive Rate')\n",
    "plt.xlabel('False Positive Rate')\n",
    "plt.show()\n",
    "writer.add_figure('ROC', fig)"
   ]
  },
  {
   "cell_type": "code",
   "execution_count": null,
   "metadata": {},
   "outputs": [],
   "source": []
  }
 ],
 "metadata": {
  "kernelspec": {
   "display_name": "Python 3 (ipykernel)",
   "language": "python",
   "name": "python3"
  },
  "language_info": {
   "codemirror_mode": {
    "name": "ipython",
    "version": 3
   },
   "file_extension": ".py",
   "mimetype": "text/x-python",
   "name": "python",
   "nbconvert_exporter": "python",
   "pygments_lexer": "ipython3",
   "version": "3.10.12"
  }
 },
 "nbformat": 4,
 "nbformat_minor": 2
}
