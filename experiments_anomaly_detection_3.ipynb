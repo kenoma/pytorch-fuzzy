{
 "cells": [
  {
   "cell_type": "code",
   "execution_count": 2,
   "metadata": {
    "scrolled": true
   },
   "outputs": [
    {
     "name": "stderr",
     "output_type": "stream",
     "text": [
      "/home/user/.local/lib/python3.10/site-packages/tqdm/auto.py:22: TqdmWarning: IProgress not found. Please update jupyter and ipywidgets. See https://ipywidgets.readthedocs.io/en/stable/user_install.html\n",
      "  from .autonotebook import tqdm as notebook_tqdm\n"
     ]
    }
   ],
   "source": [
    "from dataclasses import dataclass\n",
    "from datetime import datetime\n",
    "\n",
    "import sklearn.metrics as metrics\n",
    "import pandas as pd\n",
    "import matplotlib.pyplot as plt\n",
    "import torch\n",
    "import torch.nn as nn\n",
    "import numpy as np \n",
    "import torch.nn.functional as F\n",
    "from torch.utils.tensorboard import SummaryWriter\n",
    "from torchvision import datasets, transforms\n",
    "from tqdm.auto import tqdm\n",
    "from torchfuzzy import FuzzyLayer, DefuzzyLinearLayer\n",
    "import os\n",
    "\n",
    "os.environ['CUDA_LAUNCH_BLOCKING']=\"1\"\n",
    "os.environ['TORCH_USE_CUDA_DSA'] = \"1\""
   ]
  },
  {
   "cell_type": "code",
   "execution_count": 3,
   "metadata": {},
   "outputs": [],
   "source": [
    "batch_size = 256\n",
    "\n",
    "nz = 100 \n",
    "ngf = 32 \n",
    "ngpu = 1\n",
    "\n",
    "niter = 100\n",
    "\n",
    "prefix = f\"fuzzy_gan_anomaly_detection\"\n",
    "writer = SummaryWriter(f'runs/mnist/{prefix}_{datetime.now().strftime(\"%Y%m%d-%H%M%S\")}')\n",
    "device = torch.device('cuda' if torch.cuda.is_available() else 'cpu')"
   ]
  },
  {
   "cell_type": "markdown",
   "metadata": {},
   "source": [
    "### Load MNIST"
   ]
  },
  {
   "cell_type": "code",
   "execution_count": 4,
   "metadata": {},
   "outputs": [],
   "source": [
    "transform = transforms.Compose([\n",
    "    transforms.ToTensor(), \n",
    "    transforms.Lambda(lambda x: x.view(-1, 28, 28) - 0.5),\n",
    "])"
   ]
  },
  {
   "cell_type": "code",
   "execution_count": 5,
   "metadata": {},
   "outputs": [],
   "source": [
    "def get_target_and_mask(target_label):\n",
    "    \"\"\"\n",
    "    Args:\n",
    "    \n",
    "    Returns:\n",
    "    \n",
    "    \"\"\"\n",
    "    \n",
    "    t = torch.zeros(10)\n",
    "    t[target_label] = 1.0\n",
    "    \n",
    "    return t.to(device) "
   ]
  },
  {
   "cell_type": "code",
   "execution_count": 6,
   "metadata": {},
   "outputs": [],
   "source": [
    "# загружаем обучающую выборку\n",
    "train_data = datasets.MNIST(\n",
    "    '~/.pytorch/MNIST_data/', \n",
    "    download=True, \n",
    "    train=True, \n",
    "    transform = transform,\n",
    "    target_transform = transforms.Lambda(lambda x: get_target_and_mask(x))\n",
    ")"
   ]
  },
  {
   "cell_type": "code",
   "execution_count": 7,
   "metadata": {},
   "outputs": [
    {
     "data": {
      "text/plain": [
       "10000"
      ]
     },
     "execution_count": 7,
     "metadata": {},
     "output_type": "execute_result"
    }
   ],
   "source": [
    "# загружаем тестовую выборку\n",
    "test_data = datasets.MNIST(\n",
    "    '~/.pytorch/MNIST_data/', \n",
    "    download=True, \n",
    "    train=False, \n",
    "    transform=transform, \n",
    "    target_transform = transforms.Lambda(lambda x: get_target_and_mask(x))\n",
    ")\n",
    "len(test_data)"
   ]
  },
  {
   "cell_type": "code",
   "execution_count": 8,
   "metadata": {},
   "outputs": [],
   "source": [
    "# Создаем итераторы датасетов\n",
    "train_loader = torch.utils.data.DataLoader(\n",
    "    train_data, \n",
    "    batch_size=batch_size, \n",
    "    shuffle=True,\n",
    "    \n",
    ")\n",
    "test_loader = torch.utils.data.DataLoader(\n",
    "    test_data, \n",
    "    batch_size=batch_size, \n",
    "    shuffle=False,\n",
    ")"
   ]
  },
  {
   "cell_type": "markdown",
   "metadata": {},
   "source": [
    "### Load EMNIST"
   ]
  },
  {
   "cell_type": "code",
   "execution_count": 9,
   "metadata": {},
   "outputs": [
    {
     "name": "stderr",
     "output_type": "stream",
     "text": [
      "/tmp/ipykernel_1707226/3990255395.py:13: UserWarning: To copy construct from a tensor, it is recommended to use sourceTensor.clone().detach() or sourceTensor.clone().detach().requires_grad_(True), rather than torch.tensor(sourceTensor).\n",
      "  emnist_x = [torch.tensor(emnist_transform(a), dtype=torch.float32) for a in emnist_x]\n"
     ]
    }
   ],
   "source": [
    "emnist_transform = transforms.Compose([\n",
    "    transforms.ToTensor(), \n",
    "    transforms.Lambda(lambda x: x.view(-1, 28, 28) - 0.5),\n",
    "])\n",
    "\n",
    "emnist_test = pd.read_csv(\"./data/EMNIST/emnist-letters.zip\")\n",
    "emnist_y = emnist_test[\"label\"]\n",
    "emnist_x = emnist_test.drop(labels = [\"label\"], axis = 1) \n",
    "del emnist_test \n",
    "\n",
    "emnist_x = emnist_x / 255.0\n",
    "emnist_x = emnist_x.values.reshape(-1, 28, 28)\n",
    "emnist_x = [torch.tensor(emnist_transform(a), dtype=torch.float32) for a in emnist_x]\n",
    "\n",
    "len(emnist_x)\n",
    "\n",
    "emnist_mapping = pd.read_csv(\"./data/EMNIST/emnist-letters-mapping.txt\", sep=' ', header=None)\n",
    "emnist_mapping.columns=(\"EMNIST\",\"UP\",\"LO\")\n",
    "emnist_mapping[\"Letter\"] = emnist_mapping.apply(lambda row: chr(row[\"UP\"])+chr(row[\"LO\"]), axis=1)\n",
    "emnist_mapping = dict(zip(emnist_mapping[\"EMNIST\"], emnist_mapping[\"Letter\"]))\n",
    "\n",
    "emnist_loader = torch.utils.data.DataLoader(\n",
    "    torch.utils.data.TensorDataset(torch.stack(emnist_x), torch.Tensor(np.array(emnist_y))), \n",
    "    batch_size=batch_size, \n",
    "    shuffle=False,\n",
    ")"
   ]
  },
  {
   "cell_type": "markdown",
   "metadata": {},
   "source": [
    "## DCGAN Model"
   ]
  },
  {
   "cell_type": "code",
   "execution_count": 10,
   "metadata": {},
   "outputs": [],
   "source": [
    "def weights_init(m):\n",
    "    classname = m.__class__.__name__\n",
    "    if classname.find('Conv') != -1:\n",
    "        m.weight.data.normal_(0.0, 0.02)\n",
    "    elif classname.find('BatchNorm') != -1:\n",
    "        m.weight.data.normal_(1.0, 0.02)\n",
    "        m.bias.data.fill_(0)"
   ]
  },
  {
   "cell_type": "code",
   "execution_count": 11,
   "metadata": {},
   "outputs": [
    {
     "name": "stdout",
     "output_type": "stream",
     "text": [
      "Number of parameters: 3,573,696\n",
      "Generator(\n",
      "  (main): Sequential(\n",
      "    (0): ConvTranspose2d(100, 512, kernel_size=(4, 4), stride=(1, 1), bias=False)\n",
      "    (1): BatchNorm2d(512, eps=1e-05, momentum=0.1, affine=True, track_running_stats=True)\n",
      "    (2): ReLU(inplace=True)\n",
      "    (3): ConvTranspose2d(512, 256, kernel_size=(4, 4), stride=(2, 2), padding=(1, 1), bias=False)\n",
      "    (4): BatchNorm2d(256, eps=1e-05, momentum=0.1, affine=True, track_running_stats=True)\n",
      "    (5): ReLU(inplace=True)\n",
      "    (6): ConvTranspose2d(256, 128, kernel_size=(4, 4), stride=(2, 2), padding=(1, 1), bias=False)\n",
      "    (7): BatchNorm2d(128, eps=1e-05, momentum=0.1, affine=True, track_running_stats=True)\n",
      "    (8): ReLU(inplace=True)\n",
      "    (9): ConvTranspose2d(128, 64, kernel_size=(4, 4), stride=(2, 2), padding=(1, 1), bias=False)\n",
      "    (10): BatchNorm2d(64, eps=1e-05, momentum=0.1, affine=True, track_running_stats=True)\n",
      "    (11): ReLU(inplace=True)\n",
      "    (12): ConvTranspose2d(64, 1, kernel_size=(1, 1), stride=(1, 1), padding=(2, 2), bias=False)\n",
      "    (13): Tanh()\n",
      "  )\n",
      ")\n"
     ]
    }
   ],
   "source": [
    "class Generator(nn.Module):\n",
    "    def __init__(self, ngpu, nc=1, nz=100, ngf=64):\n",
    "        super(Generator, self).__init__()\n",
    "        self.ngpu = ngpu\n",
    "        self.main = nn.Sequential(\n",
    "            # input is Z, going into a convolution\n",
    "            nn.ConvTranspose2d(     nz, ngf * 8, 4, 1, 0, bias=False),\n",
    "            nn.BatchNorm2d(ngf * 8),\n",
    "            nn.ReLU(True),\n",
    "            # state size. (ngf*8) x 4 x 4\n",
    "            nn.ConvTranspose2d(ngf * 8, ngf * 4, 4, 2, 1, bias=False),\n",
    "            nn.BatchNorm2d(ngf * 4),\n",
    "            nn.ReLU(True),\n",
    "            # state size. (ngf*4) x 8 x 8\n",
    "            nn.ConvTranspose2d(ngf * 4, ngf * 2, 4, 2, 1, bias=False),\n",
    "            nn.BatchNorm2d(ngf * 2),\n",
    "            nn.ReLU(True),\n",
    "            # state size. (ngf*2) x 16 x 16\n",
    "            nn.ConvTranspose2d(ngf * 2,     ngf, 4, 2, 1, bias=False),\n",
    "            nn.BatchNorm2d(ngf),\n",
    "            nn.ReLU(True),\n",
    "            nn.ConvTranspose2d(    ngf,      nc, kernel_size=1, stride=1, padding=2, bias=False),\n",
    "            nn.Tanh()\n",
    "        )\n",
    "\n",
    "    def forward(self, input):\n",
    "        if input.is_cuda and self.ngpu > 1:\n",
    "            output = nn.parallel.data_parallel(self.main, input, range(self.ngpu))\n",
    "        else:\n",
    "            output = self.main(input)\n",
    "        return output\n",
    "\n",
    "netG = Generator(ngpu).to(device)\n",
    "netG.apply(weights_init)\n",
    "num_params = sum(p.numel() for p in netG.parameters() if p.requires_grad)\n",
    "print(f'Number of parameters: {num_params:,}')\n",
    "#netG.load_state_dict(torch.load('weights/netG_epoch_99.pth'))\n",
    "print(netG)"
   ]
  },
  {
   "cell_type": "code",
   "execution_count": 12,
   "metadata": {},
   "outputs": [
    {
     "name": "stdout",
     "output_type": "stream",
     "text": [
      "Number of parameters: 658,584\n",
      "Discriminator(\n",
      "  (main): Sequential(\n",
      "    (0): Conv2d(1, 64, kernel_size=(4, 4), stride=(2, 2), padding=(1, 1), bias=False)\n",
      "    (1): LeakyReLU(negative_slope=0.2, inplace=True)\n",
      "    (2): Conv2d(64, 128, kernel_size=(4, 4), stride=(2, 2), padding=(1, 1), bias=False)\n",
      "    (3): BatchNorm2d(128, eps=1e-05, momentum=0.1, affine=True, track_running_stats=True)\n",
      "    (4): LeakyReLU(negative_slope=0.2, inplace=True)\n",
      "    (5): Conv2d(128, 256, kernel_size=(4, 4), stride=(2, 2), padding=(1, 1), bias=False)\n",
      "    (6): BatchNorm2d(256, eps=1e-05, momentum=0.1, affine=True, track_running_stats=True)\n",
      "    (7): LeakyReLU(negative_slope=0.2, inplace=True)\n",
      "    (8): Conv2d(256, 1, kernel_size=(2, 2), stride=(1, 1), padding=(1, 1), bias=False)\n",
      "    (9): BatchNorm2d(1, eps=1e-05, momentum=0.1, affine=True, track_running_stats=True)\n",
      "    (10): LeakyReLU(negative_slope=0.2, inplace=True)\n",
      "    (11): Conv2d(1, 1, kernel_size=(2, 2), stride=(2, 2), bias=False)\n",
      "    (12): BatchNorm2d(1, eps=1e-05, momentum=0.1, affine=True, track_running_stats=True)\n",
      "    (13): Flatten(start_dim=1, end_dim=-1)\n",
      "  )\n",
      "  (real): Sequential(\n",
      "    (0): FuzzyLayer()\n",
      "  )\n",
      "  (fake): Sequential(\n",
      "    (0): FuzzyLayer()\n",
      "  )\n",
      ")\n"
     ]
    }
   ],
   "source": [
    "class Discriminator(nn.Module):\n",
    "    def __init__(self, ngpu, ndf=64):\n",
    "        super(Discriminator, self).__init__()\n",
    "        self.ngpu = ngpu\n",
    "        self.main = nn.Sequential(\n",
    "            nn.Conv2d(1, ndf, 4, 2, 1, bias=False),\n",
    "            nn.LeakyReLU(0.2, inplace=True),\n",
    "            # state size. (ndf) x 32 x 32\n",
    "            nn.Conv2d(ndf, ndf * 2, 4, 2, 1, bias=False),\n",
    "            nn.BatchNorm2d(ndf * 2),\n",
    "            nn.LeakyReLU(0.2, inplace=True),\n",
    "            # state size. (ndf*2) x 16 x 16\n",
    "            nn.Conv2d(ndf * 2, ndf * 4, 4, 2, 1, bias=False),\n",
    "            nn.BatchNorm2d(ndf * 4),\n",
    "            nn.LeakyReLU(0.2, inplace=True),\n",
    "            # state size. (ndf*4) x 8 x 8\n",
    "            nn.Conv2d(ndf * 4, 1, 2, 1, 1, bias=False),\n",
    "            nn.BatchNorm2d(1),\n",
    "            nn.LeakyReLU(0.2, inplace=True),\n",
    "            nn.Conv2d(1, 1, 2, 2, 0, bias=False),\n",
    "            nn.BatchNorm2d(1),\n",
    "            nn.Flatten(),\n",
    "            #FuzzyLayer.from_dimensions(9, 10),\n",
    "            #nn.Linear(9, 2),\n",
    "            #nn.BatchNorm1d(2),\n",
    "            #DefuzzyLinearLayer.from_dimensions(100, 1, with_norm=False)\n",
    "            \n",
    "            #DefuzzyLinearLayer.from_dimensions(20, 1, with_norm=False)\n",
    "            #nn.Conv2d(ndf * 4, 1, 4, 2, 1, bias=False),\n",
    "            #nn.Sigmoid()\n",
    "        )\n",
    "        self.real = nn.Sequential(\n",
    "            FuzzyLayer.from_dimensions(4, 10),\n",
    "            #nn.Linear(10, 1, bias=False)\n",
    "        )\n",
    "        self.fake = nn.Sequential(\n",
    "            FuzzyLayer.from_dimensions(4, 10),\n",
    "            #nn.Linear(10, 1, bias=False)\n",
    "        )\n",
    "\n",
    "    def forward(self, input):\n",
    "        if input.is_cuda and self.ngpu > 1:\n",
    "            output = nn.parallel.data_parallel(self.main, input, range(self.ngpu))\n",
    "            r = nn.parallel.data_parallel(self.real, output, range(self.ngpu))\n",
    "            f = nn.parallel.data_parallel(self.fake, output, range(self.ngpu))\n",
    "        else:\n",
    "            output = self.main(input)\n",
    "            r = self.real(output)\n",
    "            f = self.fake(output)\n",
    "        \n",
    "        outv = torch.cat((r.max(dim = 1,keepdim=True).values, f.max(dim = 1,keepdim=True).values), dim=1)\n",
    "\n",
    "        return outv.squeeze()\n",
    "    \n",
    "    def arate(self, input):\n",
    "        if input.is_cuda and self.ngpu > 1:\n",
    "            output = nn.parallel.data_parallel(self.main, input, range(self.ngpu))\n",
    "            r = nn.parallel.data_parallel(self.real, output, range(self.ngpu))\n",
    "        else:\n",
    "            output = self.main(input)\n",
    "            r = self.real(output)\n",
    "            \n",
    "        sum = r.sum(dim = 1, keepdim=True)\n",
    "\n",
    "        return sum.squeeze()\n",
    "    \n",
    "\n",
    "netD = Discriminator(ngpu).to(device)\n",
    "netD.apply(weights_init)\n",
    "num_params = sum(p.numel() for p in netD.parameters() if p.requires_grad)\n",
    "print(f'Number of parameters: {num_params:,}')\n",
    "print(netD)\n"
   ]
  },
  {
   "cell_type": "code",
   "execution_count": 13,
   "metadata": {},
   "outputs": [
    {
     "data": {
      "text/plain": [
       "torch.Size([10, 2])"
      ]
     },
     "execution_count": 13,
     "metadata": {},
     "output_type": "execute_result"
    }
   ],
   "source": [
    "inp = torch.rand(10, 1, 28, 28)\n",
    "dd = Discriminator(1)\n",
    "dd(inp).shape"
   ]
  },
  {
   "cell_type": "markdown",
   "metadata": {},
   "source": [
    "## Train"
   ]
  },
  {
   "cell_type": "code",
   "execution_count": 14,
   "metadata": {},
   "outputs": [],
   "source": [
    "optimizerD = torch.optim.Adam(netD.parameters(), lr=0.0002, betas=(0.5, 0.999))\n",
    "optimizerG = torch.optim.Adam(netG.parameters(), lr=0.0002, betas=(0.5, 0.999))\n",
    "\n",
    "fixed_noise = torch.randn(64, nz, 1, 1, device=device)\n",
    "real_label =  0\n",
    "fake_label = 1"
   ]
  },
  {
   "cell_type": "code",
   "execution_count": 22,
   "metadata": {},
   "outputs": [],
   "source": [
    "def criterionD(predicted, target):\n",
    "    cap_real = torch.clamp(predicted[:, real_label], 0.0, 1.0)\n",
    "    cap_fake = torch.clamp(predicted[:, fake_label], 0.0, 0.95)\n",
    "    return torch.square(cap_real - torch.where(target == real_label, 1.0, 0.0)).mean() \\\n",
    "         + torch.square(cap_fake - torch.where(target == real_label, 0.0, 0.95)).mean()\n",
    "    \n",
    "def criterionG(predicted, epoch):\n",
    "    #cap_g = torch.clamp(predicted[:, real_label], 0.8, 1.0)\n",
    "    rnd = torch.rand_like(predicted[:, real_label])\n",
    "    return torch.square(predicted[:, real_label] - torch.where(rnd>0.5, 0.9, 1.0)).mean() #-torch.clamp(predicted, 0.0, 1.0).log().max()"
   ]
  },
  {
   "cell_type": "code",
   "execution_count": null,
   "metadata": {},
   "outputs": [],
   "source": []
  },
  {
   "cell_type": "code",
   "execution_count": 23,
   "metadata": {},
   "outputs": [],
   "source": [
    "def get_test_arate_distr(D):\n",
    "    firing_levels = []\n",
    "    lab_true = []\n",
    "    lab_pred = []\n",
    "\n",
    "    with torch.no_grad():\n",
    "        for data, _ in tqdm(test_loader, desc='Test MNIST'):\n",
    "            data = data.view((-1,1,28,28)).to(device)\n",
    "            rates = D.arate(data)\n",
    "            firing_levels.append(rates.cpu().numpy())\n",
    "            \n",
    "\n",
    "    firing_levels = np.concatenate(firing_levels, axis=0)\n",
    "    for p in firing_levels:\n",
    "        lab_true.append(1)\n",
    "        lab_pred.append(p)\n",
    "\n",
    "    with torch.no_grad():\n",
    "        for data, labels in tqdm(emnist_loader, desc='Test EMNIST'):\n",
    "            data = data.view((-1, 1, 28, 28)).to(device) \n",
    "            arate = D.arate(data)\n",
    "            \n",
    "            for p in arate.cpu().numpy():\n",
    "                lab_true.append(0)\n",
    "                lab_pred.append(p)\n",
    "                \n",
    "    \n",
    "    fpr, tpr, threshold = metrics.roc_curve(lab_true, lab_pred)\n",
    "    roc_auc = metrics.auc(fpr, tpr)\n",
    "\n",
    "    return firing_levels, roc_auc"
   ]
  },
  {
   "cell_type": "code",
   "execution_count": 24,
   "metadata": {},
   "outputs": [
    {
     "name": "stderr",
     "output_type": "stream",
     "text": [
      "Training: 100%|███████████████████████████████████████████████████████████████████████████████████████████| 235/235 [00:32<00:00,  7.14it/s]\n",
      "Test MNIST: 100%|███████████████████████████████████████████████████████████████████████████████████████████| 40/40 [00:02<00:00, 19.06it/s]\n",
      "Test EMNIST: 100%|███████████████████████████████████████████████████████████████████████████████████████| 405/405 [00:02<00:00, 182.01it/s]\n"
     ]
    },
    {
     "name": "stdout",
     "output_type": "stream",
     "text": [
      "Epoch 0/100\n"
     ]
    },
    {
     "name": "stderr",
     "output_type": "stream",
     "text": [
      "Training: 100%|███████████████████████████████████████████████████████████████████████████████████████████| 235/235 [00:31<00:00,  7.45it/s]\n",
      "Test MNIST: 100%|███████████████████████████████████████████████████████████████████████████████████████████| 40/40 [00:02<00:00, 19.12it/s]\n",
      "Test EMNIST: 100%|███████████████████████████████████████████████████████████████████████████████████████| 405/405 [00:02<00:00, 181.54it/s]\n"
     ]
    },
    {
     "name": "stdout",
     "output_type": "stream",
     "text": [
      "Epoch 1/100\n"
     ]
    },
    {
     "name": "stderr",
     "output_type": "stream",
     "text": [
      "Training: 100%|███████████████████████████████████████████████████████████████████████████████████████████| 235/235 [00:31<00:00,  7.39it/s]\n",
      "Test MNIST: 100%|███████████████████████████████████████████████████████████████████████████████████████████| 40/40 [00:02<00:00, 18.70it/s]\n",
      "Test EMNIST: 100%|███████████████████████████████████████████████████████████████████████████████████████| 405/405 [00:02<00:00, 177.75it/s]\n"
     ]
    },
    {
     "name": "stdout",
     "output_type": "stream",
     "text": [
      "Epoch 2/100\n"
     ]
    },
    {
     "name": "stderr",
     "output_type": "stream",
     "text": [
      "Training: 100%|███████████████████████████████████████████████████████████████████████████████████████████| 235/235 [00:31<00:00,  7.42it/s]\n",
      "Test MNIST: 100%|███████████████████████████████████████████████████████████████████████████████████████████| 40/40 [00:02<00:00, 18.92it/s]\n",
      "Test EMNIST: 100%|███████████████████████████████████████████████████████████████████████████████████████| 405/405 [00:02<00:00, 181.10it/s]\n"
     ]
    },
    {
     "name": "stdout",
     "output_type": "stream",
     "text": [
      "Epoch 3/100\n"
     ]
    },
    {
     "name": "stderr",
     "output_type": "stream",
     "text": [
      "Training: 100%|███████████████████████████████████████████████████████████████████████████████████████████| 235/235 [00:31<00:00,  7.44it/s]\n",
      "Test MNIST: 100%|███████████████████████████████████████████████████████████████████████████████████████████| 40/40 [00:02<00:00, 18.83it/s]\n",
      "Test EMNIST: 100%|███████████████████████████████████████████████████████████████████████████████████████| 405/405 [00:02<00:00, 178.39it/s]\n"
     ]
    },
    {
     "name": "stdout",
     "output_type": "stream",
     "text": [
      "Epoch 4/100\n"
     ]
    },
    {
     "name": "stderr",
     "output_type": "stream",
     "text": [
      "Training: 100%|███████████████████████████████████████████████████████████████████████████████████████████| 235/235 [00:31<00:00,  7.47it/s]\n",
      "Test MNIST: 100%|███████████████████████████████████████████████████████████████████████████████████████████| 40/40 [00:02<00:00, 18.12it/s]\n",
      "Test EMNIST: 100%|███████████████████████████████████████████████████████████████████████████████████████| 405/405 [00:02<00:00, 173.30it/s]\n"
     ]
    },
    {
     "name": "stdout",
     "output_type": "stream",
     "text": [
      "Epoch 5/100\n"
     ]
    },
    {
     "name": "stderr",
     "output_type": "stream",
     "text": [
      "Training: 100%|███████████████████████████████████████████████████████████████████████████████████████████| 235/235 [00:29<00:00,  7.86it/s]\n",
      "Test MNIST: 100%|███████████████████████████████████████████████████████████████████████████████████████████| 40/40 [00:02<00:00, 18.20it/s]\n",
      "Test EMNIST: 100%|███████████████████████████████████████████████████████████████████████████████████████| 405/405 [00:02<00:00, 162.73it/s]\n"
     ]
    },
    {
     "name": "stdout",
     "output_type": "stream",
     "text": [
      "Epoch 6/100\n"
     ]
    },
    {
     "name": "stderr",
     "output_type": "stream",
     "text": [
      "Training: 100%|███████████████████████████████████████████████████████████████████████████████████████████| 235/235 [00:32<00:00,  7.25it/s]\n",
      "Test MNIST: 100%|███████████████████████████████████████████████████████████████████████████████████████████| 40/40 [00:02<00:00, 17.52it/s]\n",
      "Test EMNIST: 100%|███████████████████████████████████████████████████████████████████████████████████████| 405/405 [00:02<00:00, 167.04it/s]\n"
     ]
    },
    {
     "name": "stdout",
     "output_type": "stream",
     "text": [
      "Epoch 7/100\n"
     ]
    },
    {
     "name": "stderr",
     "output_type": "stream",
     "text": [
      "Training: 100%|███████████████████████████████████████████████████████████████████████████████████████████| 235/235 [00:29<00:00,  8.02it/s]\n",
      "Test MNIST: 100%|███████████████████████████████████████████████████████████████████████████████████████████| 40/40 [00:02<00:00, 19.21it/s]\n",
      "Test EMNIST: 100%|███████████████████████████████████████████████████████████████████████████████████████| 405/405 [00:02<00:00, 170.66it/s]\n"
     ]
    },
    {
     "name": "stdout",
     "output_type": "stream",
     "text": [
      "Epoch 8/100\n"
     ]
    },
    {
     "name": "stderr",
     "output_type": "stream",
     "text": [
      "Training: 100%|███████████████████████████████████████████████████████████████████████████████████████████| 235/235 [00:29<00:00,  7.94it/s]\n",
      "Test MNIST: 100%|███████████████████████████████████████████████████████████████████████████████████████████| 40/40 [00:02<00:00, 19.12it/s]\n",
      "Test EMNIST: 100%|███████████████████████████████████████████████████████████████████████████████████████| 405/405 [00:02<00:00, 179.78it/s]\n"
     ]
    },
    {
     "name": "stdout",
     "output_type": "stream",
     "text": [
      "Epoch 9/100\n"
     ]
    },
    {
     "name": "stderr",
     "output_type": "stream",
     "text": [
      "Training: 100%|███████████████████████████████████████████████████████████████████████████████████████████| 235/235 [00:30<00:00,  7.82it/s]\n",
      "Test MNIST: 100%|███████████████████████████████████████████████████████████████████████████████████████████| 40/40 [00:02<00:00, 19.04it/s]\n",
      "Test EMNIST: 100%|███████████████████████████████████████████████████████████████████████████████████████| 405/405 [00:02<00:00, 168.68it/s]\n"
     ]
    },
    {
     "name": "stdout",
     "output_type": "stream",
     "text": [
      "Epoch 10/100\n"
     ]
    },
    {
     "name": "stderr",
     "output_type": "stream",
     "text": [
      "Training: 100%|███████████████████████████████████████████████████████████████████████████████████████████| 235/235 [00:30<00:00,  7.81it/s]\n",
      "Test MNIST: 100%|███████████████████████████████████████████████████████████████████████████████████████████| 40/40 [00:02<00:00, 18.94it/s]\n",
      "Test EMNIST: 100%|███████████████████████████████████████████████████████████████████████████████████████| 405/405 [00:02<00:00, 178.74it/s]\n"
     ]
    },
    {
     "name": "stdout",
     "output_type": "stream",
     "text": [
      "Epoch 11/100\n"
     ]
    },
    {
     "name": "stderr",
     "output_type": "stream",
     "text": [
      "Training: 100%|███████████████████████████████████████████████████████████████████████████████████████████| 235/235 [00:31<00:00,  7.47it/s]\n",
      "Test MNIST: 100%|███████████████████████████████████████████████████████████████████████████████████████████| 40/40 [00:02<00:00, 19.03it/s]\n",
      "Test EMNIST: 100%|███████████████████████████████████████████████████████████████████████████████████████| 405/405 [00:02<00:00, 178.73it/s]\n"
     ]
    },
    {
     "name": "stdout",
     "output_type": "stream",
     "text": [
      "Epoch 12/100\n"
     ]
    },
    {
     "name": "stderr",
     "output_type": "stream",
     "text": [
      "Training: 100%|███████████████████████████████████████████████████████████████████████████████████████████| 235/235 [00:31<00:00,  7.45it/s]\n",
      "Test MNIST: 100%|███████████████████████████████████████████████████████████████████████████████████████████| 40/40 [00:02<00:00, 19.01it/s]\n",
      "Test EMNIST: 100%|███████████████████████████████████████████████████████████████████████████████████████| 405/405 [00:02<00:00, 179.40it/s]\n"
     ]
    },
    {
     "name": "stdout",
     "output_type": "stream",
     "text": [
      "Epoch 13/100\n"
     ]
    },
    {
     "name": "stderr",
     "output_type": "stream",
     "text": [
      "Training: 100%|███████████████████████████████████████████████████████████████████████████████████████████| 235/235 [00:31<00:00,  7.37it/s]\n",
      "Test MNIST: 100%|███████████████████████████████████████████████████████████████████████████████████████████| 40/40 [00:02<00:00, 18.25it/s]\n",
      "Test EMNIST: 100%|███████████████████████████████████████████████████████████████████████████████████████| 405/405 [00:02<00:00, 178.79it/s]\n"
     ]
    },
    {
     "name": "stdout",
     "output_type": "stream",
     "text": [
      "Epoch 14/100\n"
     ]
    },
    {
     "name": "stderr",
     "output_type": "stream",
     "text": [
      "Training: 100%|███████████████████████████████████████████████████████████████████████████████████████████| 235/235 [00:31<00:00,  7.36it/s]\n",
      "Test MNIST: 100%|███████████████████████████████████████████████████████████████████████████████████████████| 40/40 [00:02<00:00, 19.06it/s]\n",
      "Test EMNIST: 100%|███████████████████████████████████████████████████████████████████████████████████████| 405/405 [00:02<00:00, 177.62it/s]\n"
     ]
    },
    {
     "name": "stdout",
     "output_type": "stream",
     "text": [
      "Epoch 15/100\n"
     ]
    },
    {
     "name": "stderr",
     "output_type": "stream",
     "text": [
      "Training: 100%|███████████████████████████████████████████████████████████████████████████████████████████| 235/235 [00:31<00:00,  7.37it/s]\n",
      "Test MNIST: 100%|███████████████████████████████████████████████████████████████████████████████████████████| 40/40 [00:02<00:00, 18.98it/s]\n",
      "Test EMNIST: 100%|███████████████████████████████████████████████████████████████████████████████████████| 405/405 [00:02<00:00, 178.97it/s]\n"
     ]
    },
    {
     "name": "stdout",
     "output_type": "stream",
     "text": [
      "Epoch 16/100\n"
     ]
    },
    {
     "name": "stderr",
     "output_type": "stream",
     "text": [
      "Training: 100%|███████████████████████████████████████████████████████████████████████████████████████████| 235/235 [00:31<00:00,  7.40it/s]\n",
      "Test MNIST: 100%|███████████████████████████████████████████████████████████████████████████████████████████| 40/40 [00:02<00:00, 19.03it/s]\n",
      "Test EMNIST: 100%|███████████████████████████████████████████████████████████████████████████████████████| 405/405 [00:02<00:00, 168.43it/s]\n"
     ]
    },
    {
     "name": "stdout",
     "output_type": "stream",
     "text": [
      "Epoch 17/100\n"
     ]
    },
    {
     "name": "stderr",
     "output_type": "stream",
     "text": [
      "Training: 100%|███████████████████████████████████████████████████████████████████████████████████████████| 235/235 [00:31<00:00,  7.35it/s]\n",
      "Test MNIST: 100%|███████████████████████████████████████████████████████████████████████████████████████████| 40/40 [00:02<00:00, 18.59it/s]\n",
      "Test EMNIST: 100%|███████████████████████████████████████████████████████████████████████████████████████| 405/405 [00:02<00:00, 171.42it/s]\n"
     ]
    },
    {
     "name": "stdout",
     "output_type": "stream",
     "text": [
      "Epoch 18/100\n"
     ]
    },
    {
     "name": "stderr",
     "output_type": "stream",
     "text": [
      "Training: 100%|███████████████████████████████████████████████████████████████████████████████████████████| 235/235 [00:32<00:00,  7.29it/s]\n",
      "Test MNIST: 100%|███████████████████████████████████████████████████████████████████████████████████████████| 40/40 [00:02<00:00, 17.74it/s]\n",
      "Test EMNIST: 100%|███████████████████████████████████████████████████████████████████████████████████████| 405/405 [00:02<00:00, 165.41it/s]\n"
     ]
    },
    {
     "name": "stdout",
     "output_type": "stream",
     "text": [
      "Epoch 19/100\n"
     ]
    },
    {
     "name": "stderr",
     "output_type": "stream",
     "text": [
      "Training: 100%|███████████████████████████████████████████████████████████████████████████████████████████| 235/235 [00:32<00:00,  7.28it/s]\n",
      "Test MNIST: 100%|███████████████████████████████████████████████████████████████████████████████████████████| 40/40 [00:02<00:00, 19.13it/s]\n",
      "Test EMNIST: 100%|███████████████████████████████████████████████████████████████████████████████████████| 405/405 [00:02<00:00, 176.79it/s]\n"
     ]
    },
    {
     "name": "stdout",
     "output_type": "stream",
     "text": [
      "Epoch 20/100\n"
     ]
    },
    {
     "name": "stderr",
     "output_type": "stream",
     "text": [
      "Training: 100%|███████████████████████████████████████████████████████████████████████████████████████████| 235/235 [00:31<00:00,  7.38it/s]\n",
      "Test MNIST: 100%|███████████████████████████████████████████████████████████████████████████████████████████| 40/40 [00:02<00:00, 17.92it/s]\n",
      "Test EMNIST: 100%|███████████████████████████████████████████████████████████████████████████████████████| 405/405 [00:02<00:00, 164.03it/s]\n"
     ]
    },
    {
     "name": "stdout",
     "output_type": "stream",
     "text": [
      "Epoch 21/100\n"
     ]
    },
    {
     "name": "stderr",
     "output_type": "stream",
     "text": [
      "Training: 100%|███████████████████████████████████████████████████████████████████████████████████████████| 235/235 [00:31<00:00,  7.48it/s]\n",
      "Test MNIST: 100%|███████████████████████████████████████████████████████████████████████████████████████████| 40/40 [00:02<00:00, 19.09it/s]\n",
      "Test EMNIST: 100%|███████████████████████████████████████████████████████████████████████████████████████| 405/405 [00:02<00:00, 175.97it/s]\n"
     ]
    },
    {
     "name": "stdout",
     "output_type": "stream",
     "text": [
      "Epoch 22/100\n"
     ]
    },
    {
     "name": "stderr",
     "output_type": "stream",
     "text": [
      "Training: 100%|███████████████████████████████████████████████████████████████████████████████████████████| 235/235 [00:31<00:00,  7.44it/s]\n",
      "Test MNIST: 100%|███████████████████████████████████████████████████████████████████████████████████████████| 40/40 [00:02<00:00, 18.73it/s]\n",
      "Test EMNIST: 100%|███████████████████████████████████████████████████████████████████████████████████████| 405/405 [00:02<00:00, 177.48it/s]\n"
     ]
    },
    {
     "name": "stdout",
     "output_type": "stream",
     "text": [
      "Epoch 23/100\n"
     ]
    },
    {
     "name": "stderr",
     "output_type": "stream",
     "text": [
      "Training: 100%|███████████████████████████████████████████████████████████████████████████████████████████| 235/235 [00:32<00:00,  7.30it/s]\n",
      "Test MNIST: 100%|███████████████████████████████████████████████████████████████████████████████████████████| 40/40 [00:02<00:00, 18.44it/s]\n",
      "Test EMNIST: 100%|███████████████████████████████████████████████████████████████████████████████████████| 405/405 [00:02<00:00, 179.00it/s]\n"
     ]
    },
    {
     "name": "stdout",
     "output_type": "stream",
     "text": [
      "Epoch 24/100\n"
     ]
    },
    {
     "name": "stderr",
     "output_type": "stream",
     "text": [
      "Training: 100%|███████████████████████████████████████████████████████████████████████████████████████████| 235/235 [00:32<00:00,  7.30it/s]\n",
      "Test MNIST: 100%|███████████████████████████████████████████████████████████████████████████████████████████| 40/40 [00:02<00:00, 18.48it/s]\n",
      "Test EMNIST: 100%|███████████████████████████████████████████████████████████████████████████████████████| 405/405 [00:02<00:00, 175.68it/s]\n"
     ]
    },
    {
     "name": "stdout",
     "output_type": "stream",
     "text": [
      "Epoch 25/100\n"
     ]
    },
    {
     "name": "stderr",
     "output_type": "stream",
     "text": [
      "Training: 100%|███████████████████████████████████████████████████████████████████████████████████████████| 235/235 [00:31<00:00,  7.36it/s]\n",
      "Test MNIST: 100%|███████████████████████████████████████████████████████████████████████████████████████████| 40/40 [00:02<00:00, 18.80it/s]\n",
      "Test EMNIST: 100%|███████████████████████████████████████████████████████████████████████████████████████| 405/405 [00:02<00:00, 178.17it/s]\n"
     ]
    },
    {
     "name": "stdout",
     "output_type": "stream",
     "text": [
      "Epoch 26/100\n"
     ]
    },
    {
     "name": "stderr",
     "output_type": "stream",
     "text": [
      "Training: 100%|███████████████████████████████████████████████████████████████████████████████████████████| 235/235 [00:31<00:00,  7.37it/s]\n",
      "Test MNIST: 100%|███████████████████████████████████████████████████████████████████████████████████████████| 40/40 [00:02<00:00, 18.73it/s]\n",
      "Test EMNIST: 100%|███████████████████████████████████████████████████████████████████████████████████████| 405/405 [00:02<00:00, 175.55it/s]\n"
     ]
    },
    {
     "name": "stdout",
     "output_type": "stream",
     "text": [
      "Epoch 27/100\n"
     ]
    },
    {
     "name": "stderr",
     "output_type": "stream",
     "text": [
      "Training: 100%|███████████████████████████████████████████████████████████████████████████████████████████| 235/235 [00:32<00:00,  7.21it/s]\n",
      "Test MNIST: 100%|███████████████████████████████████████████████████████████████████████████████████████████| 40/40 [00:02<00:00, 17.45it/s]\n",
      "Test EMNIST: 100%|███████████████████████████████████████████████████████████████████████████████████████| 405/405 [00:02<00:00, 176.50it/s]\n"
     ]
    },
    {
     "name": "stdout",
     "output_type": "stream",
     "text": [
      "Epoch 28/100\n"
     ]
    },
    {
     "name": "stderr",
     "output_type": "stream",
     "text": [
      "Training: 100%|███████████████████████████████████████████████████████████████████████████████████████████| 235/235 [00:32<00:00,  7.25it/s]\n",
      "Test MNIST: 100%|███████████████████████████████████████████████████████████████████████████████████████████| 40/40 [00:02<00:00, 18.40it/s]\n",
      "Test EMNIST: 100%|███████████████████████████████████████████████████████████████████████████████████████| 405/405 [00:02<00:00, 173.49it/s]\n"
     ]
    },
    {
     "name": "stdout",
     "output_type": "stream",
     "text": [
      "Epoch 29/100\n"
     ]
    },
    {
     "name": "stderr",
     "output_type": "stream",
     "text": [
      "Training: 100%|███████████████████████████████████████████████████████████████████████████████████████████| 235/235 [00:33<00:00,  7.12it/s]\n",
      "Test MNIST: 100%|███████████████████████████████████████████████████████████████████████████████████████████| 40/40 [00:02<00:00, 18.25it/s]\n",
      "Test EMNIST: 100%|███████████████████████████████████████████████████████████████████████████████████████| 405/405 [00:02<00:00, 165.28it/s]\n"
     ]
    },
    {
     "name": "stdout",
     "output_type": "stream",
     "text": [
      "Epoch 30/100\n"
     ]
    },
    {
     "name": "stderr",
     "output_type": "stream",
     "text": [
      "Training: 100%|███████████████████████████████████████████████████████████████████████████████████████████| 235/235 [00:32<00:00,  7.18it/s]\n",
      "Test MNIST: 100%|███████████████████████████████████████████████████████████████████████████████████████████| 40/40 [00:02<00:00, 18.37it/s]\n",
      "Test EMNIST: 100%|███████████████████████████████████████████████████████████████████████████████████████| 405/405 [00:02<00:00, 174.27it/s]\n"
     ]
    },
    {
     "name": "stdout",
     "output_type": "stream",
     "text": [
      "Epoch 31/100\n"
     ]
    },
    {
     "name": "stderr",
     "output_type": "stream",
     "text": [
      "Training: 100%|███████████████████████████████████████████████████████████████████████████████████████████| 235/235 [00:32<00:00,  7.15it/s]\n",
      "Test MNIST: 100%|███████████████████████████████████████████████████████████████████████████████████████████| 40/40 [00:02<00:00, 17.25it/s]\n",
      "Test EMNIST: 100%|███████████████████████████████████████████████████████████████████████████████████████| 405/405 [00:02<00:00, 157.37it/s]\n"
     ]
    },
    {
     "name": "stdout",
     "output_type": "stream",
     "text": [
      "Epoch 32/100\n"
     ]
    },
    {
     "name": "stderr",
     "output_type": "stream",
     "text": [
      "Training: 100%|███████████████████████████████████████████████████████████████████████████████████████████| 235/235 [00:32<00:00,  7.24it/s]\n",
      "Test MNIST: 100%|███████████████████████████████████████████████████████████████████████████████████████████| 40/40 [00:02<00:00, 18.95it/s]\n",
      "Test EMNIST: 100%|███████████████████████████████████████████████████████████████████████████████████████| 405/405 [00:02<00:00, 177.41it/s]\n"
     ]
    },
    {
     "name": "stdout",
     "output_type": "stream",
     "text": [
      "Epoch 33/100\n"
     ]
    },
    {
     "name": "stderr",
     "output_type": "stream",
     "text": [
      "Training: 100%|███████████████████████████████████████████████████████████████████████████████████████████| 235/235 [00:31<00:00,  7.36it/s]\n",
      "Test MNIST: 100%|███████████████████████████████████████████████████████████████████████████████████████████| 40/40 [00:02<00:00, 19.06it/s]\n",
      "Test EMNIST: 100%|███████████████████████████████████████████████████████████████████████████████████████| 405/405 [00:02<00:00, 174.44it/s]\n"
     ]
    },
    {
     "name": "stdout",
     "output_type": "stream",
     "text": [
      "Epoch 34/100\n"
     ]
    },
    {
     "name": "stderr",
     "output_type": "stream",
     "text": [
      "Training: 100%|███████████████████████████████████████████████████████████████████████████████████████████| 235/235 [00:32<00:00,  7.21it/s]\n",
      "Test MNIST: 100%|███████████████████████████████████████████████████████████████████████████████████████████| 40/40 [00:02<00:00, 18.00it/s]\n",
      "Test EMNIST: 100%|███████████████████████████████████████████████████████████████████████████████████████| 405/405 [00:02<00:00, 171.52it/s]\n"
     ]
    },
    {
     "name": "stdout",
     "output_type": "stream",
     "text": [
      "Epoch 35/100\n"
     ]
    },
    {
     "name": "stderr",
     "output_type": "stream",
     "text": [
      "Training: 100%|███████████████████████████████████████████████████████████████████████████████████████████| 235/235 [00:32<00:00,  7.31it/s]\n",
      "Test MNIST: 100%|███████████████████████████████████████████████████████████████████████████████████████████| 40/40 [00:02<00:00, 19.29it/s]\n",
      "Test EMNIST: 100%|███████████████████████████████████████████████████████████████████████████████████████| 405/405 [00:02<00:00, 178.41it/s]\n"
     ]
    },
    {
     "name": "stdout",
     "output_type": "stream",
     "text": [
      "Epoch 36/100\n"
     ]
    },
    {
     "name": "stderr",
     "output_type": "stream",
     "text": [
      "Training: 100%|███████████████████████████████████████████████████████████████████████████████████████████| 235/235 [00:32<00:00,  7.31it/s]\n",
      "Test MNIST: 100%|███████████████████████████████████████████████████████████████████████████████████████████| 40/40 [00:02<00:00, 19.11it/s]\n",
      "Test EMNIST: 100%|███████████████████████████████████████████████████████████████████████████████████████| 405/405 [00:02<00:00, 178.59it/s]\n"
     ]
    },
    {
     "name": "stdout",
     "output_type": "stream",
     "text": [
      "Epoch 37/100\n"
     ]
    },
    {
     "name": "stderr",
     "output_type": "stream",
     "text": [
      "Training: 100%|███████████████████████████████████████████████████████████████████████████████████████████| 235/235 [00:32<00:00,  7.31it/s]\n",
      "Test MNIST: 100%|███████████████████████████████████████████████████████████████████████████████████████████| 40/40 [00:02<00:00, 18.45it/s]\n",
      "Test EMNIST: 100%|███████████████████████████████████████████████████████████████████████████████████████| 405/405 [00:02<00:00, 177.36it/s]\n"
     ]
    },
    {
     "name": "stdout",
     "output_type": "stream",
     "text": [
      "Epoch 38/100\n"
     ]
    },
    {
     "name": "stderr",
     "output_type": "stream",
     "text": [
      "Training: 100%|███████████████████████████████████████████████████████████████████████████████████████████| 235/235 [00:32<00:00,  7.28it/s]\n",
      "Test MNIST: 100%|███████████████████████████████████████████████████████████████████████████████████████████| 40/40 [00:02<00:00, 18.81it/s]\n",
      "Test EMNIST: 100%|███████████████████████████████████████████████████████████████████████████████████████| 405/405 [00:02<00:00, 176.75it/s]\n"
     ]
    },
    {
     "name": "stdout",
     "output_type": "stream",
     "text": [
      "Epoch 39/100\n"
     ]
    },
    {
     "name": "stderr",
     "output_type": "stream",
     "text": [
      "Training: 100%|███████████████████████████████████████████████████████████████████████████████████████████| 235/235 [00:32<00:00,  7.22it/s]\n",
      "Test MNIST: 100%|███████████████████████████████████████████████████████████████████████████████████████████| 40/40 [00:02<00:00, 18.19it/s]\n",
      "Test EMNIST: 100%|███████████████████████████████████████████████████████████████████████████████████████| 405/405 [00:02<00:00, 173.08it/s]\n"
     ]
    },
    {
     "name": "stdout",
     "output_type": "stream",
     "text": [
      "Epoch 40/100\n"
     ]
    },
    {
     "name": "stderr",
     "output_type": "stream",
     "text": [
      "Training: 100%|███████████████████████████████████████████████████████████████████████████████████████████| 235/235 [00:32<00:00,  7.30it/s]\n",
      "Test MNIST: 100%|███████████████████████████████████████████████████████████████████████████████████████████| 40/40 [00:02<00:00, 19.17it/s]\n",
      "Test EMNIST: 100%|███████████████████████████████████████████████████████████████████████████████████████| 405/405 [00:02<00:00, 159.36it/s]\n"
     ]
    },
    {
     "name": "stdout",
     "output_type": "stream",
     "text": [
      "Epoch 41/100\n"
     ]
    },
    {
     "name": "stderr",
     "output_type": "stream",
     "text": [
      "Training: 100%|███████████████████████████████████████████████████████████████████████████████████████████| 235/235 [00:32<00:00,  7.23it/s]\n",
      "Test MNIST: 100%|███████████████████████████████████████████████████████████████████████████████████████████| 40/40 [00:02<00:00, 18.80it/s]\n",
      "Test EMNIST: 100%|███████████████████████████████████████████████████████████████████████████████████████| 405/405 [00:02<00:00, 180.25it/s]\n"
     ]
    },
    {
     "name": "stdout",
     "output_type": "stream",
     "text": [
      "Epoch 42/100\n"
     ]
    },
    {
     "name": "stderr",
     "output_type": "stream",
     "text": [
      "Training: 100%|███████████████████████████████████████████████████████████████████████████████████████████| 235/235 [00:32<00:00,  7.33it/s]\n",
      "Test MNIST: 100%|███████████████████████████████████████████████████████████████████████████████████████████| 40/40 [00:02<00:00, 17.97it/s]\n",
      "Test EMNIST: 100%|███████████████████████████████████████████████████████████████████████████████████████| 405/405 [00:02<00:00, 168.20it/s]\n"
     ]
    },
    {
     "name": "stdout",
     "output_type": "stream",
     "text": [
      "Epoch 43/100\n"
     ]
    },
    {
     "name": "stderr",
     "output_type": "stream",
     "text": [
      "Training: 100%|███████████████████████████████████████████████████████████████████████████████████████████| 235/235 [00:32<00:00,  7.26it/s]\n",
      "Test MNIST: 100%|███████████████████████████████████████████████████████████████████████████████████████████| 40/40 [00:02<00:00, 18.03it/s]\n",
      "Test EMNIST: 100%|███████████████████████████████████████████████████████████████████████████████████████| 405/405 [00:02<00:00, 178.11it/s]\n"
     ]
    },
    {
     "name": "stdout",
     "output_type": "stream",
     "text": [
      "Epoch 44/100\n"
     ]
    },
    {
     "name": "stderr",
     "output_type": "stream",
     "text": [
      "Training: 100%|███████████████████████████████████████████████████████████████████████████████████████████| 235/235 [00:31<00:00,  7.47it/s]\n",
      "Test MNIST: 100%|███████████████████████████████████████████████████████████████████████████████████████████| 40/40 [00:02<00:00, 19.09it/s]\n",
      "Test EMNIST: 100%|███████████████████████████████████████████████████████████████████████████████████████| 405/405 [00:02<00:00, 168.86it/s]\n"
     ]
    },
    {
     "name": "stdout",
     "output_type": "stream",
     "text": [
      "Epoch 45/100\n"
     ]
    },
    {
     "name": "stderr",
     "output_type": "stream",
     "text": [
      "Training: 100%|███████████████████████████████████████████████████████████████████████████████████████████| 235/235 [00:31<00:00,  7.43it/s]\n",
      "Test MNIST: 100%|███████████████████████████████████████████████████████████████████████████████████████████| 40/40 [00:02<00:00, 18.70it/s]\n",
      "Test EMNIST: 100%|███████████████████████████████████████████████████████████████████████████████████████| 405/405 [00:02<00:00, 177.64it/s]\n"
     ]
    },
    {
     "name": "stdout",
     "output_type": "stream",
     "text": [
      "Epoch 46/100\n"
     ]
    },
    {
     "name": "stderr",
     "output_type": "stream",
     "text": [
      "Training: 100%|███████████████████████████████████████████████████████████████████████████████████████████| 235/235 [00:31<00:00,  7.56it/s]\n",
      "Test MNIST: 100%|███████████████████████████████████████████████████████████████████████████████████████████| 40/40 [00:02<00:00, 18.98it/s]\n",
      "Test EMNIST: 100%|███████████████████████████████████████████████████████████████████████████████████████| 405/405 [00:02<00:00, 180.07it/s]\n"
     ]
    },
    {
     "name": "stdout",
     "output_type": "stream",
     "text": [
      "Epoch 47/100\n"
     ]
    },
    {
     "name": "stderr",
     "output_type": "stream",
     "text": [
      "Training: 100%|███████████████████████████████████████████████████████████████████████████████████████████| 235/235 [00:31<00:00,  7.37it/s]\n",
      "Test MNIST: 100%|███████████████████████████████████████████████████████████████████████████████████████████| 40/40 [00:02<00:00, 19.08it/s]\n",
      "Test EMNIST: 100%|███████████████████████████████████████████████████████████████████████████████████████| 405/405 [00:02<00:00, 176.65it/s]\n"
     ]
    },
    {
     "name": "stdout",
     "output_type": "stream",
     "text": [
      "Epoch 48/100\n"
     ]
    },
    {
     "name": "stderr",
     "output_type": "stream",
     "text": [
      "Training: 100%|███████████████████████████████████████████████████████████████████████████████████████████| 235/235 [00:31<00:00,  7.39it/s]\n",
      "Test MNIST: 100%|███████████████████████████████████████████████████████████████████████████████████████████| 40/40 [00:02<00:00, 18.92it/s]\n",
      "Test EMNIST: 100%|███████████████████████████████████████████████████████████████████████████████████████| 405/405 [00:02<00:00, 178.56it/s]\n"
     ]
    },
    {
     "name": "stdout",
     "output_type": "stream",
     "text": [
      "Epoch 49/100\n"
     ]
    },
    {
     "name": "stderr",
     "output_type": "stream",
     "text": [
      "Training: 100%|███████████████████████████████████████████████████████████████████████████████████████████| 235/235 [00:32<00:00,  7.32it/s]\n",
      "Test MNIST: 100%|███████████████████████████████████████████████████████████████████████████████████████████| 40/40 [00:02<00:00, 18.32it/s]\n",
      "Test EMNIST: 100%|███████████████████████████████████████████████████████████████████████████████████████| 405/405 [00:02<00:00, 171.41it/s]\n"
     ]
    },
    {
     "name": "stdout",
     "output_type": "stream",
     "text": [
      "Epoch 50/100\n"
     ]
    },
    {
     "name": "stderr",
     "output_type": "stream",
     "text": [
      "Training: 100%|███████████████████████████████████████████████████████████████████████████████████████████| 235/235 [00:33<00:00,  7.12it/s]\n",
      "Test MNIST: 100%|███████████████████████████████████████████████████████████████████████████████████████████| 40/40 [00:02<00:00, 17.09it/s]\n",
      "Test EMNIST: 100%|███████████████████████████████████████████████████████████████████████████████████████| 405/405 [00:02<00:00, 167.65it/s]\n"
     ]
    },
    {
     "name": "stdout",
     "output_type": "stream",
     "text": [
      "Epoch 51/100\n"
     ]
    },
    {
     "name": "stderr",
     "output_type": "stream",
     "text": [
      "Training: 100%|███████████████████████████████████████████████████████████████████████████████████████████| 235/235 [00:32<00:00,  7.32it/s]\n",
      "Test MNIST: 100%|███████████████████████████████████████████████████████████████████████████████████████████| 40/40 [00:02<00:00, 16.87it/s]\n",
      "Test EMNIST: 100%|███████████████████████████████████████████████████████████████████████████████████████| 405/405 [00:02<00:00, 162.31it/s]\n"
     ]
    },
    {
     "name": "stdout",
     "output_type": "stream",
     "text": [
      "Epoch 52/100\n"
     ]
    },
    {
     "name": "stderr",
     "output_type": "stream",
     "text": [
      "Training: 100%|███████████████████████████████████████████████████████████████████████████████████████████| 235/235 [00:33<00:00,  6.95it/s]\n",
      "Test MNIST: 100%|███████████████████████████████████████████████████████████████████████████████████████████| 40/40 [00:02<00:00, 16.19it/s]\n",
      "Test EMNIST: 100%|███████████████████████████████████████████████████████████████████████████████████████| 405/405 [00:02<00:00, 165.63it/s]\n"
     ]
    },
    {
     "name": "stdout",
     "output_type": "stream",
     "text": [
      "Epoch 53/100\n"
     ]
    },
    {
     "name": "stderr",
     "output_type": "stream",
     "text": [
      "Training: 100%|███████████████████████████████████████████████████████████████████████████████████████████| 235/235 [00:32<00:00,  7.31it/s]\n",
      "Test MNIST: 100%|███████████████████████████████████████████████████████████████████████████████████████████| 40/40 [00:02<00:00, 18.68it/s]\n",
      "Test EMNIST: 100%|███████████████████████████████████████████████████████████████████████████████████████| 405/405 [00:02<00:00, 167.29it/s]\n"
     ]
    },
    {
     "name": "stdout",
     "output_type": "stream",
     "text": [
      "Epoch 54/100\n"
     ]
    },
    {
     "name": "stderr",
     "output_type": "stream",
     "text": [
      "Training: 100%|███████████████████████████████████████████████████████████████████████████████████████████| 235/235 [00:31<00:00,  7.39it/s]\n",
      "Test MNIST: 100%|███████████████████████████████████████████████████████████████████████████████████████████| 40/40 [00:02<00:00, 19.13it/s]\n",
      "Test EMNIST: 100%|███████████████████████████████████████████████████████████████████████████████████████| 405/405 [00:02<00:00, 180.52it/s]\n"
     ]
    },
    {
     "name": "stdout",
     "output_type": "stream",
     "text": [
      "Epoch 55/100\n"
     ]
    },
    {
     "name": "stderr",
     "output_type": "stream",
     "text": [
      "Training: 100%|███████████████████████████████████████████████████████████████████████████████████████████| 235/235 [00:31<00:00,  7.39it/s]\n",
      "Test MNIST: 100%|███████████████████████████████████████████████████████████████████████████████████████████| 40/40 [00:02<00:00, 19.12it/s]\n",
      "Test EMNIST: 100%|███████████████████████████████████████████████████████████████████████████████████████| 405/405 [00:02<00:00, 170.26it/s]\n"
     ]
    },
    {
     "name": "stdout",
     "output_type": "stream",
     "text": [
      "Epoch 56/100\n"
     ]
    },
    {
     "name": "stderr",
     "output_type": "stream",
     "text": [
      "Training: 100%|███████████████████████████████████████████████████████████████████████████████████████████| 235/235 [00:31<00:00,  7.55it/s]\n",
      "Test MNIST: 100%|███████████████████████████████████████████████████████████████████████████████████████████| 40/40 [00:02<00:00, 18.94it/s]\n",
      "Test EMNIST: 100%|███████████████████████████████████████████████████████████████████████████████████████| 405/405 [00:02<00:00, 179.94it/s]\n"
     ]
    },
    {
     "name": "stdout",
     "output_type": "stream",
     "text": [
      "Epoch 57/100\n"
     ]
    },
    {
     "name": "stderr",
     "output_type": "stream",
     "text": [
      "Training: 100%|███████████████████████████████████████████████████████████████████████████████████████████| 235/235 [00:31<00:00,  7.49it/s]\n",
      "Test MNIST: 100%|███████████████████████████████████████████████████████████████████████████████████████████| 40/40 [00:02<00:00, 19.21it/s]\n",
      "Test EMNIST: 100%|███████████████████████████████████████████████████████████████████████████████████████| 405/405 [00:02<00:00, 180.45it/s]\n"
     ]
    },
    {
     "name": "stdout",
     "output_type": "stream",
     "text": [
      "Epoch 58/100\n"
     ]
    },
    {
     "name": "stderr",
     "output_type": "stream",
     "text": [
      "Training: 100%|███████████████████████████████████████████████████████████████████████████████████████████| 235/235 [00:31<00:00,  7.48it/s]\n",
      "Test MNIST: 100%|███████████████████████████████████████████████████████████████████████████████████████████| 40/40 [00:02<00:00, 19.21it/s]\n",
      "Test EMNIST: 100%|███████████████████████████████████████████████████████████████████████████████████████| 405/405 [00:02<00:00, 179.63it/s]\n"
     ]
    },
    {
     "name": "stdout",
     "output_type": "stream",
     "text": [
      "Epoch 59/100\n"
     ]
    },
    {
     "name": "stderr",
     "output_type": "stream",
     "text": [
      "Training: 100%|███████████████████████████████████████████████████████████████████████████████████████████| 235/235 [00:31<00:00,  7.38it/s]\n",
      "Test MNIST: 100%|███████████████████████████████████████████████████████████████████████████████████████████| 40/40 [00:02<00:00, 19.10it/s]\n",
      "Test EMNIST: 100%|███████████████████████████████████████████████████████████████████████████████████████| 405/405 [00:02<00:00, 179.47it/s]\n"
     ]
    },
    {
     "name": "stdout",
     "output_type": "stream",
     "text": [
      "Epoch 60/100\n"
     ]
    },
    {
     "name": "stderr",
     "output_type": "stream",
     "text": [
      "Training: 100%|███████████████████████████████████████████████████████████████████████████████████████████| 235/235 [00:31<00:00,  7.38it/s]\n",
      "Test MNIST: 100%|███████████████████████████████████████████████████████████████████████████████████████████| 40/40 [00:02<00:00, 18.85it/s]\n",
      "Test EMNIST: 100%|███████████████████████████████████████████████████████████████████████████████████████| 405/405 [00:02<00:00, 178.10it/s]\n"
     ]
    },
    {
     "name": "stdout",
     "output_type": "stream",
     "text": [
      "Epoch 61/100\n"
     ]
    },
    {
     "name": "stderr",
     "output_type": "stream",
     "text": [
      "Training: 100%|███████████████████████████████████████████████████████████████████████████████████████████| 235/235 [00:31<00:00,  7.38it/s]\n",
      "Test MNIST: 100%|███████████████████████████████████████████████████████████████████████████████████████████| 40/40 [00:02<00:00, 18.88it/s]\n",
      "Test EMNIST: 100%|███████████████████████████████████████████████████████████████████████████████████████| 405/405 [00:02<00:00, 179.39it/s]\n"
     ]
    },
    {
     "name": "stdout",
     "output_type": "stream",
     "text": [
      "Epoch 62/100\n"
     ]
    },
    {
     "name": "stderr",
     "output_type": "stream",
     "text": [
      "Training: 100%|███████████████████████████████████████████████████████████████████████████████████████████| 235/235 [00:31<00:00,  7.39it/s]\n",
      "Test MNIST: 100%|███████████████████████████████████████████████████████████████████████████████████████████| 40/40 [00:02<00:00, 18.18it/s]\n",
      "Test EMNIST: 100%|███████████████████████████████████████████████████████████████████████████████████████| 405/405 [00:02<00:00, 180.51it/s]\n"
     ]
    },
    {
     "name": "stdout",
     "output_type": "stream",
     "text": [
      "Epoch 63/100\n"
     ]
    },
    {
     "name": "stderr",
     "output_type": "stream",
     "text": [
      "Training: 100%|███████████████████████████████████████████████████████████████████████████████████████████| 235/235 [00:32<00:00,  7.34it/s]\n",
      "Test MNIST: 100%|███████████████████████████████████████████████████████████████████████████████████████████| 40/40 [00:02<00:00, 19.11it/s]\n",
      "Test EMNIST: 100%|███████████████████████████████████████████████████████████████████████████████████████| 405/405 [00:02<00:00, 178.78it/s]\n"
     ]
    },
    {
     "name": "stdout",
     "output_type": "stream",
     "text": [
      "Epoch 64/100\n"
     ]
    },
    {
     "name": "stderr",
     "output_type": "stream",
     "text": [
      "Training: 100%|███████████████████████████████████████████████████████████████████████████████████████████| 235/235 [00:31<00:00,  7.39it/s]\n",
      "Test MNIST: 100%|███████████████████████████████████████████████████████████████████████████████████████████| 40/40 [00:02<00:00, 18.95it/s]\n",
      "Test EMNIST: 100%|███████████████████████████████████████████████████████████████████████████████████████| 405/405 [00:02<00:00, 170.45it/s]\n"
     ]
    },
    {
     "name": "stdout",
     "output_type": "stream",
     "text": [
      "Epoch 65/100\n"
     ]
    },
    {
     "name": "stderr",
     "output_type": "stream",
     "text": [
      "Training: 100%|███████████████████████████████████████████████████████████████████████████████████████████| 235/235 [00:30<00:00,  7.65it/s]\n",
      "Test MNIST: 100%|███████████████████████████████████████████████████████████████████████████████████████████| 40/40 [00:02<00:00, 19.18it/s]\n",
      "Test EMNIST: 100%|███████████████████████████████████████████████████████████████████████████████████████| 405/405 [00:02<00:00, 180.00it/s]\n"
     ]
    },
    {
     "name": "stdout",
     "output_type": "stream",
     "text": [
      "Epoch 66/100\n"
     ]
    },
    {
     "name": "stderr",
     "output_type": "stream",
     "text": [
      "Training: 100%|███████████████████████████████████████████████████████████████████████████████████████████| 235/235 [00:30<00:00,  7.75it/s]\n",
      "Test MNIST: 100%|███████████████████████████████████████████████████████████████████████████████████████████| 40/40 [00:02<00:00, 19.15it/s]\n",
      "Test EMNIST: 100%|███████████████████████████████████████████████████████████████████████████████████████| 405/405 [00:02<00:00, 170.68it/s]\n"
     ]
    },
    {
     "name": "stdout",
     "output_type": "stream",
     "text": [
      "Epoch 67/100\n"
     ]
    },
    {
     "name": "stderr",
     "output_type": "stream",
     "text": [
      "Training: 100%|███████████████████████████████████████████████████████████████████████████████████████████| 235/235 [00:29<00:00,  7.99it/s]\n",
      "Test MNIST: 100%|███████████████████████████████████████████████████████████████████████████████████████████| 40/40 [00:02<00:00, 18.26it/s]\n",
      "Test EMNIST: 100%|███████████████████████████████████████████████████████████████████████████████████████| 405/405 [00:02<00:00, 176.29it/s]\n"
     ]
    },
    {
     "name": "stdout",
     "output_type": "stream",
     "text": [
      "Epoch 68/100\n"
     ]
    },
    {
     "name": "stderr",
     "output_type": "stream",
     "text": [
      "Training: 100%|███████████████████████████████████████████████████████████████████████████████████████████| 235/235 [00:32<00:00,  7.33it/s]\n",
      "Test MNIST: 100%|███████████████████████████████████████████████████████████████████████████████████████████| 40/40 [00:02<00:00, 17.43it/s]\n",
      "Test EMNIST: 100%|███████████████████████████████████████████████████████████████████████████████████████| 405/405 [00:02<00:00, 166.28it/s]\n"
     ]
    },
    {
     "name": "stdout",
     "output_type": "stream",
     "text": [
      "Epoch 69/100\n"
     ]
    },
    {
     "name": "stderr",
     "output_type": "stream",
     "text": [
      "Training: 100%|███████████████████████████████████████████████████████████████████████████████████████████| 235/235 [00:32<00:00,  7.26it/s]\n",
      "Test MNIST: 100%|███████████████████████████████████████████████████████████████████████████████████████████| 40/40 [00:02<00:00, 17.26it/s]\n",
      "Test EMNIST: 100%|███████████████████████████████████████████████████████████████████████████████████████| 405/405 [00:02<00:00, 169.16it/s]\n"
     ]
    },
    {
     "name": "stdout",
     "output_type": "stream",
     "text": [
      "Epoch 70/100\n"
     ]
    },
    {
     "name": "stderr",
     "output_type": "stream",
     "text": [
      "Training: 100%|███████████████████████████████████████████████████████████████████████████████████████████| 235/235 [00:34<00:00,  6.88it/s]\n",
      "Test MNIST: 100%|███████████████████████████████████████████████████████████████████████████████████████████| 40/40 [00:02<00:00, 17.76it/s]\n",
      "Test EMNIST: 100%|███████████████████████████████████████████████████████████████████████████████████████| 405/405 [00:02<00:00, 166.37it/s]\n"
     ]
    },
    {
     "name": "stdout",
     "output_type": "stream",
     "text": [
      "Epoch 71/100\n"
     ]
    },
    {
     "name": "stderr",
     "output_type": "stream",
     "text": [
      "Training: 100%|███████████████████████████████████████████████████████████████████████████████████████████| 235/235 [00:32<00:00,  7.15it/s]\n",
      "Test MNIST: 100%|███████████████████████████████████████████████████████████████████████████████████████████| 40/40 [00:02<00:00, 18.77it/s]\n",
      "Test EMNIST: 100%|███████████████████████████████████████████████████████████████████████████████████████| 405/405 [00:02<00:00, 179.38it/s]\n"
     ]
    },
    {
     "name": "stdout",
     "output_type": "stream",
     "text": [
      "Epoch 72/100\n"
     ]
    },
    {
     "name": "stderr",
     "output_type": "stream",
     "text": [
      "Training: 100%|███████████████████████████████████████████████████████████████████████████████████████████| 235/235 [00:31<00:00,  7.40it/s]\n",
      "Test MNIST: 100%|███████████████████████████████████████████████████████████████████████████████████████████| 40/40 [00:02<00:00, 18.84it/s]\n",
      "Test EMNIST: 100%|███████████████████████████████████████████████████████████████████████████████████████| 405/405 [00:02<00:00, 179.98it/s]\n"
     ]
    },
    {
     "name": "stdout",
     "output_type": "stream",
     "text": [
      "Epoch 73/100\n"
     ]
    },
    {
     "name": "stderr",
     "output_type": "stream",
     "text": [
      "Training: 100%|███████████████████████████████████████████████████████████████████████████████████████████| 235/235 [00:31<00:00,  7.41it/s]\n",
      "Test MNIST: 100%|███████████████████████████████████████████████████████████████████████████████████████████| 40/40 [00:02<00:00, 18.13it/s]\n",
      "Test EMNIST: 100%|███████████████████████████████████████████████████████████████████████████████████████| 405/405 [00:02<00:00, 179.75it/s]\n"
     ]
    },
    {
     "name": "stdout",
     "output_type": "stream",
     "text": [
      "Epoch 74/100\n"
     ]
    },
    {
     "name": "stderr",
     "output_type": "stream",
     "text": [
      "Training: 100%|███████████████████████████████████████████████████████████████████████████████████████████| 235/235 [00:31<00:00,  7.43it/s]\n",
      "Test MNIST: 100%|███████████████████████████████████████████████████████████████████████████████████████████| 40/40 [00:02<00:00, 18.91it/s]\n",
      "Test EMNIST: 100%|███████████████████████████████████████████████████████████████████████████████████████| 405/405 [00:02<00:00, 179.78it/s]\n"
     ]
    },
    {
     "name": "stdout",
     "output_type": "stream",
     "text": [
      "Epoch 75/100\n"
     ]
    },
    {
     "name": "stderr",
     "output_type": "stream",
     "text": [
      "Training: 100%|███████████████████████████████████████████████████████████████████████████████████████████| 235/235 [00:31<00:00,  7.50it/s]\n",
      "Test MNIST: 100%|███████████████████████████████████████████████████████████████████████████████████████████| 40/40 [00:02<00:00, 19.13it/s]\n",
      "Test EMNIST: 100%|███████████████████████████████████████████████████████████████████████████████████████| 405/405 [00:02<00:00, 169.94it/s]\n"
     ]
    },
    {
     "name": "stdout",
     "output_type": "stream",
     "text": [
      "Epoch 76/100\n"
     ]
    },
    {
     "name": "stderr",
     "output_type": "stream",
     "text": [
      "Training: 100%|███████████████████████████████████████████████████████████████████████████████████████████| 235/235 [00:31<00:00,  7.36it/s]\n",
      "Test MNIST: 100%|███████████████████████████████████████████████████████████████████████████████████████████| 40/40 [00:02<00:00, 19.13it/s]\n",
      "Test EMNIST: 100%|███████████████████████████████████████████████████████████████████████████████████████| 405/405 [00:02<00:00, 179.90it/s]\n"
     ]
    },
    {
     "name": "stdout",
     "output_type": "stream",
     "text": [
      "Epoch 77/100\n"
     ]
    },
    {
     "name": "stderr",
     "output_type": "stream",
     "text": [
      "Training: 100%|███████████████████████████████████████████████████████████████████████████████████████████| 235/235 [00:31<00:00,  7.41it/s]\n",
      "Test MNIST: 100%|███████████████████████████████████████████████████████████████████████████████████████████| 40/40 [00:02<00:00, 18.90it/s]\n",
      "Test EMNIST: 100%|███████████████████████████████████████████████████████████████████████████████████████| 405/405 [00:02<00:00, 171.25it/s]\n"
     ]
    },
    {
     "name": "stdout",
     "output_type": "stream",
     "text": [
      "Epoch 78/100\n"
     ]
    },
    {
     "name": "stderr",
     "output_type": "stream",
     "text": [
      "Training: 100%|███████████████████████████████████████████████████████████████████████████████████████████| 235/235 [00:31<00:00,  7.37it/s]\n",
      "Test MNIST: 100%|███████████████████████████████████████████████████████████████████████████████████████████| 40/40 [00:02<00:00, 18.90it/s]\n",
      "Test EMNIST: 100%|███████████████████████████████████████████████████████████████████████████████████████| 405/405 [00:02<00:00, 179.10it/s]\n"
     ]
    },
    {
     "name": "stdout",
     "output_type": "stream",
     "text": [
      "Epoch 79/100\n"
     ]
    },
    {
     "name": "stderr",
     "output_type": "stream",
     "text": [
      "Training: 100%|███████████████████████████████████████████████████████████████████████████████████████████| 235/235 [00:31<00:00,  7.47it/s]\n",
      "Test MNIST: 100%|███████████████████████████████████████████████████████████████████████████████████████████| 40/40 [00:02<00:00, 19.18it/s]\n",
      "Test EMNIST: 100%|███████████████████████████████████████████████████████████████████████████████████████| 405/405 [00:02<00:00, 169.98it/s]\n"
     ]
    },
    {
     "name": "stdout",
     "output_type": "stream",
     "text": [
      "Epoch 80/100\n"
     ]
    },
    {
     "name": "stderr",
     "output_type": "stream",
     "text": [
      "Training: 100%|███████████████████████████████████████████████████████████████████████████████████████████| 235/235 [00:31<00:00,  7.46it/s]\n",
      "Test MNIST: 100%|███████████████████████████████████████████████████████████████████████████████████████████| 40/40 [00:02<00:00, 19.00it/s]\n",
      "Test EMNIST: 100%|███████████████████████████████████████████████████████████████████████████████████████| 405/405 [00:02<00:00, 176.14it/s]\n"
     ]
    },
    {
     "name": "stdout",
     "output_type": "stream",
     "text": [
      "Epoch 81/100\n"
     ]
    },
    {
     "name": "stderr",
     "output_type": "stream",
     "text": [
      "Training: 100%|███████████████████████████████████████████████████████████████████████████████████████████| 235/235 [00:31<00:00,  7.48it/s]\n",
      "Test MNIST: 100%|███████████████████████████████████████████████████████████████████████████████████████████| 40/40 [00:02<00:00, 19.12it/s]\n",
      "Test EMNIST: 100%|███████████████████████████████████████████████████████████████████████████████████████| 405/405 [00:02<00:00, 178.45it/s]\n"
     ]
    },
    {
     "name": "stdout",
     "output_type": "stream",
     "text": [
      "Epoch 82/100\n"
     ]
    },
    {
     "name": "stderr",
     "output_type": "stream",
     "text": [
      "Training: 100%|███████████████████████████████████████████████████████████████████████████████████████████| 235/235 [00:31<00:00,  7.56it/s]\n",
      "Test MNIST: 100%|███████████████████████████████████████████████████████████████████████████████████████████| 40/40 [00:02<00:00, 19.20it/s]\n",
      "Test EMNIST: 100%|███████████████████████████████████████████████████████████████████████████████████████| 405/405 [00:02<00:00, 179.15it/s]\n"
     ]
    },
    {
     "name": "stdout",
     "output_type": "stream",
     "text": [
      "Epoch 83/100\n"
     ]
    },
    {
     "name": "stderr",
     "output_type": "stream",
     "text": [
      "Training: 100%|███████████████████████████████████████████████████████████████████████████████████████████| 235/235 [00:31<00:00,  7.55it/s]\n",
      "Test MNIST: 100%|███████████████████████████████████████████████████████████████████████████████████████████| 40/40 [00:02<00:00, 19.18it/s]\n",
      "Test EMNIST: 100%|███████████████████████████████████████████████████████████████████████████████████████| 405/405 [00:02<00:00, 176.90it/s]\n"
     ]
    },
    {
     "name": "stdout",
     "output_type": "stream",
     "text": [
      "Epoch 84/100\n"
     ]
    },
    {
     "name": "stderr",
     "output_type": "stream",
     "text": [
      "Training: 100%|███████████████████████████████████████████████████████████████████████████████████████████| 235/235 [00:31<00:00,  7.43it/s]\n",
      "Test MNIST: 100%|███████████████████████████████████████████████████████████████████████████████████████████| 40/40 [00:02<00:00, 18.79it/s]\n",
      "Test EMNIST: 100%|███████████████████████████████████████████████████████████████████████████████████████| 405/405 [00:02<00:00, 178.52it/s]\n"
     ]
    },
    {
     "name": "stdout",
     "output_type": "stream",
     "text": [
      "Epoch 85/100\n"
     ]
    },
    {
     "name": "stderr",
     "output_type": "stream",
     "text": [
      "Training: 100%|███████████████████████████████████████████████████████████████████████████████████████████| 235/235 [00:32<00:00,  7.33it/s]\n",
      "Test MNIST: 100%|███████████████████████████████████████████████████████████████████████████████████████████| 40/40 [00:02<00:00, 18.75it/s]\n",
      "Test EMNIST: 100%|███████████████████████████████████████████████████████████████████████████████████████| 405/405 [00:02<00:00, 180.96it/s]\n"
     ]
    },
    {
     "name": "stdout",
     "output_type": "stream",
     "text": [
      "Epoch 86/100\n"
     ]
    },
    {
     "name": "stderr",
     "output_type": "stream",
     "text": [
      "Training: 100%|███████████████████████████████████████████████████████████████████████████████████████████| 235/235 [00:31<00:00,  7.36it/s]\n",
      "Test MNIST: 100%|███████████████████████████████████████████████████████████████████████████████████████████| 40/40 [00:02<00:00, 18.48it/s]\n",
      "Test EMNIST: 100%|███████████████████████████████████████████████████████████████████████████████████████| 405/405 [00:02<00:00, 169.41it/s]\n"
     ]
    },
    {
     "name": "stdout",
     "output_type": "stream",
     "text": [
      "Epoch 87/100\n"
     ]
    },
    {
     "name": "stderr",
     "output_type": "stream",
     "text": [
      "Training: 100%|███████████████████████████████████████████████████████████████████████████████████████████| 235/235 [00:31<00:00,  7.34it/s]\n",
      "Test MNIST: 100%|███████████████████████████████████████████████████████████████████████████████████████████| 40/40 [00:02<00:00, 18.85it/s]\n",
      "Test EMNIST: 100%|███████████████████████████████████████████████████████████████████████████████████████| 405/405 [00:02<00:00, 180.34it/s]\n"
     ]
    },
    {
     "name": "stdout",
     "output_type": "stream",
     "text": [
      "Epoch 88/100\n"
     ]
    },
    {
     "name": "stderr",
     "output_type": "stream",
     "text": [
      "Training: 100%|███████████████████████████████████████████████████████████████████████████████████████████| 235/235 [00:31<00:00,  7.51it/s]\n",
      "Test MNIST: 100%|███████████████████████████████████████████████████████████████████████████████████████████| 40/40 [00:02<00:00, 18.88it/s]\n",
      "Test EMNIST: 100%|███████████████████████████████████████████████████████████████████████████████████████| 405/405 [00:02<00:00, 169.62it/s]\n"
     ]
    },
    {
     "name": "stdout",
     "output_type": "stream",
     "text": [
      "Epoch 89/100\n"
     ]
    },
    {
     "name": "stderr",
     "output_type": "stream",
     "text": [
      "Training: 100%|███████████████████████████████████████████████████████████████████████████████████████████| 235/235 [00:30<00:00,  7.59it/s]\n",
      "Test MNIST: 100%|███████████████████████████████████████████████████████████████████████████████████████████| 40/40 [00:02<00:00, 18.52it/s]\n",
      "Test EMNIST: 100%|███████████████████████████████████████████████████████████████████████████████████████| 405/405 [00:02<00:00, 179.29it/s]\n"
     ]
    },
    {
     "name": "stdout",
     "output_type": "stream",
     "text": [
      "Epoch 90/100\n"
     ]
    },
    {
     "name": "stderr",
     "output_type": "stream",
     "text": [
      "Training: 100%|███████████████████████████████████████████████████████████████████████████████████████████| 235/235 [00:31<00:00,  7.45it/s]\n",
      "Test MNIST: 100%|███████████████████████████████████████████████████████████████████████████████████████████| 40/40 [00:02<00:00, 17.98it/s]\n",
      "Test EMNIST: 100%|███████████████████████████████████████████████████████████████████████████████████████| 405/405 [00:02<00:00, 161.13it/s]\n"
     ]
    },
    {
     "name": "stdout",
     "output_type": "stream",
     "text": [
      "Epoch 91/100\n"
     ]
    },
    {
     "name": "stderr",
     "output_type": "stream",
     "text": [
      "Training: 100%|███████████████████████████████████████████████████████████████████████████████████████████| 235/235 [00:32<00:00,  7.32it/s]\n",
      "Test MNIST: 100%|███████████████████████████████████████████████████████████████████████████████████████████| 40/40 [00:02<00:00, 18.84it/s]\n",
      "Test EMNIST: 100%|███████████████████████████████████████████████████████████████████████████████████████| 405/405 [00:02<00:00, 180.23it/s]\n"
     ]
    },
    {
     "name": "stdout",
     "output_type": "stream",
     "text": [
      "Epoch 92/100\n"
     ]
    },
    {
     "name": "stderr",
     "output_type": "stream",
     "text": [
      "Training: 100%|███████████████████████████████████████████████████████████████████████████████████████████| 235/235 [00:31<00:00,  7.39it/s]\n",
      "Test MNIST: 100%|███████████████████████████████████████████████████████████████████████████████████████████| 40/40 [00:02<00:00, 18.60it/s]\n",
      "Test EMNIST: 100%|███████████████████████████████████████████████████████████████████████████████████████| 405/405 [00:02<00:00, 177.61it/s]\n"
     ]
    },
    {
     "name": "stdout",
     "output_type": "stream",
     "text": [
      "Epoch 93/100\n"
     ]
    },
    {
     "name": "stderr",
     "output_type": "stream",
     "text": [
      "Training: 100%|███████████████████████████████████████████████████████████████████████████████████████████| 235/235 [00:31<00:00,  7.39it/s]\n",
      "Test MNIST: 100%|███████████████████████████████████████████████████████████████████████████████████████████| 40/40 [00:02<00:00, 18.71it/s]\n",
      "Test EMNIST: 100%|███████████████████████████████████████████████████████████████████████████████████████| 405/405 [00:02<00:00, 178.79it/s]\n"
     ]
    },
    {
     "name": "stdout",
     "output_type": "stream",
     "text": [
      "Epoch 94/100\n"
     ]
    },
    {
     "name": "stderr",
     "output_type": "stream",
     "text": [
      "Training: 100%|███████████████████████████████████████████████████████████████████████████████████████████| 235/235 [00:32<00:00,  7.33it/s]\n",
      "Test MNIST: 100%|███████████████████████████████████████████████████████████████████████████████████████████| 40/40 [00:02<00:00, 18.76it/s]\n",
      "Test EMNIST: 100%|███████████████████████████████████████████████████████████████████████████████████████| 405/405 [00:02<00:00, 179.54it/s]\n"
     ]
    },
    {
     "name": "stdout",
     "output_type": "stream",
     "text": [
      "Epoch 95/100\n"
     ]
    },
    {
     "name": "stderr",
     "output_type": "stream",
     "text": [
      "Training: 100%|███████████████████████████████████████████████████████████████████████████████████████████| 235/235 [00:32<00:00,  7.30it/s]\n",
      "Test MNIST: 100%|███████████████████████████████████████████████████████████████████████████████████████████| 40/40 [00:02<00:00, 18.98it/s]\n",
      "Test EMNIST: 100%|███████████████████████████████████████████████████████████████████████████████████████| 405/405 [00:02<00:00, 179.76it/s]\n"
     ]
    },
    {
     "name": "stdout",
     "output_type": "stream",
     "text": [
      "Epoch 96/100\n"
     ]
    },
    {
     "name": "stderr",
     "output_type": "stream",
     "text": [
      "Training: 100%|███████████████████████████████████████████████████████████████████████████████████████████| 235/235 [00:32<00:00,  7.31it/s]\n",
      "Test MNIST: 100%|███████████████████████████████████████████████████████████████████████████████████████████| 40/40 [00:02<00:00, 18.55it/s]\n",
      "Test EMNIST: 100%|███████████████████████████████████████████████████████████████████████████████████████| 405/405 [00:02<00:00, 175.82it/s]\n"
     ]
    },
    {
     "name": "stdout",
     "output_type": "stream",
     "text": [
      "Epoch 97/100\n"
     ]
    },
    {
     "name": "stderr",
     "output_type": "stream",
     "text": [
      "Training: 100%|███████████████████████████████████████████████████████████████████████████████████████████| 235/235 [00:32<00:00,  7.31it/s]\n",
      "Test MNIST: 100%|███████████████████████████████████████████████████████████████████████████████████████████| 40/40 [00:02<00:00, 17.97it/s]\n",
      "Test EMNIST: 100%|███████████████████████████████████████████████████████████████████████████████████████| 405/405 [00:02<00:00, 166.02it/s]\n"
     ]
    },
    {
     "name": "stdout",
     "output_type": "stream",
     "text": [
      "Epoch 98/100\n"
     ]
    },
    {
     "name": "stderr",
     "output_type": "stream",
     "text": [
      "Training: 100%|███████████████████████████████████████████████████████████████████████████████████████████| 235/235 [00:32<00:00,  7.26it/s]\n",
      "Test MNIST: 100%|███████████████████████████████████████████████████████████████████████████████████████████| 40/40 [00:02<00:00, 18.74it/s]\n",
      "Test EMNIST: 100%|███████████████████████████████████████████████████████████████████████████████████████| 405/405 [00:02<00:00, 179.31it/s]\n"
     ]
    },
    {
     "name": "stdout",
     "output_type": "stream",
     "text": [
      "Epoch 99/100\n"
     ]
    }
   ],
   "source": [
    "for epoch in range(niter):\n",
    "\n",
    "    netG.train()\n",
    "    netD.train()\n",
    "    report_loss_G = 0\n",
    "    report_loss_D = 0\n",
    "    local_count = 0\n",
    "    for i, data in enumerate(tqdm(train_loader, desc='Training')):\n",
    "        ############################\n",
    "        # (1) Update D network: maximize log(D(x)) + log(1 - D(G(z)))\n",
    "        ###########################\n",
    "        # train with real\n",
    "        netD.zero_grad()\n",
    "        real_cpu = data[0].to(device)\n",
    "        batch_size = real_cpu.size(0)\n",
    "        label = torch.full((batch_size,), real_label, device=device)\n",
    "\n",
    "        output = netD(real_cpu)\n",
    "        errD_real = criterionD(output, label)\n",
    "        errD_real.backward()\n",
    "        D_x = output.mean().item()\n",
    "\n",
    "        # train with fake\n",
    "        noise = torch.randn(batch_size, nz, 1, 1, device=device)\n",
    "        fake = netG(noise)\n",
    "        label.fill_(fake_label)\n",
    "        output = netD(fake.detach())\n",
    "        errD_fake = criterionD(output, label)\n",
    "        errD_fake.backward()\n",
    "        D_G_z1 = output.mean().item()\n",
    "        errD = errD_real + errD_fake\n",
    "        #torch.nn.utils.clip_grad_norm_(netD.parameters(), 1)\n",
    "        optimizerD.step()\n",
    "        ############################\n",
    "        # (2) Update G network: maximize log(D(G(z)))\n",
    "        ###########################\n",
    "        netG.zero_grad()\n",
    "        output = netD(fake)\n",
    "        errG = criterionG(output, epoch)\n",
    "        errG.backward()\n",
    "        D_G_z2 = output.mean().item()\n",
    "        #torch.nn.utils.clip_grad_norm_(netG.parameters(), 1)\n",
    "        optimizerG.step()\n",
    "\n",
    "        local_count += 1\n",
    "        report_loss_G += errG.item()\n",
    "        report_loss_D += errD.item()\n",
    "        \n",
    "        \n",
    "    netG.eval()\n",
    "    netD.eval()\n",
    "\n",
    "    losses = {}\n",
    "    losses['Loss D'] = report_loss_D / local_count\n",
    "    losses['Loss G'] = report_loss_G / local_count\n",
    "    writer.add_scalars('Loss', losses, epoch)\n",
    "    fake = netG(fixed_noise)\n",
    "    writer.add_images('Generated images', fake.detach(), epoch)\n",
    "    mnist_distr, auc = get_test_arate_distr(netD)\n",
    "    mnist_distr_q = {}\n",
    "    mnist_distr_q[\"q20\"] = np.quantile(mnist_distr, 0.2)\n",
    "    mnist_distr_q[\"q80\"] = np.quantile(mnist_distr, 0.8)\n",
    "    writer.add_scalars(\"MNIST test  firings\", mnist_distr_q, epoch)\n",
    "    writer.add_scalar(\"AUC\", auc, epoch)\n",
    "    print(f\"Epoch {epoch}/{niter}\")\n",
    "\n",
    "    \n",
    "num_gpu = 1 if torch.cuda.is_available() else 0"
   ]
  },
  {
   "cell_type": "markdown",
   "metadata": {},
   "source": [
    "## Валидация"
   ]
  },
  {
   "cell_type": "code",
   "execution_count": 25,
   "metadata": {},
   "outputs": [
    {
     "data": {
      "image/png": "[encoded data removed]",
      "text/plain": [
       "<Figure size 640x480 with 36 Axes>"
      ]
     },
     "metadata": {},
     "output_type": "display_data"
    }
   ],
   "source": [
    "D = netD\n",
    "G = netG\n",
    "D.eval()\n",
    "G.eval()\n",
    "\n",
    "batch_size = 36\n",
    "latent_size = 100\n",
    "\n",
    "fixed_noise = torch.randn(batch_size, latent_size, 1, 1)\n",
    "if torch.cuda.is_available():\n",
    "    fixed_noise = fixed_noise.cuda()\n",
    "fake_images = G(fixed_noise)\n",
    "\n",
    "fake_images_np = fake_images.cpu().detach().numpy()\n",
    "fake_images_np = fake_images_np.reshape(fake_images_np.shape[0], 28, 28)\n",
    "R, C = 6, 6\n",
    "for i in range(batch_size):\n",
    "    plt.subplot(R, C, i + 1)\n",
    "    plt.imshow(fake_images_np[i], cmap='gray')\n",
    "plt.show()"
   ]
  },
  {
   "cell_type": "code",
   "execution_count": 26,
   "metadata": {},
   "outputs": [
    {
     "name": "stderr",
     "output_type": "stream",
     "text": [
      "Encoding: 100%|█████████████████████████████████████████████████████████████████████████████████████████████| 40/40 [00:02<00:00, 19.01it/s]\n"
     ]
    },
    {
     "data": {
      "image/png": "[encoded data removed]",
      "text/plain": [
       "<Figure size 1000x500 with 1 Axes>"
      ]
     },
     "metadata": {},
     "output_type": "display_data"
    }
   ],
   "source": [
    "y_all = []\n",
    "firing_levels = []\n",
    "with torch.no_grad():\n",
    "    for data, target in tqdm(test_loader, desc='Encoding'):\n",
    "        data = data.view((-1,1,28,28)).to(device)\n",
    "        rates = D.arate(data)\n",
    "        #output = D.main(data)\n",
    "        #r = D.real(output)\n",
    "        #rates = 1 - r.sum(dim = 1)\n",
    "\n",
    "        y_all.append(np.argmax(target.cpu().numpy(), axis=1))\n",
    "        firing_levels.append(rates.cpu().numpy())\n",
    "        \n",
    "y_all = np.concatenate(y_all, axis=0)\n",
    "firing_levels = np.concatenate(firing_levels, axis=0)\n",
    "fig = plt.figure(figsize =(10, 5))\n",
    "plt.boxplot(firing_levels, notch=True, showfliers=True)\n",
    "plt.show()"
   ]
  },
  {
   "cell_type": "code",
   "execution_count": 27,
   "metadata": {},
   "outputs": [
    {
     "name": "stderr",
     "output_type": "stream",
     "text": [
      "Encoding: 100%|██████████████████████████████████████████████████████████████████████████████████████████| 405/405 [00:02<00:00, 167.19it/s]\n"
     ]
    }
   ],
   "source": [
    "firings_emnist = {}\n",
    "for m in emnist_mapping:\n",
    "    firings_emnist[emnist_mapping[m]] = []\n",
    "\n",
    "with torch.no_grad():\n",
    "    for data, labels in tqdm(emnist_loader, desc='Encoding'):\n",
    "        data = data.view((-1, 1, 28, 28)).to(device) \n",
    "        arate = D.arate(data)\n",
    "        #output = D.main(data)\n",
    "        #r = D.real(output)\n",
    "        #arate = 1 - r.sum(dim = 1)\n",
    "        \n",
    "        for label, flabel in zip(labels, arate.cpu().numpy()):\n",
    "            firings_emnist[emnist_mapping[label.item()]].append(flabel)"
   ]
  },
  {
   "cell_type": "code",
   "execution_count": 28,
   "metadata": {},
   "outputs": [
    {
     "data": {
      "image/png": "[encoded data removed]",
      "text/plain": [
       "<Figure size 3300x500 with 1 Axes>"
      ]
     },
     "metadata": {},
     "output_type": "display_data"
    }
   ],
   "source": [
    "labels, data = firings_emnist.keys(), firings_emnist.values()\n",
    "fig = plt.figure(figsize =(33, 5))\n",
    "plt.boxplot(data, notch=True, showfliers=False)\n",
    "plt.xticks(range(1, len(labels) + 1), labels)\n",
    "plt.show()"
   ]
  },
  {
   "cell_type": "code",
   "execution_count": 29,
   "metadata": {},
   "outputs": [
    {
     "data": {
      "image/png": "[encoded data removed]",
      "text/plain": [
       "<Figure size 1200x200 with 1 Axes>"
      ]
     },
     "metadata": {},
     "output_type": "display_data"
    }
   ],
   "source": [
    "firings_mnist = {}\n",
    "firings_mnist['MNIST'] = firing_levels\n",
    "firings = {**firings_mnist, **firings_emnist} \n",
    "labels, data = firings.keys(), firings.values()\n",
    "\n",
    "fig = plt.figure(figsize =(12, 2))\n",
    "#plt.ylim(ymin=0)\n",
    "plt.boxplot(data, notch=True, showfliers=False)\n",
    "plt.xticks(range(1, len(labels) + 1), labels)\n",
    "plt.show()\n",
    "\n",
    "writer.add_figure('Anomaly Detection', fig)"
   ]
  },
  {
   "cell_type": "code",
   "execution_count": 30,
   "metadata": {},
   "outputs": [
    {
     "data": {
      "image/png": "[encoded data removed]",
      "text/plain": [
       "<Figure size 400x400 with 1 Axes>"
      ]
     },
     "metadata": {},
     "output_type": "display_data"
    }
   ],
   "source": [
    "lab_true = []\n",
    "lab_pred = []\n",
    "for k,v in firings_mnist.items():\n",
    "    for p in v:\n",
    "        lab_true.append(1)\n",
    "        lab_pred.append(p)\n",
    "for k,v in firings_emnist.items():\n",
    "    if k == 'Oo':\n",
    "        continue\n",
    "    for p in v:\n",
    "        lab_true.append(0)\n",
    "        lab_pred.append(p)\n",
    "\n",
    "fpr, tpr, threshold = metrics.roc_curve(lab_true, lab_pred)\n",
    "roc_auc = metrics.auc(fpr, tpr)\n",
    "\n",
    "fig = plt.figure(figsize =(4, 4))\n",
    "plt.title('Receiver Operating Characteristic')\n",
    "plt.plot(fpr, tpr, 'b', label = 'AUC = %0.2f' % roc_auc)\n",
    "plt.legend(loc = 'lower right')\n",
    "plt.plot([0, 1], [0, 1],'r--')\n",
    "plt.xlim([0, 1])\n",
    "plt.ylim([0, 1])\n",
    "plt.ylabel('True Positive Rate')\n",
    "plt.xlabel('False Positive Rate')\n",
    "plt.show()\n",
    "writer.add_figure('ROC', fig)"
   ]
  },
  {
   "cell_type": "code",
   "execution_count": null,
   "metadata": {},
   "outputs": [],
   "source": []
  }
 ],
 "metadata": {
  "kernelspec": {
   "display_name": "Python 3 (ipykernel)",
   "language": "python",
   "name": "python3"
  },
  "language_info": {
   "codemirror_mode": {
    "name": "ipython",
    "version": 3
   },
   "file_extension": ".py",
   "mimetype": "text/x-python",
   "name": "python",
   "nbconvert_exporter": "python",
   "pygments_lexer": "ipython3",
   "version": "3.10.12"
  }
 },
 "nbformat": 4,
 "nbformat_minor": 2
}
