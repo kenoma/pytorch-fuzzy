{
 "cells": [
  {
   "cell_type": "markdown",
   "metadata": {},
   "source": [
    "Детектор аномалии на принципе многократной прогонки реконструкции входного образца до сходимости латентного вектора.\n",
    "Критерий аномальности - расстояние от первоначального латентного вектора до сошедшего."
   ]
  },
  {
   "cell_type": "code",
   "execution_count": 156,
   "metadata": {},
   "outputs": [],
   "source": [
    "from dataclasses import dataclass\n",
    "from datetime import datetime\n",
    "\n",
    "import pandas as pd\n",
    "import matplotlib.pyplot as plt\n",
    "import torch\n",
    "import torch.nn as nn\n",
    "import numpy as np \n",
    "import torch.nn.functional as F\n",
    "from torch.utils.tensorboard import SummaryWriter\n",
    "from torchvision import datasets, transforms\n",
    "from tqdm.auto import tqdm\n",
    "from torchfuzzy import FuzzyLayer, DefuzzyLinearLayer, FuzzyBellLayer\n",
    "import piqa\n",
    "import sklearn.metrics as metrics\n",
    "from sklearn.manifold import TSNE\n",
    "from torchvision.transforms import v2\n",
    "from matplotlib.colors import ListedColormap\n"
   ]
  },
  {
   "cell_type": "code",
   "execution_count": 157,
   "metadata": {},
   "outputs": [],
   "source": [
    "batch_size = 256\n",
    "learning_rate = 0.001\n",
    "num_epochs = 50\n",
    "latent_dim = 32\n",
    "\n",
    "mnist_class_anomaly = 4\n",
    "kernels = 8\n",
    "fuzzy_rules_count = 10\n",
    "\n",
    "prefix = f\"fuzzy_fuzzy_svdd\"\n",
    "writer = SummaryWriter(f'runs/mnist/{prefix}_{datetime.now().strftime(\"%Y%m%d-%H%M%S\")}')\n",
    "device = torch.device('cuda' if torch.cuda.is_available() else 'cpu')\n",
    "binary_cmap = ListedColormap(['yellow', 'red'], N=2)"
   ]
  },
  {
   "cell_type": "markdown",
   "metadata": {},
   "source": [
    "## Датасет\n",
    "\n",
    "1. Исключаем класс аномалии `mnist_class_anomaly` из общей выборк\n",
    "2. Убираем метки с остальных классов\n",
    "   "
   ]
  },
  {
   "cell_type": "code",
   "execution_count": 158,
   "metadata": {},
   "outputs": [],
   "source": [
    "def norm_and_transform(x):\n",
    "    nimg = x.view(-1, 28, 28)\n",
    "    nimg = torch.clamp(nimg, 0, 1)\n",
    "    return nimg\n",
    "\n",
    "def clamp(x):\n",
    "    #nimg = 2.0*(x.view(-1, 28, 28) - 0.5)\n",
    "    nimg = torch.clamp(x, 0, 1)\n",
    "    return nimg\n",
    "\n",
    "transform = transforms.Compose([\n",
    "    transforms.ToTensor(), \n",
    "    transforms.Lambda(norm_and_transform)\n",
    "])\n",
    "\n",
    "augmentation = transforms.Compose([\n",
    "    transforms.RandomRotation(15, fill=0), \n",
    "    transforms.RandomAffine(degrees=10, translate=(0.1, 0.1), fill=0), \n",
    "    #transforms.RandomCrop(size=26),\n",
    "    #transforms.Resize(size=(28, 28)),\n",
    "    transforms.Lambda(clamp)\n",
    "])"
   ]
  },
  {
   "cell_type": "code",
   "execution_count": 159,
   "metadata": {},
   "outputs": [
    {
     "data": {
      "text/plain": [
       "54158"
      ]
     },
     "execution_count": 159,
     "metadata": {},
     "output_type": "execute_result"
    }
   ],
   "source": [
    "def get_target_and_mask(target_label):\n",
    "    t = target_label\n",
    "    return t \n",
    "\n",
    "train_data = datasets.MNIST(\n",
    "    '~/.pytorch/MNIST_data/', \n",
    "    download=True, \n",
    "    train=True, \n",
    "    transform = transform,\n",
    "    target_transform = transforms.Lambda(lambda x: get_target_and_mask(x))\n",
    ")\n",
    "\n",
    "idx = (train_data.targets != mnist_class_anomaly)\n",
    "train_data.targets = train_data.targets[idx]\n",
    "train_data.data = train_data.data[idx]\n",
    "len(train_data)"
   ]
  },
  {
   "cell_type": "markdown",
   "metadata": {},
   "source": [
    "загружаем тестовую выборку"
   ]
  },
  {
   "cell_type": "code",
   "execution_count": 160,
   "metadata": {},
   "outputs": [
    {
     "data": {
      "text/plain": [
       "10000"
      ]
     },
     "execution_count": 160,
     "metadata": {},
     "output_type": "execute_result"
    }
   ],
   "source": [
    "test_data = datasets.MNIST(\n",
    "    '~/.pytorch/MNIST_data/', \n",
    "    download=True, \n",
    "    train=False, \n",
    "    transform=transform, \n",
    "    target_transform = transforms.Lambda(lambda x: get_target_and_mask(x))\n",
    ")\n",
    "len(test_data)"
   ]
  },
  {
   "cell_type": "markdown",
   "metadata": {},
   "source": [
    "Создаем итераторы датасетов"
   ]
  },
  {
   "cell_type": "code",
   "execution_count": 161,
   "metadata": {},
   "outputs": [],
   "source": [
    "\n",
    "train_loader = torch.utils.data.DataLoader(\n",
    "    train_data, \n",
    "    batch_size=batch_size, \n",
    "    shuffle=True,\n",
    "    \n",
    ")\n",
    "test_loader = torch.utils.data.DataLoader(\n",
    "    test_data, \n",
    "    batch_size=batch_size, \n",
    "    shuffle=False,\n",
    ")"
   ]
  },
  {
   "cell_type": "code",
   "execution_count": 162,
   "metadata": {},
   "outputs": [
    {
     "data": {
      "image/png": "[encoded data removed]",
      "text/plain": [
       "<Figure size 640x480 with 2 Axes>"
      ]
     },
     "metadata": {},
     "output_type": "display_data"
    }
   ],
   "source": [
    "for data,_ in iter(train_loader):\n",
    "    R, C = 1, 2\n",
    "    plt.subplot(R, C, 1)\n",
    "    plt.imshow(data[0].squeeze())\n",
    "    plt.subplot(R, C, 2)\n",
    "    plt.imshow(augmentation(data)[0].squeeze())\n",
    "    \n",
    "    break"
   ]
  },
  {
   "cell_type": "markdown",
   "metadata": {},
   "source": [
    "## Модель"
   ]
  },
  {
   "cell_type": "code",
   "execution_count": 163,
   "metadata": {},
   "outputs": [
    {
     "data": {
      "text/plain": [
       "torch.Size([10, 32])"
      ]
     },
     "execution_count": 163,
     "metadata": {},
     "output_type": "execute_result"
    }
   ],
   "source": [
    "class SVDD(nn.Module):\n",
    "    \"\"\"\n",
    "    Компонент энкодера для VAE\n",
    "    \n",
    "    Args:\n",
    "        latent_dim (int): Размер латентного вектора.\n",
    "    \"\"\"\n",
    "    \n",
    "    def __init__(self, latent_dim, kernels, fuzzy_rules_count):\n",
    "        super(SVDD, self).__init__()\n",
    "                \n",
    "        self.latent = nn.Sequential(\n",
    "            nn.Conv2d(1, kernels, kernel_size=5, padding=2, bias=False), \n",
    "            nn.BatchNorm2d(kernels, eps=1e-04, affine=False), \n",
    "            nn.LeakyReLU(),\n",
    "            nn.MaxPool2d(2, 2),\n",
    "            nn.Conv2d(kernels, kernels // 2, kernel_size=5, padding=2, bias=False), \n",
    "            nn.BatchNorm2d(kernels // 2, eps=1e-04, affine=False), \n",
    "            nn.LeakyReLU(),\n",
    "            nn.MaxPool2d(2, 2),\n",
    "            nn.Flatten(),\n",
    "            nn.Linear(kernels*7*7//2, latent_dim, bias=False)\n",
    "        )\n",
    "\n",
    "        rscale = 1\n",
    "        initial_centroids = 2 * rscale * (0.5- np.random.random((fuzzy_rules_count, latent_dim)))\n",
    "        initial_scales = rscale * np.ones((fuzzy_rules_count, latent_dim))\n",
    "        self.fuzzy = nn.Sequential(\n",
    "            FuzzyLayer.from_centers_and_scales(initial_centroids, initial_scales, trainable=True)\n",
    "        )\n",
    "        self.c = nn.Parameter(torch.rand(latent_dim), requires_grad = False)\n",
    "        \n",
    "\n",
    "         \n",
    "    def forward(self, x):\n",
    "        out = self.latent(x)\n",
    "        fz = self.fuzzy(out)\n",
    "        return out, (1-fz.max(-1).values)#(self.c-out).square().sum(-1)\n",
    "\n",
    "inp = torch.rand(10, 1, 28, 28)\n",
    "m = SVDD(latent_dim= latent_dim, kernels=8, fuzzy_rules_count=fuzzy_rules_count)\n",
    "mu, fz = m.forward(inp)\n",
    "mu.shape"
   ]
  },
  {
   "cell_type": "code",
   "execution_count": 164,
   "metadata": {},
   "outputs": [
    {
     "data": {
      "text/plain": [
       "torch.Size([10, 1, 28, 28])"
      ]
     },
     "execution_count": 164,
     "metadata": {},
     "output_type": "execute_result"
    }
   ],
   "source": [
    "class Decoder(nn.Module):\n",
    "    \n",
    "    def __init__(self, latent_dim, kernels, fuzzy_rules_count):\n",
    "        super(Decoder, self).__init__()\n",
    "                \n",
    "        self.decoder = nn.Sequential(\n",
    "            nn.Linear(latent_dim, (kernels//2) *7 *7),\n",
    "            nn.Unflatten(1, (kernels//2, 7, 7)),\n",
    "            nn.LeakyReLU(),\n",
    "            nn.Upsample(scale_factor=2),\n",
    "            nn.ConvTranspose2d(kernels//2, 4, 5, bias=False, padding=5),\n",
    "            nn.BatchNorm2d(4, eps=1e-04, affine=False),\n",
    "            nn.LeakyReLU(),\n",
    "            nn.Upsample(scale_factor=2),\n",
    "            nn.ConvTranspose2d(4, 8, 5, bias=False, padding=3),\n",
    "            nn.BatchNorm2d(8, eps=1e-04, affine=False),\n",
    "            nn.LeakyReLU(),\n",
    "            nn.Upsample(scale_factor=2),\n",
    "            nn.ConvTranspose2d(8, 1, 5, bias=False, padding=2),\n",
    "            nn.Sigmoid()\n",
    "        )\n",
    "\n",
    "\n",
    "         \n",
    "    def forward(self, x):\n",
    "        out = self.decoder(x)\n",
    "        return out\n",
    "\n",
    "inp = torch.rand(10, latent_dim)\n",
    "m = Decoder(latent_dim= latent_dim, kernels=8, fuzzy_rules_count=fuzzy_rules_count)\n",
    "mu = m.forward(inp)\n",
    "mu.shape"
   ]
  },
  {
   "cell_type": "code",
   "execution_count": 165,
   "metadata": {},
   "outputs": [
    {
     "data": {
      "text/plain": [
       "torch.Size([10, 32])"
      ]
     },
     "execution_count": 165,
     "metadata": {},
     "output_type": "execute_result"
    }
   ],
   "source": [
    "class ModelSVDDAE(nn.Module):\n",
    "    \n",
    "    def __init__(self, latent_dim, kernels, fuzzy_rules_count):\n",
    "        super(ModelSVDDAE, self).__init__()                \n",
    "        self.ad = SVDD(latent_dim= latent_dim, kernels=kernels, fuzzy_rules_count=fuzzy_rules_count)\n",
    "        self.decoder = Decoder(latent_dim= latent_dim, kernels=kernels, fuzzy_rules_count=fuzzy_rules_count)\n",
    "\n",
    "    def forward(self, x):\n",
    "        mu, d = self.ad(x)\n",
    "        x_rec = self.decoder(mu)\n",
    "        return mu, d, x_rec\n",
    "    \n",
    "    def half_pass(self, x):\n",
    "        mu, d = self.ad(x)\n",
    "        return mu, d\n",
    "\n",
    "inp = torch.rand(10, 1, 28, 28)\n",
    "m = ModelSVDDAE(latent_dim= latent_dim, kernels=8, fuzzy_rules_count=fuzzy_rules_count)\n",
    "mu,_,_ = m.forward(inp)\n",
    "mu.shape"
   ]
  },
  {
   "cell_type": "markdown",
   "metadata": {},
   "source": [
    "## Обучение"
   ]
  },
  {
   "cell_type": "code",
   "execution_count": 166,
   "metadata": {},
   "outputs": [
    {
     "name": "stdout",
     "output_type": "stream",
     "text": [
      "Number of parameters: 20,740\n"
     ]
    },
    {
     "data": {
      "text/plain": [
       "ModelSVDDAE(\n",
       "  (ad): SVDD(\n",
       "    (latent): Sequential(\n",
       "      (0): Conv2d(1, 8, kernel_size=(5, 5), stride=(1, 1), padding=(2, 2), bias=False)\n",
       "      (1): BatchNorm2d(8, eps=0.0001, momentum=0.1, affine=False, track_running_stats=True)\n",
       "      (2): LeakyReLU(negative_slope=0.01)\n",
       "      (3): MaxPool2d(kernel_size=2, stride=2, padding=0, dilation=1, ceil_mode=False)\n",
       "      (4): Conv2d(8, 4, kernel_size=(5, 5), stride=(1, 1), padding=(2, 2), bias=False)\n",
       "      (5): BatchNorm2d(4, eps=0.0001, momentum=0.1, affine=False, track_running_stats=True)\n",
       "      (6): LeakyReLU(negative_slope=0.01)\n",
       "      (7): MaxPool2d(kernel_size=2, stride=2, padding=0, dilation=1, ceil_mode=False)\n",
       "      (8): Flatten(start_dim=1, end_dim=-1)\n",
       "      (9): Linear(in_features=196, out_features=32, bias=False)\n",
       "    )\n",
       "    (fuzzy): Sequential(\n",
       "      (0): FuzzyLayer(\n",
       "        (rots): ParameterList(\n",
       "            (0): Parameter containing: [torch.float32 of size 10x31 (cuda:0)]\n",
       "            (1): Parameter containing: [torch.float32 of size 10x30 (cuda:0)]\n",
       "            (2): Parameter containing: [torch.float32 of size 10x29 (cuda:0)]\n",
       "            (3): Parameter containing: [torch.float32 of size 10x28 (cuda:0)]\n",
       "            (4): Parameter containing: [torch.float32 of size 10x27 (cuda:0)]\n",
       "            (5): Parameter containing: [torch.float32 of size 10x26 (cuda:0)]\n",
       "            (6): Parameter containing: [torch.float32 of size 10x25 (cuda:0)]\n",
       "            (7): Parameter containing: [torch.float32 of size 10x24 (cuda:0)]\n",
       "            (8): Parameter containing: [torch.float32 of size 10x23 (cuda:0)]\n",
       "            (9): Parameter containing: [torch.float32 of size 10x22 (cuda:0)]\n",
       "            (10): Parameter containing: [torch.float32 of size 10x21 (cuda:0)]\n",
       "            (11): Parameter containing: [torch.float32 of size 10x20 (cuda:0)]\n",
       "            (12): Parameter containing: [torch.float32 of size 10x19 (cuda:0)]\n",
       "            (13): Parameter containing: [torch.float32 of size 10x18 (cuda:0)]\n",
       "            (14): Parameter containing: [torch.float32 of size 10x17 (cuda:0)]\n",
       "            (15): Parameter containing: [torch.float32 of size 10x16 (cuda:0)]\n",
       "            (16): Parameter containing: [torch.float32 of size 10x15 (cuda:0)]\n",
       "            (17): Parameter containing: [torch.float32 of size 10x14 (cuda:0)]\n",
       "            (18): Parameter containing: [torch.float32 of size 10x13 (cuda:0)]\n",
       "            (19): Parameter containing: [torch.float32 of size 10x12 (cuda:0)]\n",
       "            (20): Parameter containing: [torch.float32 of size 10x11 (cuda:0)]\n",
       "            (21): Parameter containing: [torch.float32 of size 10x10 (cuda:0)]\n",
       "            (22): Parameter containing: [torch.float32 of size 10x9 (cuda:0)]\n",
       "            (23): Parameter containing: [torch.float32 of size 10x8 (cuda:0)]\n",
       "            (24): Parameter containing: [torch.float32 of size 10x7 (cuda:0)]\n",
       "            (25): Parameter containing: [torch.float32 of size 10x6 (cuda:0)]\n",
       "            (26): Parameter containing: [torch.float32 of size 10x5 (cuda:0)]\n",
       "            (27): Parameter containing: [torch.float32 of size 10x4 (cuda:0)]\n",
       "            (28): Parameter containing: [torch.float32 of size 10x3 (cuda:0)]\n",
       "            (29): Parameter containing: [torch.float32 of size 10x2 (cuda:0)]\n",
       "            (30): Parameter containing: [torch.float32 of size 10x1 (cuda:0)]\n",
       "        )\n",
       "      )\n",
       "    )\n",
       "  )\n",
       "  (decoder): Decoder(\n",
       "    (decoder): Sequential(\n",
       "      (0): Linear(in_features=32, out_features=196, bias=True)\n",
       "      (1): Unflatten(dim=1, unflattened_size=(4, 7, 7))\n",
       "      (2): LeakyReLU(negative_slope=0.01)\n",
       "      (3): Upsample(scale_factor=2.0, mode='nearest')\n",
       "      (4): ConvTranspose2d(4, 4, kernel_size=(5, 5), stride=(1, 1), padding=(5, 5), bias=False)\n",
       "      (5): BatchNorm2d(4, eps=0.0001, momentum=0.1, affine=False, track_running_stats=True)\n",
       "      (6): LeakyReLU(negative_slope=0.01)\n",
       "      (7): Upsample(scale_factor=2.0, mode='nearest')\n",
       "      (8): ConvTranspose2d(4, 8, kernel_size=(5, 5), stride=(1, 1), padding=(3, 3), bias=False)\n",
       "      (9): BatchNorm2d(8, eps=0.0001, momentum=0.1, affine=False, track_running_stats=True)\n",
       "      (10): LeakyReLU(negative_slope=0.01)\n",
       "      (11): Upsample(scale_factor=2.0, mode='nearest')\n",
       "      (12): ConvTranspose2d(8, 1, kernel_size=(5, 5), stride=(1, 1), padding=(2, 2), bias=False)\n",
       "      (13): Sigmoid()\n",
       "    )\n",
       "  )\n",
       ")"
      ]
     },
     "execution_count": 166,
     "metadata": {},
     "output_type": "execute_result"
    }
   ],
   "source": [
    "model = ModelSVDDAE(latent_dim=latent_dim, fuzzy_rules_count=fuzzy_rules_count, kernels=kernels).to(device)\n",
    "\n",
    "num_params = sum(p.numel() for p in model.parameters() if p.requires_grad)\n",
    "print(f'Number of parameters: {num_params:,}')\n",
    "\n",
    "model"
   ]
  },
  {
   "cell_type": "code",
   "execution_count": 167,
   "metadata": {},
   "outputs": [],
   "source": [
    "def get_arate(inp):\n",
    "    _, d = model.half_pass(inp)\n",
    "    return d.cpu().numpy()"
   ]
  },
  {
   "cell_type": "code",
   "execution_count": 168,
   "metadata": {},
   "outputs": [
    {
     "data": {
      "text/plain": [
       "tensor([-0.1000,  0.1034,  0.1009, -0.1000,  0.1000,  0.1000,  0.1000,  0.1000,\n",
       "        -0.1000, -0.1000,  0.1000,  0.1000, -0.1000,  0.1000, -0.1000,  0.1000,\n",
       "        -0.1000,  0.1000, -0.1000,  0.1000, -0.1000,  0.1000,  0.1000, -0.1000,\n",
       "         0.1000, -0.1000, -0.1000,  0.1000, -0.1000,  0.1000,  0.1000,  0.1000],\n",
       "       device='cuda:0')"
      ]
     },
     "execution_count": 168,
     "metadata": {},
     "output_type": "execute_result"
    }
   ],
   "source": [
    "def init_center_c(data_loader, net, eps=0.1):\n",
    "        \"\"\"Initialize hypersphere center c as the mean from an initial forward pass on the data.\"\"\"\n",
    "        n_samples = 0\n",
    "        c = torch.zeros(latent_dim).to(device)\n",
    "\n",
    "        net.eval()\n",
    "        with torch.no_grad():\n",
    "            for batch_idx, (inputs, _) in enumerate(tqdm(data_loader, disable=True)):\n",
    "                inputs = inputs.to(device)\n",
    "                mu, _ = net.half_pass(inputs)\n",
    "                n_samples += mu.shape[0]\n",
    "                c += torch.sum(mu, dim=0)\n",
    "\n",
    "        c /= n_samples\n",
    "\n",
    "        c[(abs(c) < eps) & (c < 0)] = -eps\n",
    "        c[(abs(c) < eps) & (c > 0)] = eps\n",
    "\n",
    "        return c\n",
    "\n",
    "init_center_c(train_loader, model)"
   ]
  },
  {
   "cell_type": "code",
   "execution_count": 169,
   "metadata": {},
   "outputs": [],
   "source": [
    "def get_lr(optimizer):\n",
    "    for param_group in optimizer.param_groups:\n",
    "        return param_group['lr']\n",
    "    \n",
    "def train_ad(model, dataloader, optimizer, sched, prev_updates, epoch, writer=None):\n",
    "    model.train()  \n",
    "    for batch_idx, (data, _) in enumerate(tqdm(dataloader, disable=True)):\n",
    "        n_upd = prev_updates + batch_idx\n",
    "        \n",
    "        data = data.to(device)\n",
    "        #adata = augmentation(data)\n",
    "        \n",
    "        optimizer.zero_grad()  \n",
    "\n",
    "        x, d = model.half_pass(data)  \n",
    "        \n",
    "        loss = d.mean()\n",
    "    \n",
    "        loss.backward()\n",
    "        \n",
    "        torch.nn.utils.clip_grad_norm_(model.parameters(), 0.12)    \n",
    "        optimizer.step()  \n",
    "        \n",
    "        if sched is not None:\n",
    "            sched.step()\n",
    "        \n",
    "    if writer is not None:\n",
    "        writer.add_scalar('FSVDD/LR', get_lr(optimizer), global_step=epoch)\n",
    "        writer.add_scalar('FSVDD/Train/Loss/Dist', loss.item(), global_step=prev_updates)\n",
    "\n",
    "    return prev_updates + len(dataloader)\n",
    "\n",
    "def train_ae(model, dataloader, optimizer, sched, prev_updates, epoch, writer=None):\n",
    "    model.train()  \n",
    "    for batch_idx, (data, _) in enumerate(tqdm(dataloader, disable=True)):\n",
    "        n_upd = prev_updates + batch_idx\n",
    "        \n",
    "        data = data.to(device)\n",
    "        \n",
    "        optimizer.zero_grad()  \n",
    "\n",
    "        _, _, x_rec = model.forward(data)  \n",
    "                \n",
    "        loss = (x_rec - data).square().sum(-1).sum(-1).mean()\n",
    "    \n",
    "        loss.backward()\n",
    "        \n",
    "        torch.nn.utils.clip_grad_norm_(model.parameters(), 0.12)    \n",
    "        optimizer.step()  \n",
    "        \n",
    "        if sched is not None:\n",
    "            sched.step()\n",
    "        \n",
    "    if writer is not None:\n",
    "        writer.add_scalar('FSVDD/LR', get_lr(optimizer), global_step=epoch)\n",
    "        writer.add_scalar('FSVDD/Train/Loss/Reconstruction', loss.item(), global_step=prev_updates)\n",
    "        \n",
    "    return prev_updates + len(dataloader)"
   ]
  },
  {
   "cell_type": "code",
   "execution_count": 170,
   "metadata": {},
   "outputs": [],
   "source": [
    "def test(model, dataloader, cur_step, epoch, writer=None):\n",
    "    model.eval() \n",
    "    test_fz_loss = 0\n",
    "    test_rec_loss = 0\n",
    "    \n",
    "    lab_true = []\n",
    "    lab_pred = []\n",
    "    with torch.no_grad():\n",
    "        for data, lab in tqdm(test_loader, desc='Test MNIST', disable=True):\n",
    "            data = data.view((-1,1,28,28)).to(device)\n",
    "            rates = get_arate(data)\n",
    "            \n",
    "            for f, l in  zip(rates, lab):\n",
    "                lab_pred.append(f)        \n",
    "                if l == mnist_class_anomaly:\n",
    "                    lab_true.append(1)\n",
    "                else:\n",
    "                    lab_true.append(0)\n",
    "                        \n",
    "    fpr, tpr, _ = metrics.roc_curve(lab_true, lab_pred)\n",
    "    roc_auc = metrics.auc(fpr, tpr)\n",
    "    \n",
    "    embedings = []\n",
    "    labels_expected = []\n",
    "    \n",
    "    with torch.no_grad():\n",
    "        for data, target in tqdm(dataloader, desc='Testing', disable=True):\n",
    "            data = data.to(device)\n",
    "            \n",
    "            mu, d, x_rec = model.forward(data)  \n",
    "        \n",
    "            embedings.append(mu.cpu().numpy())\n",
    "            labels_expected.append((target == mnist_class_anomaly).cpu().numpy())\n",
    "\n",
    "            test_fz_loss += d.mean().item()\n",
    "            test_rec_loss += (x_rec - data).square().sum(-1).sum(-1).mean().item()\n",
    "\n",
    "    embedings = np.concatenate(embedings, axis=0)\n",
    "    labels_expected = np.concatenate(labels_expected, axis=0)\n",
    "\n",
    "    fig, ax = plt.subplots(1, 2, figsize=(9, 4))\n",
    "    centroid = model.ad.c.detach().cpu().numpy()\n",
    "    ax[0].scatter(embedings[:, 0],  embedings[:,  1], c=labels_expected, cmap=binary_cmap, s=4)\n",
    "    ax[0].scatter(centroid[0],      centroid[1], marker='1', c='green', s= 50)\n",
    "    ax[1].scatter(embedings[:, 0],  embedings[:,  2], c=labels_expected, cmap=binary_cmap, s=4)\n",
    "    ax[1].scatter(centroid[0],      centroid[2], marker='1', c='green', s= 50)\n",
    "    \n",
    "    test_fz_loss /= len(dataloader)\n",
    "    test_rec_loss /= len(dataloader)\n",
    "    \n",
    "    print(f'[{cur_step}] Reconstruction loss: AUC {roc_auc:.4f} Dist {test_fz_loss:.4f} AE {test_rec_loss:4f}')\n",
    "    \n",
    "    if writer is not None:\n",
    "        writer.add_figure('FAD/Emedding', fig, global_step=cur_step)\n",
    "        writer.add_scalar('FSVDD/AUC', roc_auc, global_step=cur_step)\n",
    "        writer.add_scalar('FSVDD/Test/Loss/Dist', test_fz_loss, global_step=cur_step)\n",
    "        writer.add_scalar('FSVDD/Test/Loss/Reconstruction', test_rec_loss, global_step=cur_step)\n",
    "        "
   ]
  },
  {
   "cell_type": "code",
   "execution_count": 171,
   "metadata": {},
   "outputs": [],
   "source": [
    "#model.fuzzy[0].get_transformation_matrix_eigenvals()"
   ]
  },
  {
   "cell_type": "code",
   "execution_count": 172,
   "metadata": {},
   "outputs": [],
   "source": [
    "prev_updates = 0"
   ]
  },
  {
   "cell_type": "code",
   "execution_count": 173,
   "metadata": {},
   "outputs": [],
   "source": [
    "#optimizer = torch.optim.Adam(list(model.encoder.parameters()) + list(model.decoder.parameters()), lr=learning_rate)\n",
    "#optimizer_d = torch.optim.Adam(model.delta_decoder.parameters(), lr=learning_rate)\n",
    "num_epochs = 50\n",
    "optimizer = torch.optim.Adam(model.parameters(), lr=learning_rate)\n",
    "#scheduler = torch.optim.lr_scheduler.OneCycleLR(optimizer, step_size=50, gamma=0.5)\n",
    "sched = torch.optim.lr_scheduler.OneCycleLR(optimizer, learning_rate, epochs=num_epochs, steps_per_epoch=len(train_loader))"
   ]
  },
  {
   "cell_type": "code",
   "execution_count": 174,
   "metadata": {},
   "outputs": [
    {
     "name": "stdout",
     "output_type": "stream",
     "text": [
      "[212] Reconstruction loss: AUC 0.2853 Dist 0.9871 AE 102.941458\n",
      "[424] Reconstruction loss: AUC 0.3156 Dist 0.9948 AE 50.149740\n",
      "[636] Reconstruction loss: AUC 0.3507 Dist 0.9961 AE 27.994536\n",
      "[848] Reconstruction loss: AUC 0.3466 Dist 0.9966 AE 20.462058\n",
      "[1060] Reconstruction loss: AUC 0.3402 Dist 0.9970 AE 16.858229\n",
      "[1272] Reconstruction loss: AUC 0.3479 Dist 0.9974 AE 14.944850\n",
      "[1484] Reconstruction loss: AUC 0.3576 Dist 0.9976 AE 13.455230\n",
      "[1696] Reconstruction loss: AUC 0.3645 Dist 0.9978 AE 12.433063\n",
      "[1908] Reconstruction loss: AUC 0.3644 Dist 0.9977 AE 11.753426\n",
      "[2120] Reconstruction loss: AUC 0.3641 Dist 0.9978 AE 11.264930\n",
      "[2332] Reconstruction loss: AUC 0.3633 Dist 0.9978 AE 10.818006\n",
      "[2544] Reconstruction loss: AUC 0.3694 Dist 0.9979 AE 10.093980\n",
      "[2756] Reconstruction loss: AUC 0.3641 Dist 0.9978 AE 10.101482\n",
      "[2968] Reconstruction loss: AUC 0.3620 Dist 0.9978 AE 9.301263\n",
      "[3180] Reconstruction loss: AUC 0.3647 Dist 0.9978 AE 9.148632\n",
      "[3392] Reconstruction loss: AUC 0.3658 Dist 0.9978 AE 8.946139\n",
      "[3604] Reconstruction loss: AUC 0.3679 Dist 0.9978 AE 8.865305\n",
      "[3816] Reconstruction loss: AUC 0.3749 Dist 0.9978 AE 8.592010\n",
      "[4028] Reconstruction loss: AUC 0.3766 Dist 0.9978 AE 8.269605\n",
      "[4240] Reconstruction loss: AUC 0.3762 Dist 0.9977 AE 8.047320\n",
      "[4452] Reconstruction loss: AUC 0.3839 Dist 0.9975 AE 7.818259\n",
      "[4664] Reconstruction loss: AUC 0.3808 Dist 0.9977 AE 7.845884\n",
      "[4876] Reconstruction loss: AUC 0.3837 Dist 0.9976 AE 7.611577\n",
      "[5088] Reconstruction loss: AUC 0.3910 Dist 0.9975 AE 7.369371\n",
      "[5300] Reconstruction loss: AUC 0.3935 Dist 0.9976 AE 7.220029\n",
      "[5512] Reconstruction loss: AUC 0.3966 Dist 0.9975 AE 7.321157\n",
      "[5724] Reconstruction loss: AUC 0.3942 Dist 0.9973 AE 7.209499\n",
      "[5936] Reconstruction loss: AUC 0.4016 Dist 0.9975 AE 6.768079\n",
      "[6148] Reconstruction loss: AUC 0.4040 Dist 0.9974 AE 6.816757\n",
      "[6360] Reconstruction loss: AUC 0.4028 Dist 0.9974 AE 6.755593\n",
      "[6572] Reconstruction loss: AUC 0.4037 Dist 0.9974 AE 6.594868\n",
      "[6784] Reconstruction loss: AUC 0.4038 Dist 0.9974 AE 6.465669\n",
      "[6996] Reconstruction loss: AUC 0.4054 Dist 0.9973 AE 6.501408\n",
      "[7208] Reconstruction loss: AUC 0.4092 Dist 0.9974 AE 6.419358\n",
      "[7420] Reconstruction loss: AUC 0.4099 Dist 0.9974 AE 6.379190\n",
      "[7632] Reconstruction loss: AUC 0.4123 Dist 0.9973 AE 6.417358\n",
      "[7844] Reconstruction loss: AUC 0.4094 Dist 0.9973 AE 6.312595\n",
      "[8056] Reconstruction loss: AUC 0.4100 Dist 0.9974 AE 6.242916\n",
      "[8268] Reconstruction loss: AUC 0.4107 Dist 0.9973 AE 6.276830\n",
      "[8480] Reconstruction loss: AUC 0.4108 Dist 0.9974 AE 6.191246\n",
      "[8692] Reconstruction loss: AUC 0.4126 Dist 0.9974 AE 6.183943\n",
      "[8904] Reconstruction loss: AUC 0.4081 Dist 0.9974 AE 6.128024\n",
      "[9116] Reconstruction loss: AUC 0.4107 Dist 0.9974 AE 6.142186\n",
      "[9328] Reconstruction loss: AUC 0.4114 Dist 0.9974 AE 6.105160\n",
      "[9540] Reconstruction loss: AUC 0.4104 Dist 0.9974 AE 6.094616\n",
      "[9752] Reconstruction loss: AUC 0.4107 Dist 0.9974 AE 6.076268\n",
      "[9964] Reconstruction loss: AUC 0.4106 Dist 0.9974 AE 6.064467\n",
      "[10176] Reconstruction loss: AUC 0.4098 Dist 0.9974 AE 6.057947\n",
      "[10388] Reconstruction loss: AUC 0.4098 Dist 0.9974 AE 6.053013\n",
      "[10600] Reconstruction loss: AUC 0.4098 Dist 0.9974 AE 6.054395\n"
     ]
    }
   ],
   "source": [
    "for epoch in range(num_epochs):\n",
    "    prev_updates = train_ae(model, train_loader, optimizer, sched, prev_updates, epoch, writer=writer)\n",
    "    test(model, test_loader, prev_updates, epoch, writer=writer)\n",
    "    #scheduler.step()"
   ]
  },
  {
   "cell_type": "code",
   "execution_count": 175,
   "metadata": {},
   "outputs": [
    {
     "data": {
      "text/plain": [
       "Parameter containing:\n",
       "tensor([-0.1000,  2.0131,  2.3018,  0.3000, -0.1124,  0.1842, -0.3076, -0.2715,\n",
       "         0.2775, -1.5451,  1.3606,  1.8876,  0.1000, -0.5996, -1.2722, -0.5050,\n",
       "         0.1596,  0.5640, -0.4143, -0.9693, -2.0439,  1.5290,  0.1767,  0.8349,\n",
       "         0.1602, -0.3646, -1.0024,  0.3407, -0.5879, -0.1633,  0.1000,  0.7280],\n",
       "       device='cuda:0')"
      ]
     },
     "execution_count": 175,
     "metadata": {},
     "output_type": "execute_result"
    }
   ],
   "source": [
    "new_c = init_center_c(train_loader, model)\n",
    "model.ad.c = nn.Parameter(new_c, requires_grad = False)\n",
    "model.ad.c"
   ]
  },
  {
   "cell_type": "code",
   "execution_count": 176,
   "metadata": {},
   "outputs": [],
   "source": [
    "learning_rate = 1e-5\n",
    "num_epochs = 200\n",
    "optimizer = torch.optim.Adam(model.parameters(), lr=learning_rate, weight_decay=1e-6)\n",
    "#scheduler = torch.optim.lr_scheduler.ConstantLR(optimizer)\n",
    "sched = torch.optim.lr_scheduler.OneCycleLR(optimizer, learning_rate, epochs=num_epochs, steps_per_epoch=len(train_loader))"
   ]
  },
  {
   "cell_type": "code",
   "execution_count": null,
   "metadata": {},
   "outputs": [
    {
     "name": "stdout",
     "output_type": "stream",
     "text": [
      "[10812] Reconstruction loss: AUC 0.4082 Dist 0.9973 AE 6.082503\n",
      "[11024] Reconstruction loss: AUC 0.4061 Dist 0.9971 AE 6.198285\n",
      "[11236] Reconstruction loss: AUC 0.4040 Dist 0.9969 AE 6.372281\n",
      "[11448] Reconstruction loss: AUC 0.4018 Dist 0.9967 AE 6.670459\n",
      "[11660] Reconstruction loss: AUC 0.3996 Dist 0.9965 AE 7.154490\n",
      "[11872] Reconstruction loss: AUC 0.3962 Dist 0.9961 AE 7.927808\n",
      "[12084] Reconstruction loss: AUC 0.3925 Dist 0.9957 AE 9.083623\n",
      "[12296] Reconstruction loss: AUC 0.3880 Dist 0.9952 AE 10.594716\n",
      "[12508] Reconstruction loss: AUC 0.3839 Dist 0.9945 AE 12.834935\n",
      "[12720] Reconstruction loss: AUC 0.3789 Dist 0.9935 AE 15.787922\n",
      "[12932] Reconstruction loss: AUC 0.3731 Dist 0.9923 AE 19.701592\n",
      "[13144] Reconstruction loss: AUC 0.3670 Dist 0.9906 AE 24.621229\n",
      "[13356] Reconstruction loss: AUC 0.3603 Dist 0.9882 AE 30.767596\n",
      "[13568] Reconstruction loss: AUC 0.3537 Dist 0.9852 AE 37.390669\n",
      "[13780] Reconstruction loss: AUC 0.3479 Dist 0.9815 AE 43.831297\n",
      "[13992] Reconstruction loss: AUC 0.3427 Dist 0.9768 AE 49.962088\n",
      "[14204] Reconstruction loss: AUC 0.3388 Dist 0.9710 AE 55.733874\n",
      "[14416] Reconstruction loss: AUC 0.3359 Dist 0.9634 AE 61.063609\n",
      "[14628] Reconstruction loss: AUC 0.3348 Dist 0.9541 AE 65.808757\n",
      "[14840] Reconstruction loss: AUC 0.3360 Dist 0.9423 AE 70.155861\n",
      "[15052] Reconstruction loss: AUC 0.3434 Dist 0.9285 AE 73.867073\n",
      "[15264] Reconstruction loss: AUC 0.3541 Dist 0.9108 AE 76.860458\n",
      "[15476] Reconstruction loss: AUC 0.3728 Dist 0.8905 AE 79.153126\n",
      "[15688] Reconstruction loss: AUC 0.3953 Dist 0.8656 AE 80.729979\n",
      "[15900] Reconstruction loss: AUC 0.4270 Dist 0.8397 AE 82.104441\n",
      "[16112] Reconstruction loss: AUC 0.4542 Dist 0.8078 AE 82.957650\n",
      "[16324] Reconstruction loss: AUC 0.4802 Dist 0.7767 AE 83.613699\n",
      "[16536] Reconstruction loss: AUC 0.4994 Dist 0.7413 AE 84.123444\n",
      "[16748] Reconstruction loss: AUC 0.5142 Dist 0.7051 AE 84.509853\n",
      "[16960] Reconstruction loss: AUC 0.5324 Dist 0.6684 AE 84.732207\n",
      "[17172] Reconstruction loss: AUC 0.5480 Dist 0.6302 AE 84.993534\n",
      "[17384] Reconstruction loss: AUC 0.5593 Dist 0.5918 AE 85.194214\n",
      "[17596] Reconstruction loss: AUC 0.5695 Dist 0.5527 AE 85.404185\n",
      "[17808] Reconstruction loss: AUC 0.5786 Dist 0.5163 AE 85.611633\n",
      "[18020] Reconstruction loss: AUC 0.5823 Dist 0.4803 AE 85.823920\n",
      "[18232] Reconstruction loss: AUC 0.5908 Dist 0.4478 AE 85.903400\n",
      "[18444] Reconstruction loss: AUC 0.5953 Dist 0.4174 AE 85.968552\n",
      "[18656] Reconstruction loss: AUC 0.6063 Dist 0.3902 AE 85.982874\n",
      "[18868] Reconstruction loss: AUC 0.6169 Dist 0.3665 AE 85.942124\n",
      "[19080] Reconstruction loss: AUC 0.6277 Dist 0.3456 AE 85.930000\n",
      "[19292] Reconstruction loss: AUC 0.6349 Dist 0.3272 AE 85.850927\n",
      "[19504] Reconstruction loss: AUC 0.6461 Dist 0.3114 AE 85.820562\n",
      "[19716] Reconstruction loss: AUC 0.6528 Dist 0.2952 AE 85.759225\n",
      "[19928] Reconstruction loss: AUC 0.6554 Dist 0.2823 AE 85.757842\n",
      "[20140] Reconstruction loss: AUC 0.6639 Dist 0.2700 AE 85.701624\n",
      "[20352] Reconstruction loss: AUC 0.6712 Dist 0.2586 AE 85.637712\n",
      "[20564] Reconstruction loss: AUC 0.6746 Dist 0.2486 AE 85.596321\n",
      "[20776] Reconstruction loss: AUC 0.6806 Dist 0.2395 AE 85.607252\n",
      "[20988] Reconstruction loss: AUC 0.6803 Dist 0.2308 AE 85.593261\n",
      "[21200] Reconstruction loss: AUC 0.6889 Dist 0.2216 AE 85.451297\n",
      "[21412] Reconstruction loss: AUC 0.6906 Dist 0.2145 AE 85.499070\n",
      "[21624] Reconstruction loss: AUC 0.6932 Dist 0.2069 AE 85.507835\n",
      "[21836] Reconstruction loss: AUC 0.6959 Dist 0.2008 AE 85.499734\n",
      "[22048] Reconstruction loss: AUC 0.7004 Dist 0.1943 AE 85.426435\n",
      "[22260] Reconstruction loss: AUC 0.6963 Dist 0.1888 AE 85.393185\n",
      "[22472] Reconstruction loss: AUC 0.7065 Dist 0.1823 AE 85.406330\n",
      "[22684] Reconstruction loss: AUC 0.7062 Dist 0.1775 AE 85.394288\n",
      "[22896] Reconstruction loss: AUC 0.7065 Dist 0.1727 AE 85.394860\n",
      "[23108] Reconstruction loss: AUC 0.7067 Dist 0.1686 AE 85.372813\n",
      "[23320] Reconstruction loss: AUC 0.7077 Dist 0.1635 AE 85.341109\n",
      "[23532] Reconstruction loss: AUC 0.7088 Dist 0.1600 AE 85.344039\n",
      "[23744] Reconstruction loss: AUC 0.7097 Dist 0.1561 AE 85.310204\n",
      "[23956] Reconstruction loss: AUC 0.7046 Dist 0.1525 AE 85.268489\n",
      "[24168] Reconstruction loss: AUC 0.7122 Dist 0.1486 AE 85.302728\n",
      "[24380] Reconstruction loss: AUC 0.7076 Dist 0.1450 AE 85.265901\n",
      "[24592] Reconstruction loss: AUC 0.7125 Dist 0.1423 AE 85.273435\n",
      "[24804] Reconstruction loss: AUC 0.7104 Dist 0.1388 AE 85.242109\n",
      "[25016] Reconstruction loss: AUC 0.7136 Dist 0.1359 AE 85.239373\n",
      "[25228] Reconstruction loss: AUC 0.7093 Dist 0.1333 AE 85.200700\n",
      "[25440] Reconstruction loss: AUC 0.7076 Dist 0.1305 AE 85.223229\n",
      "[25652] Reconstruction loss: AUC 0.7102 Dist 0.1282 AE 85.215724\n",
      "[25864] Reconstruction loss: AUC 0.7110 Dist 0.1252 AE 85.183921\n",
      "[26076] Reconstruction loss: AUC 0.7069 Dist 0.1232 AE 85.158380\n",
      "[26288] Reconstruction loss: AUC 0.7115 Dist 0.1212 AE 85.180972\n",
      "[26500] Reconstruction loss: AUC 0.7081 Dist 0.1188 AE 85.149910\n",
      "[26712] Reconstruction loss: AUC 0.7034 Dist 0.1162 AE 85.136662\n",
      "[26924] Reconstruction loss: AUC 0.7075 Dist 0.1143 AE 85.135721\n",
      "[27136] Reconstruction loss: AUC 0.7074 Dist 0.1123 AE 85.121552\n",
      "[27348] Reconstruction loss: AUC 0.7042 Dist 0.1104 AE 85.100109\n",
      "[27560] Reconstruction loss: AUC 0.7016 Dist 0.1090 AE 85.076402\n",
      "[27772] Reconstruction loss: AUC 0.7057 Dist 0.1068 AE 85.081030\n",
      "[27984] Reconstruction loss: AUC 0.7047 Dist 0.1055 AE 85.082293\n",
      "[28196] Reconstruction loss: AUC 0.6998 Dist 0.1037 AE 85.059992\n",
      "[28408] Reconstruction loss: AUC 0.7053 Dist 0.1020 AE 85.056461\n",
      "[28620] Reconstruction loss: AUC 0.6948 Dist 0.1012 AE 85.003589\n",
      "[28832] Reconstruction loss: AUC 0.7010 Dist 0.0991 AE 85.019105\n",
      "[29044] Reconstruction loss: AUC 0.7004 Dist 0.0979 AE 85.024445\n",
      "[29256] Reconstruction loss: AUC 0.6995 Dist 0.0963 AE 85.047488\n",
      "[29468] Reconstruction loss: AUC 0.6942 Dist 0.0956 AE 84.994997\n",
      "[29680] Reconstruction loss: AUC 0.7007 Dist 0.0938 AE 85.021240\n",
      "[29892] Reconstruction loss: AUC 0.6914 Dist 0.0930 AE 84.981932\n",
      "[30104] Reconstruction loss: AUC 0.6934 Dist 0.0914 AE 85.014608\n",
      "[30316] Reconstruction loss: AUC 0.6989 Dist 0.0908 AE 85.042267\n",
      "[30528] Reconstruction loss: AUC 0.7000 Dist 0.0892 AE 84.994040\n",
      "[30740] Reconstruction loss: AUC 0.6918 Dist 0.0881 AE 84.959885\n",
      "[30952] Reconstruction loss: AUC 0.6954 Dist 0.0873 AE 84.987296\n",
      "[31164] Reconstruction loss: AUC 0.6952 Dist 0.0859 AE 84.968038\n",
      "[31376] Reconstruction loss: AUC 0.6948 Dist 0.0847 AE 84.962421\n",
      "[31588] Reconstruction loss: AUC 0.6923 Dist 0.0840 AE 84.981427\n",
      "[31800] Reconstruction loss: AUC 0.6931 Dist 0.0826 AE 84.940151\n",
      "[32012] Reconstruction loss: AUC 0.6914 Dist 0.0820 AE 84.973376\n",
      "[32224] Reconstruction loss: AUC 0.6928 Dist 0.0814 AE 84.917159\n",
      "[32436] Reconstruction loss: AUC 0.6883 Dist 0.0807 AE 84.951003\n",
      "[32648] Reconstruction loss: AUC 0.6881 Dist 0.0793 AE 84.946900\n",
      "[32860] Reconstruction loss: AUC 0.6880 Dist 0.0787 AE 84.928629\n",
      "[33072] Reconstruction loss: AUC 0.6841 Dist 0.0778 AE 84.929465\n",
      "[33284] Reconstruction loss: AUC 0.6896 Dist 0.0774 AE 84.928773\n",
      "[33496] Reconstruction loss: AUC 0.6879 Dist 0.0763 AE 84.906321\n",
      "[33708] Reconstruction loss: AUC 0.6916 Dist 0.0758 AE 84.914612\n",
      "[33920] Reconstruction loss: AUC 0.6882 Dist 0.0754 AE 84.875241\n",
      "[34132] Reconstruction loss: AUC 0.6889 Dist 0.0746 AE 84.882797\n",
      "[34344] Reconstruction loss: AUC 0.6866 Dist 0.0740 AE 84.896181\n",
      "[34556] Reconstruction loss: AUC 0.6863 Dist 0.0730 AE 84.894054\n",
      "[34768] Reconstruction loss: AUC 0.6952 Dist 0.0722 AE 84.903033\n",
      "[34980] Reconstruction loss: AUC 0.6922 Dist 0.0715 AE 84.879604\n",
      "[35192] Reconstruction loss: AUC 0.6836 Dist 0.0716 AE 84.903190\n",
      "[35404] Reconstruction loss: AUC 0.6857 Dist 0.0705 AE 84.891184\n",
      "[35616] Reconstruction loss: AUC 0.6882 Dist 0.0700 AE 84.904267\n",
      "[35828] Reconstruction loss: AUC 0.6839 Dist 0.0695 AE 84.882525\n",
      "[36040] Reconstruction loss: AUC 0.6875 Dist 0.0689 AE 84.892080\n",
      "[36252] Reconstruction loss: AUC 0.6845 Dist 0.0685 AE 84.875517\n",
      "[36464] Reconstruction loss: AUC 0.6844 Dist 0.0681 AE 84.856503\n",
      "[36676] Reconstruction loss: AUC 0.6904 Dist 0.0674 AE 84.885180\n",
      "[36888] Reconstruction loss: AUC 0.6841 Dist 0.0670 AE 84.882017\n",
      "[37100] Reconstruction loss: AUC 0.6847 Dist 0.0667 AE 84.871222\n",
      "[37312] Reconstruction loss: AUC 0.6799 Dist 0.0667 AE 84.852821\n",
      "[37524] Reconstruction loss: AUC 0.6779 Dist 0.0660 AE 84.838105\n",
      "[37736] Reconstruction loss: AUC 0.6840 Dist 0.0654 AE 84.841198\n",
      "[37948] Reconstruction loss: AUC 0.6820 Dist 0.0652 AE 84.832330\n",
      "[38160] Reconstruction loss: AUC 0.6799 Dist 0.0648 AE 84.871214\n",
      "[38372] Reconstruction loss: AUC 0.6819 Dist 0.0644 AE 84.843142\n",
      "[38584] Reconstruction loss: AUC 0.6752 Dist 0.0641 AE 84.842379\n",
      "[38796] Reconstruction loss: AUC 0.6820 Dist 0.0635 AE 84.851266\n",
      "[39008] Reconstruction loss: AUC 0.6800 Dist 0.0634 AE 84.832215\n",
      "[39220] Reconstruction loss: AUC 0.6791 Dist 0.0629 AE 84.845397\n",
      "[39432] Reconstruction loss: AUC 0.6791 Dist 0.0627 AE 84.853346\n",
      "[39644] Reconstruction loss: AUC 0.6827 Dist 0.0623 AE 84.856813\n",
      "[39856] Reconstruction loss: AUC 0.6792 Dist 0.0618 AE 84.844431\n",
      "[40068] Reconstruction loss: AUC 0.6730 Dist 0.0617 AE 84.848330\n",
      "[40280] Reconstruction loss: AUC 0.6834 Dist 0.0614 AE 84.844074\n",
      "[40492] Reconstruction loss: AUC 0.6763 Dist 0.0612 AE 84.853603\n",
      "[40704] Reconstruction loss: AUC 0.6774 Dist 0.0607 AE 84.819107\n",
      "[40916] Reconstruction loss: AUC 0.6782 Dist 0.0605 AE 84.836168\n",
      "[41128] Reconstruction loss: AUC 0.6777 Dist 0.0607 AE 84.841345\n",
      "[41340] Reconstruction loss: AUC 0.6766 Dist 0.0600 AE 84.822846\n",
      "[41552] Reconstruction loss: AUC 0.6741 Dist 0.0601 AE 84.845204\n",
      "[41764] Reconstruction loss: AUC 0.6766 Dist 0.0597 AE 84.828235\n",
      "[41976] Reconstruction loss: AUC 0.6723 Dist 0.0596 AE 84.825732\n",
      "[42188] Reconstruction loss: AUC 0.6740 Dist 0.0595 AE 84.845021\n",
      "[42400] Reconstruction loss: AUC 0.6747 Dist 0.0591 AE 84.833027\n",
      "[42612] Reconstruction loss: AUC 0.6756 Dist 0.0588 AE 84.824909\n",
      "[42824] Reconstruction loss: AUC 0.6760 Dist 0.0587 AE 84.837970\n",
      "[43036] Reconstruction loss: AUC 0.6783 Dist 0.0589 AE 84.817034\n",
      "[43248] Reconstruction loss: AUC 0.6710 Dist 0.0584 AE 84.824840\n",
      "[43460] Reconstruction loss: AUC 0.6723 Dist 0.0584 AE 84.798298\n",
      "[43672] Reconstruction loss: AUC 0.6746 Dist 0.0581 AE 84.821141\n",
      "[43884] Reconstruction loss: AUC 0.6726 Dist 0.0582 AE 84.796685\n",
      "[44096] Reconstruction loss: AUC 0.6735 Dist 0.0578 AE 84.814379\n",
      "[44308] Reconstruction loss: AUC 0.6717 Dist 0.0578 AE 84.818790\n",
      "[44520] Reconstruction loss: AUC 0.6737 Dist 0.0575 AE 84.818400\n",
      "[44732] Reconstruction loss: AUC 0.6719 Dist 0.0573 AE 84.814865\n",
      "[44944] Reconstruction loss: AUC 0.6705 Dist 0.0573 AE 84.801899\n",
      "[45156] Reconstruction loss: AUC 0.6728 Dist 0.0573 AE 84.816562\n",
      "[45368] Reconstruction loss: AUC 0.6728 Dist 0.0572 AE 84.814127\n",
      "[45580] Reconstruction loss: AUC 0.6718 Dist 0.0570 AE 84.814487\n",
      "[45792] Reconstruction loss: AUC 0.6699 Dist 0.0571 AE 84.826642\n",
      "[46004] Reconstruction loss: AUC 0.6730 Dist 0.0569 AE 84.807582\n",
      "[46216] Reconstruction loss: AUC 0.6727 Dist 0.0568 AE 84.801134\n",
      "[46428] Reconstruction loss: AUC 0.6733 Dist 0.0568 AE 84.805657\n",
      "[46640] Reconstruction loss: AUC 0.6731 Dist 0.0567 AE 84.809288\n",
      "[46852] Reconstruction loss: AUC 0.6716 Dist 0.0566 AE 84.817406\n",
      "[47064] Reconstruction loss: AUC 0.6677 Dist 0.0566 AE 84.828947\n",
      "[47276] Reconstruction loss: AUC 0.6729 Dist 0.0563 AE 84.803865\n",
      "[47488] Reconstruction loss: AUC 0.6693 Dist 0.0564 AE 84.828979\n",
      "[47700] Reconstruction loss: AUC 0.6729 Dist 0.0563 AE 84.810357\n",
      "[47912] Reconstruction loss: AUC 0.6729 Dist 0.0563 AE 84.806756\n",
      "[48124] Reconstruction loss: AUC 0.6685 Dist 0.0562 AE 84.819730\n",
      "[48336] Reconstruction loss: AUC 0.6710 Dist 0.0559 AE 84.810623\n",
      "[48548] Reconstruction loss: AUC 0.6705 Dist 0.0560 AE 84.813837\n",
      "[48760] Reconstruction loss: AUC 0.6707 Dist 0.0563 AE 84.789530\n",
      "[48972] Reconstruction loss: AUC 0.6716 Dist 0.0561 AE 84.804020\n",
      "[49184] Reconstruction loss: AUC 0.6713 Dist 0.0561 AE 84.818823\n"
     ]
    }
   ],
   "source": [
    "for epoch in range(num_epochs):\n",
    "    prev_updates = train_ad(model, train_loader, optimizer, sched, prev_updates, epoch, writer=writer)\n",
    "    test(model, test_loader, prev_updates, epoch, writer=writer)"
   ]
  },
  {
   "cell_type": "code",
   "execution_count": null,
   "metadata": {},
   "outputs": [],
   "source": [
    "#model.fuzzy[0].get_transformation_matrix_eigenvals()"
   ]
  },
  {
   "cell_type": "code",
   "execution_count": null,
   "metadata": {},
   "outputs": [],
   "source": [
    "#keep_eigenvals_positive_loss(model.fuzzy[0])"
   ]
  },
  {
   "cell_type": "markdown",
   "metadata": {},
   "source": [
    "## Визуализируем результаты"
   ]
  },
  {
   "cell_type": "code",
   "execution_count": null,
   "metadata": {},
   "outputs": [],
   "source": [
    "def get_arate(inp):\n",
    "    mu, fz = model.half_pass(inp)\n",
    "\n",
    "    return fz.cpu().numpy() #(1 - ssim((x_recon + 1)/2, (inp + 1)/2)).cpu().numpy()#xent_continuous_ber((x_recon + 1)/2, (inp + 1)/2).cpu().numpy()# (1 - ssim((x_recon + 1)/2, (inp + 1)/2)).cpu().numpy() #ssim((inp + 1)/2, (recon_x+1)/2).cpu().numpy() #fz.sum(-1).cpu().numpy()#"
   ]
  },
  {
   "cell_type": "code",
   "execution_count": null,
   "metadata": {},
   "outputs": [
    {
     "data": {
      "application/vnd.jupyter.widget-view+json": {
       "model_id": "c77795d941ad4a2a9e90d170db199004",
       "version_major": 2,
       "version_minor": 0
      },
      "text/plain": [
       "MNIST HIST:   0%|          | 0/40 [00:00<?, ?it/s]"
      ]
     },
     "metadata": {},
     "output_type": "display_data"
    },
    {
     "data": {
      "image/png": "[encoded data removed]",
      "text/plain": [
       "<Figure size 1200x200 with 1 Axes>"
      ]
     },
     "metadata": {},
     "output_type": "display_data"
    }
   ],
   "source": [
    "firings_mnist = {}\n",
    "firings_mnist['MNIST'] = []\n",
    "firings_mnist['DISSIDENT'] = []\n",
    "\n",
    "with torch.no_grad():\n",
    "    for data, target in tqdm(test_loader, desc='MNIST HIST'):\n",
    "        data = data.view((-1,1,28,28)).to(device)\n",
    "        rates = get_arate(data)\n",
    "        for f, l in  zip(rates, target):\n",
    "            if l != mnist_class_anomaly:\n",
    "                firings_mnist['MNIST'].append(f)\n",
    "            else:\n",
    "                firings_mnist['DISSIDENT'].append(f)\n",
    "        \n",
    "\n",
    "labels, data = firings_mnist.keys(), firings_mnist.values()\n",
    "\n",
    "fig = plt.figure(figsize =(12, 2))\n",
    "plt.boxplot(data, notch=True, showfliers=False)\n",
    "plt.xticks(range(1, len(labels) + 1), labels)\n",
    "plt.show()\n",
    "\n",
    "writer.add_figure('Anomaly Detection', fig)"
   ]
  },
  {
   "cell_type": "code",
   "execution_count": null,
   "metadata": {},
   "outputs": [
    {
     "data": {
      "image/png": "[encoded data removed]",
      "text/plain": [
       "<Figure size 400x400 with 1 Axes>"
      ]
     },
     "metadata": {},
     "output_type": "display_data"
    }
   ],
   "source": [
    "with torch.no_grad():\n",
    "    firing_levels = []\n",
    "    lab_true = []\n",
    "    lab_pred = []\n",
    "\n",
    "    for data, lab in tqdm(test_loader, desc='Test MNIST', disable=True):\n",
    "        data = data.view((-1,1,28,28)).to(device)\n",
    "        rates = get_arate(data)\n",
    "        \n",
    "        for f, l in  zip(rates, lab):\n",
    "            firing_levels.append(f)\n",
    "            lab_pred.append(f)        \n",
    "            if l == mnist_class_anomaly:\n",
    "                lab_true.append(0)\n",
    "            else:\n",
    "                lab_true.append(1)\n",
    "                    \n",
    "    fpr, tpr, threshold = metrics.roc_curve(lab_true, lab_pred)\n",
    "    roc_auc = metrics.auc(fpr, tpr)\n",
    "    \n",
    "    fig = plt.figure(figsize =(4, 4))\n",
    "    plt.title('Receiver Operating Characteristic')\n",
    "    plt.plot(fpr, tpr, 'b', label = 'AUC = %0.2f' % roc_auc)\n",
    "    plt.legend(loc = 'lower right')\n",
    "    plt.plot([0, 1], [0, 1],'r--')\n",
    "    plt.xlim([0, 1])\n",
    "    plt.ylim([0, 1])\n",
    "    plt.ylabel('True Positive Rate')\n",
    "    plt.xlabel('False Positive Rate')\n",
    "    plt.show()\n",
    "    writer.add_figure('ROC', fig)"
   ]
  }
 ],
 "metadata": {
  "kernelspec": {
   "display_name": "Python 3",
   "language": "python",
   "name": "python3"
  },
  "language_info": {
   "codemirror_mode": {
    "name": "ipython",
    "version": 3
   },
   "file_extension": ".py",
   "mimetype": "text/x-python",
   "name": "python",
   "nbconvert_exporter": "python",
   "pygments_lexer": "ipython3",
   "version": "3.8.10"
  }
 },
 "nbformat": 4,
 "nbformat_minor": 2
}
